{
 "cells": [
  {
   "cell_type": "markdown",
   "metadata": {},
   "source": [
    "## Setup"
   ]
  },
  {
   "cell_type": "code",
   "execution_count": 1,
   "metadata": {},
   "outputs": [
    {
     "name": "stderr",
     "output_type": "stream",
     "text": [
      "┌ Warning: RCall.jl: Loading required package: StanHeaders\n",
      "│ Loading required package: ggplot2\n",
      "│ rstan (Version 2.19.3, GitRev: 2e1f913d3ca3)\n",
      "│ For execution on a local, multicore CPU with excess RAM we recommend calling\n",
      "│ options(mc.cores = parallel::detectCores()).\n",
      "│ To avoid recompilation of unchanged Stan programs, we recommend calling\n",
      "│ rstan_options(auto_write = TRUE)\n",
      "└ @ RCall /home/kusti/.julia/packages/RCall/Qzssx/src/io.jl:160\n",
      "┌ Warning: RCall.jl: \n",
      "│ Attaching package: ‘dplyr’\n",
      "│ \n",
      "│ The following objects are masked from ‘package:stats’:\n",
      "│ \n",
      "│     filter, lag\n",
      "│ \n",
      "│ The following objects are masked from ‘package:base’:\n",
      "│ \n",
      "│     intersect, setdiff, setequal, union\n",
      "│ \n",
      "└ @ RCall /home/kusti/.julia/packages/RCall/Qzssx/src/io.jl:160\n",
      "┌ Warning: RCall.jl: \n",
      "│ Attaching package: ‘lubridate’\n",
      "│ \n",
      "│ The following objects are masked from ‘package:base’:\n",
      "│ \n",
      "│     date, intersect, setdiff, union\n",
      "│ \n",
      "└ @ RCall /home/kusti/.julia/packages/RCall/Qzssx/src/io.jl:160\n",
      "┌ Warning: RCall.jl: This is bayesplot version 1.7.2\n",
      "│ - Online documentation and vignettes at mc-stan.org/bayesplot\n",
      "│ - bayesplot theme set to bayesplot::theme_default()\n",
      "│    * Does _not_ affect other ggplot2 plots\n",
      "│    * See ?bayesplot_theme_set for details on theme setting\n",
      "└ @ RCall /home/kusti/.julia/packages/RCall/Qzssx/src/io.jl:160\n"
     ]
    },
    {
     "data": {
      "text/plain": [
       "RObject{NilSxp}\n",
       "NULL\n"
      ]
     },
     "execution_count": 1,
     "metadata": {},
     "output_type": "execute_result"
    }
   ],
   "source": [
    "using RCall\n",
    "\n",
    "R\"\"\"\n",
    "library(rstan)\n",
    "library(dplyr)\n",
    "library(lubridate)\n",
    "library(ggplot2)\n",
    "library(bayesplot)\n",
    "\n",
    "theme_set(bayesplot::theme_default())\n",
    "\n",
    "# seed for R's pseudo-RNGs, not Stan's\n",
    "set.seed(1123) \n",
    "\"\"\"\n",
    "\n",
    "# Julia implementation:"
   ]
  },
  {
   "cell_type": "markdown",
   "metadata": {},
   "source": [
    "## The problem\n",
    "\n",
    "### Background\n",
    "\n",
    "Imagine that you are a statistician or data scientist working as an independent contractor. One of your clients is a company that owns many residential buildings  throughout New York City. The property manager explains that they are concerned about the number of cockroach complaints that they receive from their buildings. Previously the company has offered monthly visits from a pest inspector as a solution to this problem. While this is the default solution of many property managers in NYC, the tenants are rarely home when the inspector visits, and so the manager reasons that this is a relatively expensive solution that is currently not very effective.\n",
    "\n",
    "One alternative to this problem is to deploy long term bait stations. In this alternative, child and pet safe bait stations are installed throughout the apartment building. Cockroaches obtain quick acting poison from these stations and distribute it throughout the colony. The manufacturer of these bait stations provides some indication of the space-to-bait efficacy, but the manager suspects that this guidance was not calculated with NYC roaches in mind. NYC roaches, the manager rationalizes, have more hustle than traditional roaches; and NYC buildings are built differently than other common residential buildings in the US. This is particularly important as the unit cost for each bait station per year is quite high.\n",
    "\n",
    "### The goal\n",
    "\n",
    "The manager wishes to employ your services to help them to find the optimal number of roach bait stations they should place in each of their buildings in order to minimize the number of cockroach complaints while also keeping expenditure on pest control affordable. \n",
    "\n",
    "A subset of the company's buildings have been randomly selected for an experiment: \n",
    "\n",
    "  * At the beginning of each month, a pest inspector randomly places a number of\n",
    "\n",
    "bait stations throughout the building, without knowledge of the current cockroach levels in the building\n",
    "\n",
    "  * At the end of the month, the manager records\n",
    "\n",
    "the total number of cockroach complaints in that building. \n",
    "\n",
    "  * The manager would like to determine the optimal number of traps ($\\textrm{traps}$) that\n",
    "\n",
    "balances the lost revenue ($R$) that complaints ($\\textrm{complaints}$) generate with the all-in cost of maintaining the traps ($\\textrm{TC}$). \n",
    "\n",
    "Fortunately, Bayesian data analysis provides a coherent framework for us to tackle this problem.\n",
    "\n",
    "Formally, we are interested in finding\n",
    "\n",
    ":$\n",
    "\n",
    "\\arg\\max*{\\textrm{traps} \\in \\mathbb{N}} \\mathbb{E}*{\\text{complaints}}[R(\\textrm{complaints}(\\textrm{traps})) - \\textrm{TC}(\\textrm{traps})] :$\n",
    "\n",
    "The property manager would also, if possible, like to learn how these results  generalize to buildings they haven't treated so they can understand the potential costs of pest control at buildings they are acquiring as well as for the rest of their building portfolio.\n",
    "\n",
    "As the property manager has complete control over the number of traps set, the random variable contributing to this expectation is the number of complaints given the number of traps. We will model the number of complaints as a function of the number of traps.\n",
    "\n",
    "## The data\n",
    "\n",
    "The data provided to us is in a file called `pest_data.RDS`. Let's load the data and see what the structure is:"
   ]
  },
  {
   "cell_type": "code",
   "execution_count": 2,
   "metadata": {},
   "outputs": [],
   "source": [
    "R\"\"\"\n",
    "pest_data <- readRDS('data/pest_data.RDS')\n",
    "#str(pest_data)\n",
    "\"\"\"\n",
    "\n",
    "# Julia implementation:\n",
    "using RData\n",
    "using FileIO\n",
    "\n",
    "pest_data = load(File(format\"RDataSingle\", \"data/pest_data.RDS\"));"
   ]
  },
  {
   "cell_type": "markdown",
   "metadata": {},
   "source": [
    "We have access to the following fields: \n",
    "\n",
    "  * `complaints`: Number of complaints per building per month\n",
    "  * `building_id`: The unique building identifier\n",
    "  * `traps`: The number of traps used per month per building\n",
    "  * `date`: The date at which the number of complaints are recorded\n",
    "  * `live_in_super`: An indicator for whether the building as a live-in super\n",
    "  * `age_of_building`: The age of the building\n",
    "  * `total_sq_foot`: The total square footage of the building\n",
    "  * `average_tenant_age`: The average age of the tenants per building\n",
    "  * `monthly_average_rent`: The average monthly rent per building\n",
    "  * `floors`: The number of floors per building\n",
    "\n",
    "First, let's see how many buildings we have data for:"
   ]
  },
  {
   "cell_type": "markdown",
   "metadata": {},
   "source": [
    "## Exercise: Unique buildings\n",
    "\n",
    "Find out how many unique building there are in the data set."
   ]
  },
  {
   "cell_type": "code",
   "execution_count": 3,
   "metadata": {},
   "outputs": [
    {
     "data": {
      "text/plain": [
       "10"
      ]
     },
     "execution_count": 3,
     "metadata": {},
     "output_type": "execute_result"
    }
   ],
   "source": [
    "R\"\"\"\n",
    "N_buildings <- length(unique(pest_data$building_id))\n",
    "N_buildings\n",
    "\"\"\"\n",
    "\n",
    "# Julia implementation:\n",
    "N_buildings = length(unique(pest_data.building_id)); N_buildings"
   ]
  },
  {
   "cell_type": "markdown",
   "metadata": {},
   "source": [
    "And make some plots of the raw data:"
   ]
  },
  {
   "cell_type": "markdown",
   "metadata": {},
   "source": [
    "## Exercise: fixing the type of live_in_super\n",
    "\n",
    "The column `live_in_super` has the wrong data type. The column indicates whether there is a live-in superintended in the building, so it is best encoded as a boolean, however the values are given as floats. Convert the column to the correct data type."
   ]
  },
  {
   "cell_type": "code",
   "execution_count": 4,
   "metadata": {},
   "outputs": [],
   "source": [
    "using DataFrames\n",
    "transform!(pest_data, :live_in_super => (x -> convert.(Bool, x)) => :live_in_super);"
   ]
  },
  {
   "cell_type": "markdown",
   "metadata": {},
   "source": [
    "## Exploratory data analysis"
   ]
  },
  {
   "cell_type": "markdown",
   "metadata": {},
   "source": [
    "### Exercise: DataVoyager\n",
    "\n",
    "Use DataVoyager to explore the dataset. What features do you believe would be useful in modeling the number of complaints?"
   ]
  },
  {
   "cell_type": "code",
   "execution_count": 5,
   "metadata": {},
   "outputs": [
    {
     "name": "stderr",
     "output_type": "stream",
     "text": [
      "[293259:0705/185038.265763:ERROR:buffer_manager.cc(488)] [.DisplayCompositor]GL ERROR :GL_INVALID_OPERATION : glBufferData: <- error from previous GL command\n"
     ]
    }
   ],
   "source": [
    "using DataVoyager\n",
    "p = pest_data |> Voyager();\n",
    "#p[]"
   ]
  },
  {
   "cell_type": "code",
   "execution_count": 6,
   "metadata": {},
   "outputs": [],
   "source": [
    "@rlibrary ggplot2"
   ]
  },
  {
   "cell_type": "code",
   "execution_count": 7,
   "metadata": {},
   "outputs": [
    {
     "data": {
      "image/png": "[encoded data removed]"
     },
     "metadata": {},
     "output_type": "display_data"
    },
    {
     "data": {
      "text/plain": [
       "RObject{VecSxp}\n"
      ]
     },
     "execution_count": 7,
     "metadata": {},
     "output_type": "execute_result"
    }
   ],
   "source": [
    "R\"\"\"\n",
    "ggplot(pest_data, aes(x = complaints)) + \n",
    "  geom_bar()\n",
    "\"\"\"\n",
    "\n",
    "ggplot(pest_data, aes(x=:complaints)) + geom_bar()"
   ]
  },
  {
   "cell_type": "code",
   "execution_count": 8,
   "metadata": {},
   "outputs": [
    {
     "data": {
      "image/png": "[encoded data removed]"
     },
     "metadata": {},
     "output_type": "display_data"
    },
    {
     "data": {
      "text/plain": [
       "RObject{VecSxp}\n"
      ]
     },
     "execution_count": 8,
     "metadata": {},
     "output_type": "execute_result"
    }
   ],
   "source": [
    "R\"\"\"\n",
    "ggplot(pest_data, aes(x = traps, y = complaints, color = live_in_super == TRUE)) + \n",
    "  geom_jitter()\n",
    "\"\"\"\n",
    "\n",
    "# Julia implementation:\n",
    "ggplot(pest_data, aes(x = :traps, y = :complaints, color = :live_in_super)) + geom_jitter()"
   ]
  },
  {
   "cell_type": "markdown",
   "metadata": {},
   "source": [
    "## Exercies: range method\n",
    "Extend the `Base.range` method to dispatch on vectors. The output should be a vector with two elements: the miminum and the maximum of the elements in the argument vector. "
   ]
  },
  {
   "cell_type": "code",
   "execution_count": 9,
   "metadata": {},
   "outputs": [],
   "source": [
    "Base.range(x::Vector) = [minimum(x), maximum(x)]"
   ]
  },
  {
   "cell_type": "code",
   "execution_count": 10,
   "metadata": {},
   "outputs": [
    {
     "data": {
      "image/png": "[encoded data removed]"
     },
     "metadata": {},
     "output_type": "display_data"
    },
    {
     "data": {
      "text/plain": [
       "RObject{VecSxp}\n"
      ]
     },
     "execution_count": 10,
     "metadata": {},
     "output_type": "execute_result"
    }
   ],
   "source": [
    "R\"\"\"\n",
    "ggplot(pest_data, aes(x = date, y = complaints, color = live_in_super == TRUE)) + \n",
    "  geom_line(aes(linetype = \"Number of complaints\")) + \n",
    "  geom_point(color = \"black\") + \n",
    "  geom_line(aes(y = traps, linetype = \"Number of traps\"), color = \"black\", size = 0.25) + \n",
    "  facet_wrap(~building_id, scales = \"free\", ncol = 2, labeller = label_both) + \n",
    "  scale_x_date(name = \"Month\", date_labels = \"%b\") + \n",
    "  scale_y_continuous(name = \"\", limits = range(pest_data$complaints)) + \n",
    "  scale_linetype_discrete(name = \"\") + \n",
    "  scale_color_discrete(name = \"Live-in super\")\n",
    "\"\"\"\n",
    "\n",
    "# Julia implementation:\n",
    "ggplot(pest_data, aes(x = :date, y = :complaints, color = :live_in_super)) + \n",
    "  geom_line(aes(linetype = \"Number of complaints\")) + \n",
    "  geom_point(color = \"black\") + \n",
    "  geom_line(aes(y = :traps, linetype = \"Number of traps\"), color = \"black\", size = 0.25) + \n",
    "  facet_wrap(R\"~building_id\", scales = \"free\", ncol = 2, labeller = label_both) +\n",
    "  scale_x_date(name = \"Month\", date_labels = \"%b\") +\n",
    "  scale_y_continuous(name = \"\", limits = range(pest_data.complaints)) + \n",
    "  scale_linetype_discrete(name = \"\") + \n",
    "  scale_color_discrete(name = \"Live-in super\")"
   ]
  },
  {
   "cell_type": "markdown",
   "metadata": {},
   "source": [
    "The first question we'll look at is just whether the number of complaints per building per month is associated with the number of bait stations per building per month, ignoring the temporal and across-building variation (we'll come back to those sources of variation later in the document). That requires only two variables, $\\textrm{complaints}$ and $\\textrm{traps}$. How should we model the number of complaints?\n",
    "\n",
    "## Bayesian workflow\n",
    "\n",
    "See slides\n",
    "\n",
    "## Modeling count data : Poisson distribution\n",
    "\n",
    "We already know some rudimentary information about what we should expect. The number of complaints over a month should be either zero or an integer. The property manager tells us that it is possible but unlikely that number of complaints in a given month is zero. Occasionally there are a very large number of complaints in a single month. A common way of modeling this sort of skewed, single bounded count data is as a Poisson random variable. One concern about modeling the outcome variable as Poisson is that the data may be over-dispersed, but we'll start with the Poisson model and then check  whether over-dispersion is a problem by comparing our model's predictions  to the data.\n",
    "\n",
    "### Model\n",
    "\n",
    "Given that we have chosen a Poisson regression, we define the likelihood to be the Poisson probability mass function over the number bait stations placed in the building, denoted below as `traps`. This model assumes that the mean and variance of the outcome variable `complaints` (number of complaints) is the same. We'll investigate whether this is a good assumption after we fit the  model.\n",
    "\n",
    "For building $b = 1,\\dots,10$ at time (month) $t = 1,\\dots,12$, we have\n",
    "\n",
    ":$\n",
    "\n",
    "\\begin{align*} \\textrm{complaints}*{b,t} & \\sim \\textrm{Poisson}(\\lambda*{b,t}) \\\n",
    "\\lambda*{b,t} & = \\exp{(\\eta*{b,t})} \\\n",
    "\\eta*{b,t} &= \\alpha + \\beta \\, \\textrm{traps}*{b,t} \\end{align*} :$\n",
    "\n",
    "Let's encode this probability model in a Stan program. \n",
    "\n",
    "### Writing our first Stan model\n",
    "\n",
    "  * Write `simple_poisson_regression.stan` together\n",
    "\n",
    "### Making sure our code is right\n",
    "\n",
    "However, before we fit the model to real data, we should check that our model works well with simulated data. We'll simulate data according to the model and then check that we can sufficiently recover the parameter values used in the simulation.\n",
    "\n",
    "  * Write `simple_poisson_regression_dgp.stan` together\n",
    "\n",
    "We can use the `stan()` function to compile and fit the model, but here we will  do the compilation and fitting in two stages to demonstrate what is really  happening under the hood. \n",
    "\n",
    "First we will compile the Stan program (`simple_poisson_regression_dgp.stan`) that will generate the fake data."
   ]
  },
  {
   "cell_type": "code",
   "execution_count": 11,
   "metadata": {},
   "outputs": [
    {
     "data": {
      "text/plain": [
       "poisson_dgp (generic function with 1 method)"
      ]
     },
     "execution_count": 11,
     "metadata": {},
     "output_type": "execute_result"
    }
   ],
   "source": [
    "using Distributions\n",
    "\n",
    "function poisson_dgp(N, mean_traps)\n",
    "    α = rand(Normal(log(4), .1))\n",
    "    β = rand(Normal(-0.25, .1))\n",
    "    traps = rand(Poisson(mean_traps), N)\n",
    "    complaints = similar(traps)\n",
    "    for i in eachindex(traps)\n",
    "        complaints[i] = rand(Poisson(exp(α + β * traps[i])))\n",
    "    end\n",
    "\n",
    "    return (α = α, β = β, traps = traps, complaints = complaints)\n",
    "end"
   ]
  },
  {
   "cell_type": "code",
   "execution_count": 12,
   "metadata": {},
   "outputs": [],
   "source": [
    "fake_poisson = poisson_dgp(100, 5);"
   ]
  },
  {
   "cell_type": "code",
   "execution_count": 166,
   "metadata": {},
   "outputs": [
    {
     "data": {
      "text/plain": [
       "DynamicPPL.ModelGen{var\"###generator#291\",(:μ_α, :μ_β, :traps, :complaints),,Tuple{}}(##generator#291, NamedTuple())"
      ]
     },
     "execution_count": 166,
     "metadata": {},
     "output_type": "execute_result"
    }
   ],
   "source": [
    "using Turing\n",
    "\n",
    "Turing.@model simple_poisson_turing(μ_α, μ_β, traps, complaints) = begin\n",
    "    α ~ Normal(μ_α , .1)\n",
    "    β ~ Normal(μ_β, .1)\n",
    "\n",
    "    for i in eachindex(traps)\n",
    "        λ = exp(α + β * traps[i])\n",
    "        complaints ~ Poisson(λ)\n",
    "    end\n",
    "end"
   ]
  },
  {
   "cell_type": "code",
   "execution_count": 168,
   "metadata": {},
   "outputs": [
    {
     "data": {
      "text/plain": [
       "@model (μ_α, μ_β, traps) begin\n",
       "        β ~ Normal(μ_β, 1)\n",
       "        α ~ Normal(μ_α, 1)\n",
       "        complaints ~ For(eachindex(traps)) do i\n",
       "                λ = exp(α + β * traps[i])\n",
       "                Poisson(λ)\n",
       "            end\n",
       "    end\n"
      ]
     },
     "execution_count": 168,
     "metadata": {},
     "output_type": "execute_result"
    }
   ],
   "source": [
    "#R\"\"\"\n",
    "#comp_dgp_simple <- stan_model('stan_programs/simple_poisson_regression_dgp.stan')\n",
    "#\"\"\"\n",
    "\n",
    "# Julia implementation:\n",
    "using Soss\n",
    "\n",
    "mu_alpha = log(4)\n",
    "mu_beta = -0.25\n",
    "\n",
    "simple_poisson = @model (μ_α, μ_β, traps) begin\n",
    "    α ~ Normal(μ_α , 1)\n",
    "    β ~ Normal(μ_β, 1)\n",
    "\n",
    "    complaints ~ For(eachindex(traps)) do i\n",
    "        λ = exp(α + β * traps[i])\n",
    "        Poisson(λ)\n",
    "    end\n",
    "end"
   ]
  },
  {
   "cell_type": "code",
   "execution_count": 169,
   "metadata": {},
   "outputs": [],
   "source": [
    "using TransformVariables"
   ]
  },
  {
   "cell_type": "code",
   "execution_count": 170,
   "metadata": {},
   "outputs": [
    {
     "data": {
      "text/plain": [
       "(complaints = [1, 2, 1, 2, 1, 1, 4, 0, 3, 2  …  1, 3, 2, 0, 3, 1, 3, 0, 0, 0],)"
      ]
     },
     "execution_count": 170,
     "metadata": {},
     "output_type": "execute_result"
    }
   ],
   "source": [
    "args = (μ_α = log(4), μ_β=-0.25, traps=fake_poisson.traps)\n",
    "data = (; complaints = fake_poisson.complaints)"
   ]
  },
  {
   "cell_type": "code",
   "execution_count": 171,
   "metadata": {},
   "outputs": [
    {
     "data": {
      "text/plain": [
       "TransformVariables.TransformTuple{NamedTuple{(:β, :α),Tuple{TransformVariables.Identity,TransformVariables.Identity}}}((β = asℝ, α = asℝ), 2)"
      ]
     },
     "execution_count": 171,
     "metadata": {},
     "output_type": "execute_result"
    }
   ],
   "source": [
    "t = xform(simple_poisson(; args...), data)"
   ]
  },
  {
   "cell_type": "code",
   "execution_count": 172,
   "metadata": {
    "collapsed": true
   },
   "outputs": [
    {
     "name": "stdout",
     "output_type": "stream",
     "text": [
      "search: \u001b[0m\u001b[1ma\u001b[22m\u001b[0m\u001b[1md\u001b[22m\u001b[0m\u001b[1mv\u001b[22m\u001b[0m\u001b[1ma\u001b[22m\u001b[0m\u001b[1mn\u001b[22m\u001b[0m\u001b[1mc\u001b[22m\u001b[0m\u001b[1me\u001b[22m\u001b[0m\u001b[1md\u001b[22m\u001b[0m\u001b[1mH\u001b[22m\u001b[0m\u001b[1mM\u001b[22m\u001b[0m\u001b[1mC\u001b[22m\n",
      "\n"
     ]
    },
    {
     "data": {
      "text/latex": [
       "\\begin{verbatim}\n",
       "advancedHMC(m, data, N = 1000; n_adapts = 1000)\n",
       "\\end{verbatim}\n",
       "Draw \\texttt{N} samples from the posterior distribution of parameters defined in Soss model \\texttt{m}, conditional on \\texttt{data}. Samples are drawn using Hamiltonial Monte Carlo (HMC) from the \\texttt{advancedHMC.jl} package.\n",
       "\n",
       "\\subsection{Keywords}\n",
       "\\begin{itemize}\n",
       "\\item \\texttt{n\\_adapts = 1000}: The number of interations used to set HMC parameters.\n",
       "\n",
       "\\end{itemize}\n",
       "Returns a tuple of length 2:\n",
       "\n",
       "\\begin{itemize}\n",
       "\\item[1. ] Samples from the posterior distribution of parameters.  \n",
       "\n",
       "\n",
       "\\item[2. ] Sample summary statistics.  \n",
       "\n",
       "\\end{itemize}\n",
       "\\subsection{Example}\n",
       "\\begin{verbatim}\n",
       "\n",
       "using Random\n",
       "Random.seed!(42);\n",
       "\n",
       "m = @model x begin\n",
       "    β ~ Normal()\n",
       "    yhat = β .* x\n",
       "    y ~ For(eachindex(x)) do j\n",
       "        Normal(yhat[j], 2.0)\n",
       "    end\n",
       "end\n",
       "\n",
       "x = randn(3);\n",
       "truth = rand(m(x=x));\n",
       "\n",
       "post = advancedHMC(m(x=x), (y=truth.y,));\n",
       "E_β = mean(post[1])[1]\n",
       "\n",
       "println(\"true β: \" * string(round(truth.β, digits=2)))\n",
       "println(\"Posterior mean β: \" * string(round(E_β, digits=2)))\n",
       "\n",
       "# output\n",
       "true β: -0.3\n",
       "Posterior mean β: -0.25\n",
       "\\end{verbatim}\n"
      ],
      "text/markdown": [
       "```\n",
       "advancedHMC(m, data, N = 1000; n_adapts = 1000)\n",
       "```\n",
       "\n",
       "Draw `N` samples from the posterior distribution of parameters defined in Soss model `m`, conditional on `data`. Samples are drawn using Hamiltonial Monte Carlo (HMC) from the `advancedHMC.jl` package.\n",
       "\n",
       "## Keywords\n",
       "\n",
       "  * `n_adapts = 1000`: The number of interations used to set HMC parameters.\n",
       "\n",
       "Returns a tuple of length 2:\n",
       "\n",
       "1. Samples from the posterior distribution of parameters.\n",
       "2. Sample summary statistics.\n",
       "\n",
       "## Example\n",
       "\n",
       "```jldoctest\n",
       "\n",
       "using Random\n",
       "Random.seed!(42);\n",
       "\n",
       "m = @model x begin\n",
       "    β ~ Normal()\n",
       "    yhat = β .* x\n",
       "    y ~ For(eachindex(x)) do j\n",
       "        Normal(yhat[j], 2.0)\n",
       "    end\n",
       "end\n",
       "\n",
       "x = randn(3);\n",
       "truth = rand(m(x=x));\n",
       "\n",
       "post = advancedHMC(m(x=x), (y=truth.y,));\n",
       "E_β = mean(post[1])[1]\n",
       "\n",
       "println(\"true β: \" * string(round(truth.β, digits=2)))\n",
       "println(\"Posterior mean β: \" * string(round(E_β, digits=2)))\n",
       "\n",
       "# output\n",
       "true β: -0.3\n",
       "Posterior mean β: -0.25\n",
       "```\n"
      ],
      "text/plain": [
       "\u001b[36m  advancedHMC(m, data, N = 1000; n_adapts = 1000)\u001b[39m\n",
       "\n",
       "  Draw \u001b[36mN\u001b[39m samples from the posterior distribution of parameters defined in Soss\n",
       "  model \u001b[36mm\u001b[39m, conditional on \u001b[36mdata\u001b[39m. Samples are drawn using Hamiltonial Monte\n",
       "  Carlo (HMC) from the \u001b[36madvancedHMC.jl\u001b[39m package.\n",
       "\n",
       "\u001b[1m  Keywords\u001b[22m\n",
       "\u001b[1m  ==========\u001b[22m\n",
       "\n",
       "    •    \u001b[36mn_adapts = 1000\u001b[39m: The number of interations used to set HMC\n",
       "        parameters.\n",
       "\n",
       "  Returns a tuple of length 2:\n",
       "\n",
       "    1.   Samples from the posterior distribution of parameters. \n",
       "\n",
       "    2.   Sample summary statistics. \n",
       "\n",
       "\u001b[1m  Example\u001b[22m\n",
       "\u001b[1m  =========\u001b[22m\n",
       "\n",
       "\u001b[36m  \u001b[39m\n",
       "\u001b[36m  using Random\u001b[39m\n",
       "\u001b[36m  Random.seed!(42);\u001b[39m\n",
       "\u001b[36m  \u001b[39m\n",
       "\u001b[36m  m = @model x begin\u001b[39m\n",
       "\u001b[36m      β ~ Normal()\u001b[39m\n",
       "\u001b[36m      yhat = β .* x\u001b[39m\n",
       "\u001b[36m      y ~ For(eachindex(x)) do j\u001b[39m\n",
       "\u001b[36m          Normal(yhat[j], 2.0)\u001b[39m\n",
       "\u001b[36m      end\u001b[39m\n",
       "\u001b[36m  end\u001b[39m\n",
       "\u001b[36m  \u001b[39m\n",
       "\u001b[36m  x = randn(3);\u001b[39m\n",
       "\u001b[36m  truth = rand(m(x=x));\u001b[39m\n",
       "\u001b[36m  \u001b[39m\n",
       "\u001b[36m  post = advancedHMC(m(x=x), (y=truth.y,));\u001b[39m\n",
       "\u001b[36m  E_β = mean(post[1])[1]\u001b[39m\n",
       "\u001b[36m  \u001b[39m\n",
       "\u001b[36m  println(\"true β: \" * string(round(truth.β, digits=2)))\u001b[39m\n",
       "\u001b[36m  println(\"Posterior mean β: \" * string(round(E_β, digits=2)))\u001b[39m\n",
       "\u001b[36m  \u001b[39m\n",
       "\u001b[36m  # output\u001b[39m\n",
       "\u001b[36m  true β: -0.3\u001b[39m\n",
       "\u001b[36m  Posterior mean β: -0.25\u001b[39m"
      ]
     },
     "execution_count": 172,
     "metadata": {},
     "output_type": "execute_result"
    }
   ],
   "source": [
    "?advancedHMC"
   ]
  },
  {
   "cell_type": "code",
   "execution_count": 173,
   "metadata": {
    "collapsed": true
   },
   "outputs": [
    {
     "name": "stderr",
     "output_type": "stream",
     "text": [
      "┌ Warning: The current proposal will be rejected due to numerical error(s).\n",
      "│   isfinite.((θ, r, ℓπ, ℓκ)) = (true, true, true, false)\n",
      "└ @ AdvancedHMC /home/kusti/.julia/packages/AdvancedHMC/P9wqk/src/hamiltonian.jl:47\n"
     ]
    },
    {
     "data": {
      "text/plain": [
       "([[-1.0126383558416125, -1.3503540250166084], [-1.0126383558416125, -1.3503540250166084], [-0.3528949791218995, -1.2377833368429356], [-0.3528949791218995, -1.2377833368429356], [0.12328821564845134, -1.1346994643271782], [0.11589948195922468, -1.0817155584996738], [-0.23851254728611943, 1.266470944962914], [-0.22671536078331309, 1.2732186334625721], [-0.22671536078331309, 1.2732186334625721], [-0.203469089302394, 1.0270678286740806]  …  [-0.25735470886769035, 1.4912155411434225], [-0.3052288452465862, 1.3681019189523669], [-0.23846702795832553, 1.0566234593478123], [-0.33085251208740896, 1.5367439245448704], [-0.3375017493740316, 1.7401220753615345], [-0.28419405420010213, 1.569996216683314], [-0.32624733298414377, 1.585439757107554], [-0.24695435479662162, 1.0843692188747796], [-0.20008682177813364, 1.2208008141035538], [-0.20183425068245986, 1.099189885937456]], NamedTuple[(n_steps = 3, is_accept = true, acceptance_rate = 0.6666666666666666, log_density = -643.2116301452124, hamiltonian_energy = 926.4703901937239, hamiltonian_energy_error = -0.6946632817378031, max_hamiltonian_energy_error = 50814.02534518589, tree_depth = 1, numerical_error = true, step_size = 0.05, nom_step_size = 0.05, is_adapt = true), (n_steps = 1, is_accept = true, acceptance_rate = 0.0, log_density = -643.2116301452124, hamiltonian_energy = 643.4630543117692, hamiltonian_energy_error = 0.0, max_hamiltonian_energy_error = Inf, tree_depth = 0, numerical_error = true, step_size = 0.3923615970268779, nom_step_size = 0.3923615970268779, is_adapt = true), (n_steps = 1, is_accept = true, acceptance_rate = 1.0, log_density = -342.02812720943945, hamiltonian_energy = 633.5792384921828, hamiltonian_energy_error = -10.140930302217498, max_hamiltonian_energy_error = -10.140930302217498, tree_depth = 1, numerical_error = false, step_size = 0.05540779759885994, nom_step_size = 0.05540779759885994, is_adapt = true), (n_steps = 1, is_accept = true, acceptance_rate = 0.0, log_density = -342.02812720943945, hamiltonian_energy = 342.5666502003535, hamiltonian_energy_error = 0.0, max_hamiltonian_energy_error = 3.0986394203956206e6, tree_depth = 0, numerical_error = true, step_size = 0.07084536152260042, nom_step_size = 0.07084536152260042, is_adapt = true), (n_steps = 15, is_accept = true, acceptance_rate = 1.0, log_density = -181.18028440622476, hamiltonian_energy = 338.55679796525874, hamiltonian_energy_error = -3.760757219501329, max_hamiltonian_energy_error = -3.760757219501329, tree_depth = 4, numerical_error = false, step_size = 0.006256717693366901, nom_step_size = 0.006256717693366901, is_adapt = true), (n_steps = 7, is_accept = true, acceptance_rate = 0.9879347580958713, log_density = -179.13444845464963, hamiltonian_energy = 181.58989210012228, hamiltonian_energy_error = -2.656310709880927e-5, max_hamiltonian_energy_error = 0.027803787436795346, tree_depth = 3, numerical_error = false, step_size = 0.009387472976545975, nom_step_size = 0.009387472976545975, is_adapt = true), (n_steps = 47, is_accept = true, acceptance_rate = 0.9880650721275651, log_density = -128.94011934510584, hamiltonian_energy = 180.34624691404468, hamiltonian_energy_error = -0.04473907125458254, max_hamiltonian_energy_error = -0.05423204546099214, tree_depth = 5, numerical_error = false, step_size = 0.014992581642756264, nom_step_size = 0.014992581642756264, is_adapt = true), (n_steps = 1, is_accept = true, acceptance_rate = 0.803603260978872, log_density = -129.44253848067152, hamiltonian_energy = 129.47907289750722, hamiltonian_energy_error = 0.21864958808683355, max_hamiltonian_energy_error = 0.21864958808683355, tree_depth = 1, numerical_error = false, step_size = 0.025400409832574602, nom_step_size = 0.025400409832574602, is_adapt = true), (n_steps = 7, is_accept = true, acceptance_rate = 0.7087935927977066, log_density = -129.44253848067152, hamiltonian_energy = 130.78404128375638, hamiltonian_energy_error = 0.0, max_hamiltonian_energy_error = 1.0391314501819977, tree_depth = 2, numerical_error = false, step_size = 0.024961212333721585, nom_step_size = 0.024961212333721585, is_adapt = true), (n_steps = 25, is_accept = true, acceptance_rate = 1.0, log_density = -129.32110026847576, hamiltonian_energy = 130.83368694671162, hamiltonian_energy_error = -0.1327070792456766, max_hamiltonian_energy_error = -0.1327070792456766, tree_depth = 4, numerical_error = false, step_size = 0.018445273395853234, nom_step_size = 0.018445273395853234, is_adapt = true)  …  (n_steps = 3, is_accept = true, acceptance_rate = 0.03127706285619656, log_density = -130.97506477873037, hamiltonian_energy = 132.37106767909097, hamiltonian_energy_error = 2.366258032725028, max_hamiltonian_energy_error = 106.5792064862141, tree_depth = 1, numerical_error = false, step_size = 0.7838628988076166, nom_step_size = 0.7838628988076166, is_adapt = true), (n_steps = 11, is_accept = true, acceptance_rate = 0.9974068893140223, log_density = -130.77133443767454, hamiltonian_energy = 131.65319066760665, hamiltonian_energy_error = -0.011339593492664335, max_hamiltonian_energy_error = -0.047528841321536675, tree_depth = 3, numerical_error = false, step_size = 0.11543121741427548, nom_step_size = 0.11543121741427548, is_adapt = true), (n_steps = 23, is_accept = true, acceptance_rate = 0.9998625072912423, log_density = -130.2124289188694, hamiltonian_energy = 130.88771334331756, hamiltonian_energy_error = -0.0020149333866186225, max_hamiltonian_energy_error = -0.09898390794970169, tree_depth = 4, numerical_error = false, step_size = 0.19428951723040716, nom_step_size = 0.19428951723040716, is_adapt = true), (n_steps = 9, is_accept = true, acceptance_rate = 0.973459923040737, log_density = -131.20981635165617, hamiltonian_energy = 132.4288556470176, hamiltonian_energy_error = -0.1209677495172059, max_hamiltonian_energy_error = -0.288905297883872, tree_depth = 3, numerical_error = false, step_size = 0.3264958923331568, nom_step_size = 0.3264958923331568, is_adapt = true), (n_steps = 3, is_accept = true, acceptance_rate = 0.8398932372178063, log_density = -132.2790265598166, hamiltonian_energy = 132.84982800004408, hamiltonian_energy_error = -0.18857256649084775, max_hamiltonian_energy_error = 0.28250939860888025, tree_depth = 2, numerical_error = false, step_size = 0.5103334584577599, nom_step_size = 0.5103334584577599, is_adapt = true), (n_steps = 3, is_accept = true, acceptance_rate = 0.8139690829361866, log_density = -130.82592278669364, hamiltonian_energy = 133.10459190873598, hamiltonian_energy_error = 0.3927694906041097, max_hamiltonian_energy_error = 0.3927694906041097, tree_depth = 2, numerical_error = false, step_size = 0.5721891830388797, nom_step_size = 0.5721891830388797, is_adapt = true), (n_steps = 3, is_accept = true, acceptance_rate = 0.7717703995204584, log_density = -130.86147417811438, hamiltonian_energy = 131.35206757645858, hamiltonian_energy_error = -0.4670251896316415, max_hamiltonian_energy_error = 0.7443702738923434, tree_depth = 2, numerical_error = false, step_size = 0.6014820238946981, nom_step_size = 0.6014820238946981, is_adapt = true), (n_steps = 7, is_accept = true, acceptance_rate = 0.6148818856592193, log_density = -130.35254726799323, hamiltonian_energy = 132.22653195257968, hamiltonian_energy_error = 0.7522803580633024, max_hamiltonian_energy_error = 1.2315463124828625, tree_depth = 3, numerical_error = false, step_size = 0.5708045019360397, nom_step_size = 0.5708045019360397, is_adapt = true), (n_steps = 3, is_accept = true, acceptance_rate = 0.9596180094832724, log_density = -130.79545635482097, hamiltonian_energy = 130.94535431198742, hamiltonian_energy_error = 0.12913646055969252, max_hamiltonian_energy_error = -0.43388725676078366, tree_depth = 2, numerical_error = false, step_size = 0.37260751956812355, nom_step_size = 0.37260751956812355, is_adapt = true), (n_steps = 7, is_accept = true, acceptance_rate = 0.7472297134030713, log_density = -129.31453954860044, hamiltonian_energy = 130.2969459733825, hamiltonian_energy_error = -1.2282618954648967, max_hamiltonian_energy_error = 1.660676072857342, tree_depth = 2, numerical_error = false, step_size = 0.5543042083168572, nom_step_size = 0.5543042083168572, is_adapt = true)])"
      ]
     },
     "execution_count": 173,
     "metadata": {},
     "output_type": "execute_result"
    },
    {
     "name": "stderr",
     "output_type": "stream",
     "text": [
      "WARNING: both TransformVariables and DataFrames export \"transform\"; uses of it in module Main must be qualified\n"
     ]
    }
   ],
   "source": [
    "apost = advancedHMC(simple_poisson(; args...), data)"
   ]
  },
  {
   "cell_type": "code",
   "execution_count": 175,
   "metadata": {
    "collapsed": true
   },
   "outputs": [
    {
     "data": {
      "text/plain": [
       "1000-element Array{NamedTuple{(:β, :α),Tuple{Float64,Float64}},1}:\n",
       " (β = -1.0126383558416125, α = -1.3503540250166084)\n",
       " (β = -1.0126383558416125, α = -1.3503540250166084)\n",
       " (β = -0.3528949791218995, α = -1.2377833368429356)\n",
       " (β = -0.3528949791218995, α = -1.2377833368429356)\n",
       " (β = 0.12328821564845134, α = -1.1346994643271782)\n",
       " (β = 0.11589948195922468, α = -1.0817155584996738)\n",
       " (β = -0.23851254728611943, α = 1.266470944962914)\n",
       " (β = -0.22671536078331309, α = 1.2732186334625721)\n",
       " (β = -0.22671536078331309, α = 1.2732186334625721)\n",
       " (β = -0.203469089302394, α = 1.0270678286740806)\n",
       " (β = -0.24104036976289428, α = 1.2443392229507717)\n",
       " (β = -0.24087885966891243, α = 1.2244061151549896)\n",
       " (β = -0.2772852315235404, α = 1.4725263162816553)\n",
       " ⋮\n",
       " (β = -0.24264995375900755, α = 1.2331350889239516)\n",
       " (β = -0.2553543892074508, α = 1.3435657573818653)\n",
       " (β = -0.25735470886769035, α = 1.4912155411434225)\n",
       " (β = -0.3052288452465862, α = 1.3681019189523669)\n",
       " (β = -0.23846702795832553, α = 1.0566234593478123)\n",
       " (β = -0.33085251208740896, α = 1.5367439245448704)\n",
       " (β = -0.3375017493740316, α = 1.7401220753615345)\n",
       " (β = -0.28419405420010213, α = 1.569996216683314)\n",
       " (β = -0.32624733298414377, α = 1.585439757107554)\n",
       " (β = -0.24695435479662162, α = 1.0843692188747796)\n",
       " (β = -0.20008682177813364, α = 1.2208008141035538)\n",
       " (β = -0.20183425068245986, α = 1.099189885937456)"
      ]
     },
     "execution_count": 175,
     "metadata": {},
     "output_type": "execute_result"
    }
   ],
   "source": [
    "apost_transformed = TransformVariables.transform.(t, apost[1])"
   ]
  },
  {
   "cell_type": "code",
   "execution_count": 177,
   "metadata": {},
   "outputs": [],
   "source": [
    "apostdf = apost_transformed |> DataFrame;"
   ]
  },
  {
   "cell_type": "code",
   "execution_count": 178,
   "metadata": {},
   "outputs": [
    {
     "name": "stderr",
     "output_type": "stream",
     "text": [
      "┌ Warning: `colwise(f, d::AbstractDataFrame)` is deprecated, use `[f(col) for col = eachcol(d)]` instead.\n",
      "│   caller = top-level scope at In[178]:1\n",
      "└ @ Core In[178]:1\n"
     ]
    },
    {
     "data": {
      "text/plain": [
       "2-element Array{Float64,1}:\n",
       " -0.2439942639907491\n",
       "  1.2208239091879352"
      ]
     },
     "execution_count": 178,
     "metadata": {},
     "output_type": "execute_result"
    }
   ],
   "source": [
    "colwise(mean, apostdf)"
   ]
  },
  {
   "cell_type": "code",
   "execution_count": 176,
   "metadata": {
    "collapsed": true
   },
   "outputs": [
    {
     "data": {
      "text/plain": [
       "1000-element Array{NamedTuple{(:β, :α),Tuple{Float64,Float64}},1}:\n",
       " (β = -0.2158462280041762, α = 1.2323490004016904)\n",
       " (β = -0.22185298842225062, α = 1.2732075283904276)\n",
       " (β = -0.2562591707167035, α = 1.2461834158419058)\n",
       " (β = -0.24948518278092896, α = 1.3194731545618514)\n",
       " (β = -0.2599499519699126, α = 1.3027588386456124)\n",
       " (β = -0.3002740862678907, α = 1.487709256863969)\n",
       " (β = -0.2725223479515937, α = 1.3266547812692393)\n",
       " (β = -0.27084689928099237, α = 1.3114820759683588)\n",
       " (β = -0.26707441566918777, α = 1.2850887382381357)\n",
       " (β = -0.21380436252504725, α = 1.1512466492057165)\n",
       " (β = -0.20257365765174712, α = 1.029176225289548)\n",
       " (β = -0.2466882586980922, α = 1.2738577072439807)\n",
       " (β = -0.3161788900340716, α = 1.5580361764739823)\n",
       " ⋮\n",
       " (β = -0.1596656697553016, α = 1.001987767438011)\n",
       " (β = -0.19944633981328136, α = 0.7866678805234953)\n",
       " (β = -0.16643882904779478, α = 0.8235998362485637)\n",
       " (β = -0.23661189358430193, α = 1.0074605680406006)\n",
       " (β = -0.29480288306458347, α = 1.3200032103261123)\n",
       " (β = -0.2477893194475094, α = 1.1347236315302436)\n",
       " (β = -0.24363535526565114, α = 1.308755908536499)\n",
       " (β = -0.23240884211362334, α = 1.3447118897401493)\n",
       " (β = -0.2426984584072244, α = 1.3088786977713838)\n",
       " (β = -0.24057429633319993, α = 1.214891070245523)\n",
       " (β = -0.20335443837505413, α = 1.105584530507877)\n",
       " (β = -0.1717455629576824, α = 0.8472077408662748)"
      ]
     },
     "execution_count": 176,
     "metadata": {},
     "output_type": "execute_result"
    }
   ],
   "source": [
    "dpost = dynamicHMC(simple_poisson(; args...), data)"
   ]
  },
  {
   "cell_type": "code",
   "execution_count": 180,
   "metadata": {},
   "outputs": [
    {
     "data": {
      "text/html": [
       "<table class=\"data-frame\"><thead><tr><th></th><th>β</th><th>α</th></tr><tr><th></th><th>Float64</th><th>Float64</th></tr></thead><tbody><p>1,000 rows × 2 columns</p><tr><th>1</th><td>-0.215846</td><td>1.23235</td></tr><tr><th>2</th><td>-0.221853</td><td>1.27321</td></tr><tr><th>3</th><td>-0.256259</td><td>1.24618</td></tr><tr><th>4</th><td>-0.249485</td><td>1.31947</td></tr><tr><th>5</th><td>-0.25995</td><td>1.30276</td></tr><tr><th>6</th><td>-0.300274</td><td>1.48771</td></tr><tr><th>7</th><td>-0.272522</td><td>1.32665</td></tr><tr><th>8</th><td>-0.270847</td><td>1.31148</td></tr><tr><th>9</th><td>-0.267074</td><td>1.28509</td></tr><tr><th>10</th><td>-0.213804</td><td>1.15125</td></tr><tr><th>11</th><td>-0.202574</td><td>1.02918</td></tr><tr><th>12</th><td>-0.246688</td><td>1.27386</td></tr><tr><th>13</th><td>-0.316179</td><td>1.55804</td></tr><tr><th>14</th><td>-0.166202</td><td>0.775567</td></tr><tr><th>15</th><td>-0.183426</td><td>0.848449</td></tr><tr><th>16</th><td>-0.178002</td><td>1.02673</td></tr><tr><th>17</th><td>-0.206818</td><td>1.08556</td></tr><tr><th>18</th><td>-0.203015</td><td>0.991942</td></tr><tr><th>19</th><td>-0.196827</td><td>0.990651</td></tr><tr><th>20</th><td>-0.306106</td><td>1.38788</td></tr><tr><th>21</th><td>-0.293833</td><td>1.48368</td></tr><tr><th>22</th><td>-0.293833</td><td>1.48368</td></tr><tr><th>23</th><td>-0.260765</td><td>1.3895</td></tr><tr><th>24</th><td>-0.262174</td><td>1.34843</td></tr><tr><th>25</th><td>-0.218771</td><td>1.12421</td></tr><tr><th>26</th><td>-0.259617</td><td>1.33867</td></tr><tr><th>27</th><td>-0.226205</td><td>1.10823</td></tr><tr><th>28</th><td>-0.240234</td><td>1.25907</td></tr><tr><th>29</th><td>-0.249411</td><td>1.19212</td></tr><tr><th>30</th><td>-0.159309</td><td>0.961676</td></tr><tr><th>&vellip;</th><td>&vellip;</td><td>&vellip;</td></tr></tbody></table>"
      ],
      "text/latex": [
       "\\begin{tabular}{r|cc}\n",
       "\t& β & α\\\\\n",
       "\t\\hline\n",
       "\t& Float64 & Float64\\\\\n",
       "\t\\hline\n",
       "\t1 & -0.215846 & 1.23235 \\\\\n",
       "\t2 & -0.221853 & 1.27321 \\\\\n",
       "\t3 & -0.256259 & 1.24618 \\\\\n",
       "\t4 & -0.249485 & 1.31947 \\\\\n",
       "\t5 & -0.25995 & 1.30276 \\\\\n",
       "\t6 & -0.300274 & 1.48771 \\\\\n",
       "\t7 & -0.272522 & 1.32665 \\\\\n",
       "\t8 & -0.270847 & 1.31148 \\\\\n",
       "\t9 & -0.267074 & 1.28509 \\\\\n",
       "\t10 & -0.213804 & 1.15125 \\\\\n",
       "\t11 & -0.202574 & 1.02918 \\\\\n",
       "\t12 & -0.246688 & 1.27386 \\\\\n",
       "\t13 & -0.316179 & 1.55804 \\\\\n",
       "\t14 & -0.166202 & 0.775567 \\\\\n",
       "\t15 & -0.183426 & 0.848449 \\\\\n",
       "\t16 & -0.178002 & 1.02673 \\\\\n",
       "\t17 & -0.206818 & 1.08556 \\\\\n",
       "\t18 & -0.203015 & 0.991942 \\\\\n",
       "\t19 & -0.196827 & 0.990651 \\\\\n",
       "\t20 & -0.306106 & 1.38788 \\\\\n",
       "\t21 & -0.293833 & 1.48368 \\\\\n",
       "\t22 & -0.293833 & 1.48368 \\\\\n",
       "\t23 & -0.260765 & 1.3895 \\\\\n",
       "\t24 & -0.262174 & 1.34843 \\\\\n",
       "\t25 & -0.218771 & 1.12421 \\\\\n",
       "\t26 & -0.259617 & 1.33867 \\\\\n",
       "\t27 & -0.226205 & 1.10823 \\\\\n",
       "\t28 & -0.240234 & 1.25907 \\\\\n",
       "\t29 & -0.249411 & 1.19212 \\\\\n",
       "\t30 & -0.159309 & 0.961676 \\\\\n",
       "\t$\\dots$ & $\\dots$ & $\\dots$ \\\\\n",
       "\\end{tabular}\n"
      ],
      "text/plain": [
       "1000×2 DataFrame\n",
       "│ Row  │ β         │ α        │\n",
       "│      │ \u001b[90mFloat64\u001b[39m   │ \u001b[90mFloat64\u001b[39m  │\n",
       "├──────┼───────────┼──────────┤\n",
       "│ 1    │ -0.215846 │ 1.23235  │\n",
       "│ 2    │ -0.221853 │ 1.27321  │\n",
       "│ 3    │ -0.256259 │ 1.24618  │\n",
       "│ 4    │ -0.249485 │ 1.31947  │\n",
       "│ 5    │ -0.25995  │ 1.30276  │\n",
       "│ 6    │ -0.300274 │ 1.48771  │\n",
       "│ 7    │ -0.272522 │ 1.32665  │\n",
       "│ 8    │ -0.270847 │ 1.31148  │\n",
       "│ 9    │ -0.267074 │ 1.28509  │\n",
       "│ 10   │ -0.213804 │ 1.15125  │\n",
       "⋮\n",
       "│ 990  │ -0.199446 │ 0.786668 │\n",
       "│ 991  │ -0.166439 │ 0.8236   │\n",
       "│ 992  │ -0.236612 │ 1.00746  │\n",
       "│ 993  │ -0.294803 │ 1.32     │\n",
       "│ 994  │ -0.247789 │ 1.13472  │\n",
       "│ 995  │ -0.243635 │ 1.30876  │\n",
       "│ 996  │ -0.232409 │ 1.34471  │\n",
       "│ 997  │ -0.242698 │ 1.30888  │\n",
       "│ 998  │ -0.240574 │ 1.21489  │\n",
       "│ 999  │ -0.203354 │ 1.10558  │\n",
       "│ 1000 │ -0.171746 │ 0.847208 │"
      ]
     },
     "execution_count": 180,
     "metadata": {},
     "output_type": "execute_result"
    }
   ],
   "source": [
    "dpostdf = DataFrame(dpost)"
   ]
  },
  {
   "cell_type": "code",
   "execution_count": 181,
   "metadata": {},
   "outputs": [
    {
     "data": {
      "text/html": [
       "<table class=\"data-frame\"><thead><tr><th></th><th>β</th><th>α</th></tr><tr><th></th><th>Float64</th><th>Float64</th></tr></thead><tbody><p>1,000 rows × 2 columns</p><tr><th>1</th><td>-1.01264</td><td>-1.35035</td></tr><tr><th>2</th><td>-1.01264</td><td>-1.35035</td></tr><tr><th>3</th><td>-0.352895</td><td>-1.23778</td></tr><tr><th>4</th><td>-0.352895</td><td>-1.23778</td></tr><tr><th>5</th><td>0.123288</td><td>-1.1347</td></tr><tr><th>6</th><td>0.115899</td><td>-1.08172</td></tr><tr><th>7</th><td>-0.238513</td><td>1.26647</td></tr><tr><th>8</th><td>-0.226715</td><td>1.27322</td></tr><tr><th>9</th><td>-0.226715</td><td>1.27322</td></tr><tr><th>10</th><td>-0.203469</td><td>1.02707</td></tr><tr><th>11</th><td>-0.24104</td><td>1.24434</td></tr><tr><th>12</th><td>-0.240879</td><td>1.22441</td></tr><tr><th>13</th><td>-0.277285</td><td>1.47253</td></tr><tr><th>14</th><td>-0.299471</td><td>1.41816</td></tr><tr><th>15</th><td>-0.293137</td><td>1.414</td></tr><tr><th>16</th><td>-0.315471</td><td>1.58918</td></tr><tr><th>17</th><td>-0.252233</td><td>1.35944</td></tr><tr><th>18</th><td>-0.252233</td><td>1.35944</td></tr><tr><th>19</th><td>-0.227219</td><td>1.215</td></tr><tr><th>20</th><td>-0.26783</td><td>1.33318</td></tr><tr><th>21</th><td>-0.227073</td><td>1.24635</td></tr><tr><th>22</th><td>-0.278912</td><td>1.50634</td></tr><tr><th>23</th><td>-0.287652</td><td>1.40703</td></tr><tr><th>24</th><td>-0.239737</td><td>1.37834</td></tr><tr><th>25</th><td>-0.282376</td><td>1.31635</td></tr><tr><th>26</th><td>-0.185549</td><td>1.0669</td></tr><tr><th>27</th><td>-0.24831</td><td>1.07663</td></tr><tr><th>28</th><td>-0.229715</td><td>1.07763</td></tr><tr><th>29</th><td>-0.206219</td><td>1.12968</td></tr><tr><th>30</th><td>-0.251606</td><td>1.16999</td></tr><tr><th>&vellip;</th><td>&vellip;</td><td>&vellip;</td></tr></tbody></table>"
      ],
      "text/latex": [
       "\\begin{tabular}{r|cc}\n",
       "\t& β & α\\\\\n",
       "\t\\hline\n",
       "\t& Float64 & Float64\\\\\n",
       "\t\\hline\n",
       "\t1 & -1.01264 & -1.35035 \\\\\n",
       "\t2 & -1.01264 & -1.35035 \\\\\n",
       "\t3 & -0.352895 & -1.23778 \\\\\n",
       "\t4 & -0.352895 & -1.23778 \\\\\n",
       "\t5 & 0.123288 & -1.1347 \\\\\n",
       "\t6 & 0.115899 & -1.08172 \\\\\n",
       "\t7 & -0.238513 & 1.26647 \\\\\n",
       "\t8 & -0.226715 & 1.27322 \\\\\n",
       "\t9 & -0.226715 & 1.27322 \\\\\n",
       "\t10 & -0.203469 & 1.02707 \\\\\n",
       "\t11 & -0.24104 & 1.24434 \\\\\n",
       "\t12 & -0.240879 & 1.22441 \\\\\n",
       "\t13 & -0.277285 & 1.47253 \\\\\n",
       "\t14 & -0.299471 & 1.41816 \\\\\n",
       "\t15 & -0.293137 & 1.414 \\\\\n",
       "\t16 & -0.315471 & 1.58918 \\\\\n",
       "\t17 & -0.252233 & 1.35944 \\\\\n",
       "\t18 & -0.252233 & 1.35944 \\\\\n",
       "\t19 & -0.227219 & 1.215 \\\\\n",
       "\t20 & -0.26783 & 1.33318 \\\\\n",
       "\t21 & -0.227073 & 1.24635 \\\\\n",
       "\t22 & -0.278912 & 1.50634 \\\\\n",
       "\t23 & -0.287652 & 1.40703 \\\\\n",
       "\t24 & -0.239737 & 1.37834 \\\\\n",
       "\t25 & -0.282376 & 1.31635 \\\\\n",
       "\t26 & -0.185549 & 1.0669 \\\\\n",
       "\t27 & -0.24831 & 1.07663 \\\\\n",
       "\t28 & -0.229715 & 1.07763 \\\\\n",
       "\t29 & -0.206219 & 1.12968 \\\\\n",
       "\t30 & -0.251606 & 1.16999 \\\\\n",
       "\t$\\dots$ & $\\dots$ & $\\dots$ \\\\\n",
       "\\end{tabular}\n"
      ],
      "text/plain": [
       "1000×2 DataFrame\n",
       "│ Row  │ β         │ α        │\n",
       "│      │ \u001b[90mFloat64\u001b[39m   │ \u001b[90mFloat64\u001b[39m  │\n",
       "├──────┼───────────┼──────────┤\n",
       "│ 1    │ -1.01264  │ -1.35035 │\n",
       "│ 2    │ -1.01264  │ -1.35035 │\n",
       "│ 3    │ -0.352895 │ -1.23778 │\n",
       "│ 4    │ -0.352895 │ -1.23778 │\n",
       "│ 5    │ 0.123288  │ -1.1347  │\n",
       "│ 6    │ 0.115899  │ -1.08172 │\n",
       "│ 7    │ -0.238513 │ 1.26647  │\n",
       "│ 8    │ -0.226715 │ 1.27322  │\n",
       "│ 9    │ -0.226715 │ 1.27322  │\n",
       "│ 10   │ -0.203469 │ 1.02707  │\n",
       "⋮\n",
       "│ 990  │ -0.255354 │ 1.34357  │\n",
       "│ 991  │ -0.257355 │ 1.49122  │\n",
       "│ 992  │ -0.305229 │ 1.3681   │\n",
       "│ 993  │ -0.238467 │ 1.05662  │\n",
       "│ 994  │ -0.330853 │ 1.53674  │\n",
       "│ 995  │ -0.337502 │ 1.74012  │\n",
       "│ 996  │ -0.284194 │ 1.57     │\n",
       "│ 997  │ -0.326247 │ 1.58544  │\n",
       "│ 998  │ -0.246954 │ 1.08437  │\n",
       "│ 999  │ -0.200087 │ 1.2208   │\n",
       "│ 1000 │ -0.201834 │ 1.09919  │"
      ]
     },
     "execution_count": 181,
     "metadata": {},
     "output_type": "execute_result"
    }
   ],
   "source": [
    "apostdf"
   ]
  },
  {
   "cell_type": "code",
   "execution_count": null,
   "metadata": {},
   "outputs": [],
   "source": []
  },
  {
   "cell_type": "code",
   "execution_count": 48,
   "metadata": {},
   "outputs": [],
   "source": [
    "# Prior predictive\n",
    "rand(simple_poisson(μ_α = log(4), μ_β = -0.25, traps = rand(0:10, 5)), 100) |> DataFrame;"
   ]
  },
  {
   "cell_type": "code",
   "execution_count": 15,
   "metadata": {},
   "outputs": [],
   "source": [
    "#include(\"src/inference.jl\")\n",
    "#prior_predictive(simple_poisson(μ_α = log(4), μ_β = -0.25, traps = rand(0:10, 5)))"
   ]
  },
  {
   "cell_type": "markdown",
   "metadata": {},
   "source": [
    "Printing this object shows the Stan program:"
   ]
  },
  {
   "cell_type": "code",
   "execution_count": 16,
   "metadata": {},
   "outputs": [],
   "source": [
    "#R\"\"\"\n",
    "#print(comp_dgp_simple)\n",
    "#\"\"\"\n",
    "\n",
    "# Julia implementation:"
   ]
  },
  {
   "cell_type": "markdown",
   "metadata": {},
   "source": [
    "Now we can simulate the data by calling the `sampling()` function."
   ]
  },
  {
   "cell_type": "code",
   "execution_count": 17,
   "metadata": {},
   "outputs": [],
   "source": [
    "#R\"\"\"\n",
    "#fitted_model_dgp <- sampling(\n",
    "#  comp_dgp_simple,\n",
    "#  data = list(N = nrow(pest_data), mean_traps = mean(pest_data$traps)),\n",
    "#  chains = 1,\n",
    "#  iter = 1,\n",
    "#  algorithm = 'Fixed_param',\n",
    "#  seed = 123\n",
    "#  )\n",
    "#\n",
    "## see http://mc-stan.org/rstan/articles/stanfit_objects.html for various\n",
    "## ways of extracting the contents of the stanfit object\n",
    "#samps_dgp <- rstan::extract(fitted_model_dgp)\n",
    "#str(samps_dgp)\n",
    "#\"\"\"\n",
    "\n",
    "# Julia implementation:"
   ]
  },
  {
   "cell_type": "code",
   "execution_count": 18,
   "metadata": {},
   "outputs": [],
   "source": [
    "#reval(\"nuts_params(fitted_model_dgp)\")"
   ]
  },
  {
   "cell_type": "markdown",
   "metadata": {},
   "source": [
    "### Fit the model to the fake data:\n",
    "\n",
    "In order to pass the fake data to our Stan program using RStan, we need to arrange the data into a named list. The names must match the names used  in the `data` block of the Stan program."
   ]
  },
  {
   "cell_type": "code",
   "execution_count": 19,
   "metadata": {},
   "outputs": [],
   "source": [
    "#R\"\"\"\n",
    "#stan_dat_fake <- list(\n",
    "#  N = nrow(pest_data), \n",
    "#  traps = samps_dgp$traps[1, ], \n",
    "#  complaints = samps_dgp$complaints[1, ]\n",
    "#)\n",
    "#str(stan_dat_fake)\n",
    "#\"\"\"\n",
    "\n",
    "# Julia implementation:"
   ]
  },
  {
   "cell_type": "markdown",
   "metadata": {},
   "source": [
    "Now that we have the simulated data we fit the model to see if we can recover the `alpha` and `beta` parameters used in the simulation."
   ]
  },
  {
   "cell_type": "code",
   "execution_count": 21,
   "metadata": {
    "collapsed": true
   },
   "outputs": [],
   "source": [
    "fake_posterior = dynamicHMC(simple_poisson(μ_α = log(4), μ_β = -0.25, traps = fake_poisson.traps),\n",
    "    (complaints=fake_poisson.complaints,), 1000) |> DataFrame;"
   ]
  },
  {
   "cell_type": "code",
   "execution_count": 162,
   "metadata": {},
   "outputs": [
    {
     "data": {
      "text/plain": [
       "DynamicPPL.Model{var\"###evaluator#274\",(:μ_α, :μ_β, :traps, :complaints),Tuple{Float64,Float64,Array{Int64,1},Array{Int64,1}},,DynamicPPL.ModelGen{var\"###generator#275\",(:μ_α, :μ_β, :traps, :complaints),,Tuple{}}}(##evaluator#274, (μ_α = 1.3862943611198906, μ_β = -0.25, traps = [9, 2, 6, 6, 4, 6, 5, 8, 2, 6  …  4, 6, 4, 3, 5, 10, 3, 13, 6, 3], complaints = [1, 2, 1, 2, 1, 1, 4, 0, 3, 2  …  1, 3, 2, 0, 3, 1, 3, 0, 0, 0]), DynamicPPL.ModelGen{var\"###generator#275\",(:μ_α, :μ_β, :traps, :complaints),,Tuple{}}(##generator#275, NamedTuple()))"
      ]
     },
     "execution_count": 162,
     "metadata": {},
     "output_type": "execute_result"
    }
   ],
   "source": [
    "simple_poisson_turing(\n",
    "        log(4),\n",
    "        -.25,\n",
    "        fake_poisson.traps,\n",
    "        fake_poisson.complaints)"
   ]
  },
  {
   "cell_type": "code",
   "execution_count": 167,
   "metadata": {},
   "outputs": [
    {
     "ename": "MethodError",
     "evalue": "MethodError: no method matching +(::Float64, ::Array{Float64,1})\nClosest candidates are:\n  +(::Any, ::Any, !Matched::Any, !Matched::Any...) at operators.jl:529\n  +(::Float64, !Matched::Float64) at float.jl:401\n  +(!Matched::PyCall.PyObject, ::Any) at /home/kusti/.julia/packages/PyCall/zqDXB/src/pyoperators.jl:13\n  ...",
     "output_type": "error",
     "traceback": [
      "MethodError: no method matching +(::Float64, ::Array{Float64,1})\nClosest candidates are:\n  +(::Any, ::Any, !Matched::Any, !Matched::Any...) at operators.jl:529\n  +(::Float64, !Matched::Float64) at float.jl:401\n  +(!Matched::PyCall.PyObject, ::Any) at /home/kusti/.julia/packages/PyCall/zqDXB/src/pyoperators.jl:13\n  ...",
      "",
      "Stacktrace:",
      " [1] acclogp!(::DynamicPPL.VarInfo{DynamicPPL.Metadata{Dict{DynamicPPL.VarName,Int64},Array{Distribution,1},Array{DynamicPPL.VarName,1},Array{Real,1},Array{Set{DynamicPPL.Selector},1}},Float64}, ::Array{Float64,1}) at /home/kusti/.julia/packages/DynamicPPL/MRwtL/src/varinfo.jl:617",
      " [2] tilde_observe(::DynamicPPL.DefaultContext, ::DynamicPPL.SampleFromPrior, ::Poisson{Float64}, ::Array{Int64,1}, ::DynamicPPL.VarName{:complaints,Tuple{}}, ::Tuple{}, ::DynamicPPL.VarInfo{DynamicPPL.Metadata{Dict{DynamicPPL.VarName,Int64},Array{Distribution,1},Array{DynamicPPL.VarName,1},Array{Real,1},Array{Set{DynamicPPL.Selector},1}},Float64}) at /home/kusti/.julia/packages/DynamicPPL/MRwtL/src/context_implementations.jl:90",
      " [3] macro expansion at ./In[166]:9 [inlined]",
      " [4] ##evaluator#290(::Random._GLOBAL_RNG, ::DynamicPPL.Model{var\"###evaluator#290\",(:μ_α, :μ_β, :traps, :complaints),Tuple{Float64,Float64,Array{Int64,1},Array{Int64,1}},,DynamicPPL.ModelGen{var\"###generator#291\",(:μ_α, :μ_β, :traps, :complaints),,Tuple{}}}, ::DynamicPPL.VarInfo{DynamicPPL.Metadata{Dict{DynamicPPL.VarName,Int64},Array{Distribution,1},Array{DynamicPPL.VarName,1},Array{Real,1},Array{Set{DynamicPPL.Selector},1}},Float64}, ::DynamicPPL.SampleFromPrior, ::DynamicPPL.DefaultContext) at /home/kusti/.julia/packages/DynamicPPL/MRwtL/src/compiler.jl:356",
      " [5] evaluate_threadunsafe at /home/kusti/.julia/packages/DynamicPPL/MRwtL/src/model.jl:157 [inlined]",
      " [6] Model at /home/kusti/.julia/packages/DynamicPPL/MRwtL/src/model.jl:136 [inlined]",
      " [7] Model at /home/kusti/.julia/packages/DynamicPPL/MRwtL/src/model.jl:126 [inlined]",
      " [8] VarInfo at /home/kusti/.julia/packages/DynamicPPL/MRwtL/src/varinfo.jl:110 [inlined]",
      " [9] VarInfo at /home/kusti/.julia/packages/DynamicPPL/MRwtL/src/varinfo.jl:109 [inlined]",
      " [10] DynamicPPL.Sampler(::NUTS{Turing.Core.ForwardDiffAD{40},,AdvancedHMC.DiagEuclideanMetric}, ::DynamicPPL.Model{var\"###evaluator#290\",(:μ_α, :μ_β, :traps, :complaints),Tuple{Float64,Float64,Array{Int64,1},Array{Int64,1}},,DynamicPPL.ModelGen{var\"###generator#291\",(:μ_α, :μ_β, :traps, :complaints),,Tuple{}}}, ::DynamicPPL.Selector) at /home/kusti/.julia/packages/Turing/GMBTf/src/inference/hmc.jl:378",
      " [11] Sampler at /home/kusti/.julia/packages/Turing/GMBTf/src/inference/hmc.jl:376 [inlined]",
      " [12] sample(::Random._GLOBAL_RNG, ::DynamicPPL.Model{var\"###evaluator#290\",(:μ_α, :μ_β, :traps, :complaints),Tuple{Float64,Float64,Array{Int64,1},Array{Int64,1}},,DynamicPPL.ModelGen{var\"###generator#291\",(:μ_α, :μ_β, :traps, :complaints),,Tuple{}}}, ::NUTS{Turing.Core.ForwardDiffAD{40},,AdvancedHMC.DiagEuclideanMetric}, ::Int64; kwargs::Base.Iterators.Pairs{Union{},Union{},Tuple{},NamedTuple{,Tuple{}}}) at /home/kusti/.julia/packages/Turing/GMBTf/src/inference/Inference.jl:163",
      " [13] sample at /home/kusti/.julia/packages/Turing/GMBTf/src/inference/Inference.jl:163 [inlined]",
      " [14] #sample#1 at /home/kusti/.julia/packages/Turing/GMBTf/src/inference/Inference.jl:153 [inlined]",
      " [15] sample(::DynamicPPL.Model{var\"###evaluator#290\",(:μ_α, :μ_β, :traps, :complaints),Tuple{Float64,Float64,Array{Int64,1},Array{Int64,1}},,DynamicPPL.ModelGen{var\"###generator#291\",(:μ_α, :μ_β, :traps, :complaints),,Tuple{}}}, ::NUTS{Turing.Core.ForwardDiffAD{40},,AdvancedHMC.DiagEuclideanMetric}, ::Int64) at /home/kusti/.julia/packages/Turing/GMBTf/src/inference/Inference.jl:153",
      " [16] top-level scope at In[167]:1"
     ]
    }
   ],
   "source": [
    "turing_posterior = Turing.sample(\n",
    "    simple_poisson_turing(\n",
    "        log(4),\n",
    "        -.25,\n",
    "        fake_poisson.traps,\n",
    "        fake_poisson.complaints),\n",
    "    NUTS(200, 0.65), 2500)"
   ]
  },
  {
   "cell_type": "code",
   "execution_count": 24,
   "metadata": {
    "collapsed": true
   },
   "outputs": [
    {
     "ename": "UndefVarError",
     "evalue": "UndefVarError: mcmc_recover_hist not defined",
     "output_type": "error",
     "traceback": [
      "UndefVarError: mcmc_recover_hist not defined",
      "",
      "Stacktrace:",
      " [1] getproperty(::Module, ::Symbol) at ./Base.jl:26",
      " [2] mcmc_recover_hist(::DataFrame, ::NamedTuple{(:α, :β, :traps, :complaints),Tuple{Float64,Float64,Array{Int64,1},Array{Int64,1}}}; kwargs::Base.Iterators.Pairs{Union{},Union{},Tuple{},NamedTuple{,Tuple{}}}) at /home/kusti/src/github.com/kskyten/BayesPlot/src/BayesPlot.jl:69",
      " [3] mcmc_recover_hist(::DataFrame, ::NamedTuple{(:α, :β, :traps, :complaints),Tuple{Float64,Float64,Array{Int64,1},Array{Int64,1}}}) at /home/kusti/src/github.com/kskyten/BayesPlot/src/BayesPlot.jl:58",
      " [4] top-level scope at In[24]:2"
     ]
    }
   ],
   "source": [
    "#using BayesPlot\n",
    "#BayesPlot.mcmc_recover_hist(fake_posterior, fake_poisson)"
   ]
  },
  {
   "cell_type": "code",
   "execution_count": null,
   "metadata": {},
   "outputs": [],
   "source": [
    "#R\"\"\"\n",
    "#comp_model_P <- stan_model('stan_programs/simple_poisson_regression.stan')\n",
    "#fit_model_P <- sampling(comp_model_P, data = stan_dat_fake, seed = 123)\n",
    "#\n",
    "#posterior_alpha_beta <- as.matrix(fit_model_P, pars = c('alpha','beta'))\n",
    "#head(posterior_alpha_beta)\n",
    "#\"\"\"\n",
    "\n",
    "# Julia implementation:"
   ]
  },
  {
   "cell_type": "markdown",
   "metadata": {},
   "source": [
    "### Assess parameter recovery"
   ]
  },
  {
   "cell_type": "code",
   "execution_count": 50,
   "metadata": {},
   "outputs": [
    {
     "data": {
      "text/plain": [
       "ppc_dens_overlay (generic function with 1 method)"
      ]
     },
     "execution_count": 50,
     "metadata": {},
     "output_type": "execute_result"
    }
   ],
   "source": [
    "include(\"src/bayesplot.jl\")"
   ]
  },
  {
   "cell_type": "code",
   "execution_count": 49,
   "metadata": {},
   "outputs": [
    {
     "data": {
      "image/png": "[encoded data removed]"
     },
     "metadata": {},
     "output_type": "display_data"
    },
    {
     "data": {
      "text/plain": [
       "RObject{VecSxp}\n"
      ]
     },
     "execution_count": 49,
     "metadata": {},
     "output_type": "execute_result"
    }
   ],
   "source": [
    "mcmc_recover_hist(fake_posterior, fake_poisson, binwidth=0.01)"
   ]
  },
  {
   "cell_type": "code",
   "execution_count": null,
   "metadata": {},
   "outputs": [],
   "source": [
    "#R\"\"\"\n",
    "#true_alpha_beta <- c(samps_dgp$alpha, samps_dgp$beta)\n",
    "#mcmc_recover_hist(posterior_alpha_beta, true = true_alpha_beta)\n",
    "#\"\"\"\n",
    "\n",
    "# Julia implementation:"
   ]
  },
  {
   "cell_type": "markdown",
   "metadata": {},
   "source": [
    "We don't do a great job recovering the parameters here simply because we're simulating so few observations that the posterior uncertainty remains rather large, but it looks at least *plausible* ($\\alpha$ and $\\beta$ are contained within the histograms). If we did the simulation with many more observations the parameters would be estimated much more precisely.\n",
    "\n",
    "We should also check if the `y_rep` datasets (in-sample predictions) that we coded  in the `generated quantities` block are similar to the `y` (complaints) values we conditioned on when fitting the model. (The **bayesplot** package [vignettes](http://mc-stan.org/bayesplot/articles/graphical-ppcs.html) are a good resource on this topic.)\n",
    "\n",
    "Here is a plot of the density estimate of the observed data compared to  200 of the `y_rep` datasets:"
   ]
  },
  {
   "cell_type": "code",
   "execution_count": 137,
   "metadata": {},
   "outputs": [
    {
     "data": {
      "text/plain": [
       "posterior_predictive (generic function with 2 methods)"
      ]
     },
     "execution_count": 137,
     "metadata": {},
     "output_type": "execute_result"
    }
   ],
   "source": [
    "include(\"src/inference.jl\")"
   ]
  },
  {
   "cell_type": "code",
   "execution_count": 107,
   "metadata": {},
   "outputs": [],
   "source": [
    "args = (μ_α = log(4), μ_β = -0.25, traps = fake_poisson.traps)\n",
    "data = (complaints=fake_poisson.complaints,)\n",
    "joint = simple_poisson(; args...)\n",
    "mdl = model(joint)\n",
    "bound_arguments = arguments(joint)\n",
    "post = dynamicHMC(joint, data, 1000);"
   ]
  },
  {
   "cell_type": "code",
   "execution_count": 148,
   "metadata": {
    "collapsed": true
   },
   "outputs": [
    {
     "data": {
      "text/plain": [
       "([[-0.744402290461645, 0.11083160541934339], [-0.744402290461645, 0.11083160541934339], [-0.3826854044952241, 0.21786036039839007], [-0.1615914073315633, 0.23795316361723678], [-0.09083781390302648, 0.22207713298869283], [-0.10646869241295777, 0.6449833229288788], [-0.22996074883392334, 1.2686805978956819], [-0.1941778595320772, 1.1425915102434214], [-0.20020351989567142, 1.1336994190243044], [-0.18109557071402443, 1.1444691071385715]  …  [-0.1991584882994812, 0.9507916083514021], [-0.19895260804535486, 0.9175496562684019], [-0.19585940004363125, 1.0390025488830403], [-0.2244962526699379, 0.9735612474966392], [-0.20722754542009028, 1.098689704661805], [-0.16029063867446341, 0.894902494794809], [-0.15216270102106516, 0.7940084104806712], [-0.1704412615662831, 0.718963250677597], [-0.1566018681604827, 0.7357116560265344], [-0.16492378152341297, 0.9218094668656771]], NamedTuple[(n_steps = 2, is_accept = true, acceptance_rate = 0.5, log_density = -373.30498526388396, hamiltonian_energy = 627.2385208580426, hamiltonian_energy_error = -5.354601679027496, max_hamiltonian_energy_error = 5.916716910621264e9, tree_depth = 1, numerical_error = true, step_size = 0.05, nom_step_size = 0.05, is_adapt = true), (n_steps = 1, is_accept = true, acceptance_rate = 0.0, log_density = -373.30498526388396, hamiltonian_energy = 373.33137759381896, hamiltonian_energy_error = 0.0, max_hamiltonian_energy_error = 4.830613618906136e198, tree_depth = 0, numerical_error = true, step_size = 0.28978913939240475, nom_step_size = 0.28978913939240475, is_adapt = true), (n_steps = 2, is_accept = true, acceptance_rate = 0.5, log_density = -215.9625371455396, hamiltonian_energy = 362.45355478327957, hamiltonian_energy_error = -12.705973346889778, max_hamiltonian_energy_error = 479857.4001753394, tree_depth = 1, numerical_error = true, step_size = 0.037407949453665955, nom_step_size = 0.037407949453665955, is_adapt = true), (n_steps = 3, is_accept = true, acceptance_rate = 1.0, log_density = -148.7634788378912, hamiltonian_energy = 213.33591788613978, hamiltonian_energy_error = -3.046028178369397, max_hamiltonian_energy_error = -3.046028178369397, tree_depth = 2, numerical_error = false, step_size = 0.011989570276921525, nom_step_size = 0.011989570276921525, is_adapt = true), (n_steps = 3, is_accept = true, acceptance_rate = 1.0, log_density = -140.44871940519505, hamiltonian_energy = 148.5266905576139, hamiltonian_energy_error = -1.3337496498056964, max_hamiltonian_energy_error = -1.3337496498056964, tree_depth = 2, numerical_error = false, step_size = 0.016216620447397752, nom_step_size = 0.016216620447397752, is_adapt = true), (n_steps = 9, is_accept = true, acceptance_rate = 0.8496934533398034, log_density = -134.16598096869419, hamiltonian_energy = 142.32805482227906, hamiltonian_energy_error = 0.21789325863559839, max_hamiltonian_energy_error = 0.6148467944202309, tree_depth = 3, numerical_error = false, step_size = 0.025360278932457368, nom_step_size = 0.025360278932457368, is_adapt = true), (n_steps = 19, is_accept = true, acceptance_rate = 0.538541996736564, log_density = -129.23414765912784, hamiltonian_energy = 136.93858083714053, hamiltonian_energy_error = -0.041856477058757946, max_hamiltonian_energy_error = 2.5618652777554587, tree_depth = 4, numerical_error = false, step_size = 0.027245828456958655, nom_step_size = 0.027245828456958655, is_adapt = true), (n_steps = 27, is_accept = true, acceptance_rate = 0.9724070219274098, log_density = -130.12414592102985, hamiltonian_energy = 130.8456771747635, hamiltonian_energy_error = 0.07550228916363722, max_hamiltonian_energy_error = 0.0763681614951679, tree_depth = 4, numerical_error = false, step_size = 0.011505335301632884, nom_step_size = 0.011505335301632884, is_adapt = true), (n_steps = 3, is_accept = true, acceptance_rate = 0.6967045638419537, log_density = -129.60327843046392, hamiltonian_energy = 132.8918015425004, hamiltonian_energy_error = -0.10144213216852904, max_hamiltonian_energy_error = 1.2272076715915148, tree_depth = 2, numerical_error = false, step_size = 0.019072023358799386, nom_step_size = 0.019072023358799386, is_adapt = true), (n_steps = 3, is_accept = true, acceptance_rate = 0.856988807278968, log_density = -131.50146995179085, hamiltonian_energy = 131.88059110977764, hamiltonian_energy_error = 0.26446406958180546, max_hamiltonian_energy_error = 0.26446406958180546, tree_depth = 2, numerical_error = false, step_size = 0.013547883242848321, nom_step_size = 0.013547883242848321, is_adapt = true)  …  (n_steps = 1, is_accept = true, acceptance_rate = 2.821522021982645e-17, log_density = -129.84888887998258, hamiltonian_energy = 130.5799092312614, hamiltonian_energy_error = 0.0, max_hamiltonian_energy_error = 38.1066701174401, tree_depth = 1, numerical_error = false, step_size = 0.8404352275876785, nom_step_size = 0.8404352275876785, is_adapt = true), (n_steps = 3, is_accept = true, acceptance_rate = 0.9915340098084972, log_density = -130.23767454351662, hamiltonian_energy = 130.28589118926962, hamiltonian_energy_error = 0.008996751451860519, max_hamiltonian_energy_error = 0.009991165742832209, tree_depth = 2, numerical_error = false, step_size = 0.11430872702324746, nom_step_size = 0.11430872702324746, is_adapt = true), (n_steps = 7, is_accept = true, acceptance_rate = 0.99580167097137, log_density = -129.39285312855415, hamiltonian_energy = 130.46556451476587, hamiltonian_energy_error = -0.05365641897546425, max_hamiltonian_energy_error = -0.05365641897546425, tree_depth = 3, numerical_error = false, step_size = 0.18954241704815422, nom_step_size = 0.18954241704815422, is_adapt = true), (n_steps = 5, is_accept = true, acceptance_rate = 0.7818530614102418, log_density = -130.69336841841803, hamiltonian_energy = 130.99690725074782, hamiltonian_energy_error = 0.374263957621082, max_hamiltonian_energy_error = 0.41792435030717456, tree_depth = 2, numerical_error = false, step_size = 0.3152666152031479, nom_step_size = 0.3152666152031479, is_adapt = true), (n_steps = 3, is_accept = true, acceptance_rate = 1.0, log_density = -129.146402375595, hamiltonian_energy = 130.41197361788167, hamiltonian_energy_error = -0.35450615792635176, max_hamiltonian_energy_error = -0.35450615792635176, tree_depth = 2, numerical_error = false, step_size = 0.3077218512466008, nom_step_size = 0.3077218512466008, is_adapt = true), (n_steps = 7, is_accept = true, acceptance_rate = 0.44473188110860146, log_density = -130.6986154041421, hamiltonian_energy = 131.39305360233644, hamiltonian_energy_error = 0.11003068946590133, max_hamiltonian_energy_error = 2.2758126105490817, tree_depth = 3, numerical_error = false, step_size = 0.5115058240245862, nom_step_size = 0.5115058240245862, is_adapt = true), (n_steps = 7, is_accept = true, acceptance_rate = 0.9905854895146963, log_density = -131.1966150186119, hamiltonian_energy = 131.5678076779527, hamiltonian_energy_error = -0.021186551150321975, max_hamiltonian_energy_error = 0.03157476809249715, tree_depth = 3, numerical_error = false, step_size = 0.21992862011733788, nom_step_size = 0.21992862011733788, is_adapt = true), (n_steps = 3, is_accept = true, acceptance_rate = 0.6812232479933776, log_density = -132.33410825039041, hamiltonian_energy = 132.58495541367768, hamiltonian_energy_error = 0.39507878809266117, max_hamiltonian_energy_error = 0.49659786342778034, tree_depth = 2, numerical_error = false, step_size = 0.35563357441515786, nom_step_size = 0.35563357441515786, is_adapt = true), (n_steps = 3, is_accept = true, acceptance_rate = 0.9813477429153203, log_density = -131.65738910724613, hamiltonian_energy = 132.84377803045027, hamiltonian_energy_error = -0.1711446619938215, max_hamiltonian_energy_error = -0.1711446619938215, tree_depth = 2, numerical_error = false, step_size = 0.27279977832887325, nom_step_size = 0.27279977832887325, is_adapt = true), (n_steps = 3, is_accept = true, acceptance_rate = 0.9575933670922891, log_density = -130.49889773285284, hamiltonian_energy = 131.81424638885824, hamiltonian_energy_error = -0.0646729449223642, max_hamiltonian_energy_error = 0.08415806271108295, tree_depth = 2, numerical_error = false, step_size = 0.4280457946119394, nom_step_size = 0.4280457946119394, is_adapt = true)])"
      ]
     },
     "execution_count": 148,
     "metadata": {},
     "output_type": "execute_result"
    }
   ],
   "source": [
    "post2 = advancedHMC(joint, data, 1000)"
   ]
  },
  {
   "cell_type": "code",
   "execution_count": 151,
   "metadata": {},
   "outputs": [],
   "source": [
    "using DynamicHMC"
   ]
  },
  {
   "cell_type": "code",
   "execution_count": 154,
   "metadata": {},
   "outputs": [],
   "source": [
    "using DynamicHMC.Diagnostics"
   ]
  },
  {
   "cell_type": "code",
   "execution_count": 108,
   "metadata": {},
   "outputs": [
    {
     "data": {
      "text/plain": [
       "2-element Array{Symbol,1}:\n",
       " :α\n",
       " :β"
      ]
     },
     "execution_count": 108,
     "metadata": {},
     "output_type": "execute_result"
    }
   ],
   "source": [
    "latent_variables = setdiff(parameters(mdl), keys(data))"
   ]
  },
  {
   "cell_type": "code",
   "execution_count": 135,
   "metadata": {},
   "outputs": [
    {
     "data": {
      "text/plain": [
       "(α = 1.3651423175427833, β = -0.2425272918446436, complaints = [2, 3, 0, 0, 1, 1, 1, 0, 1, 0  …  3, 0, 2, 1, 1, 0, 3, 0, 0, 4])"
      ]
     },
     "execution_count": 135,
     "metadata": {},
     "output_type": "execute_result"
    }
   ],
   "source": [
    "pred = predictive(mdl, latent_variables...)\n",
    "pred_args = arguments(pred)\n",
    "const_args = NamedTupleTools.select(bound_arguments, intersect(pred_args, keys(bound_arguments)))\n",
    "post_draw = post[1]\n",
    "predargs = merge(const_args, post_draw)\n",
    "pred_draw = rand(pred(predargs))\n",
    "pd1 = delete(pred_draw, intersect(pred_args, keys(bound_arguments))...)\n",
    "merge(pd1, post_draw)"
   ]
  },
  {
   "cell_type": "code",
   "execution_count": 147,
   "metadata": {},
   "outputs": [
    {
     "data": {
      "image/png": "[encoded data removed]"
     },
     "metadata": {},
     "output_type": "display_data"
    },
    {
     "data": {
      "text/plain": [
       "RObject{VecSxp}\n"
      ]
     },
     "execution_count": 147,
     "metadata": {},
     "output_type": "execute_result"
    }
   ],
   "source": [
    "popre = posterior_predictive(simple_poisson(; args...), data, post) |> DataFrame\n",
    "complaints_rep = hcat(popre.complaints...)'\n",
    "\n",
    "@rimport bayesplot\n",
    "bayesplot.ppc_dens_overlay(fake_poisson.complaints, complaints_rep)"
   ]
  },
  {
   "cell_type": "code",
   "execution_count": null,
   "metadata": {},
   "outputs": [],
   "source": [
    "#R\"\"\"\n",
    "#y_rep <- as.matrix(fit_model_P, pars = \"y_rep\")\n",
    "#ppc_dens_overlay(y = stan_dat_fake$complaints, yrep = y_rep[1:200, ])\n",
    "#\"\"\"\n",
    "\n",
    "# Julia implementation:"
   ]
  },
  {
   "cell_type": "code",
   "execution_count": null,
   "metadata": {},
   "outputs": [],
   "source": [
    "R\"\"\"\n",
    "ppc_dens_overlay(y=$y, yrep=$(y_rep[1:200, :]))\n",
    "\"\"\""
   ]
  },
  {
   "cell_type": "markdown",
   "metadata": {},
   "source": [
    "In the plot above we have the kernel density estimate of the observed data ($y$, thicker curve) and 200 simulated data sets ($y_{rep}$, thin curves) from the posterior predictive distribution. If the model fits the data well, as it does here, there is little difference between the observed dataset and the simulated datasets.\n",
    "\n",
    "Another plot we can make for count data is a rootogram. This is a plot of the expected counts (continuous line) vs the observed counts (blue histogram). We can see the model fits well because the observed histogram matches the expected counts relatively well."
   ]
  },
  {
   "cell_type": "code",
   "execution_count": null,
   "metadata": {},
   "outputs": [],
   "source": [
    "R\"\"\"\n",
    "ppc_rootogram(stan_dat_fake$complaints, yrep = y_rep)\n",
    "\"\"\"\n",
    "\n",
    "# Julia implementation:"
   ]
  },
  {
   "cell_type": "code",
   "execution_count": null,
   "metadata": {},
   "outputs": [],
   "source": [
    "R\"\"\"\n",
    "ppc_rootogram($y, yrep=$(y_rep))\n",
    "\"\"\""
   ]
  },
  {
   "cell_type": "markdown",
   "metadata": {},
   "source": [
    "### Fit with real data\n",
    "\n",
    "To fit the model to the actual observed data we'll first create a list to pass to Stan using the variables in the `pest_data` data frame:"
   ]
  },
  {
   "cell_type": "code",
   "execution_count": null,
   "metadata": {},
   "outputs": [],
   "source": [
    "R\"\"\"\n",
    "stan_dat_simple <- list(\n",
    "  N = nrow(pest_data), \n",
    "  complaints = pest_data$complaints,\n",
    "  traps = pest_data$traps\n",
    ")\n",
    "\"\"\"\n",
    "\n",
    "# Julia implementation:"
   ]
  },
  {
   "cell_type": "markdown",
   "metadata": {},
   "source": [
    "As we have already compiled the model, we can jump straight to sampling from it."
   ]
  },
  {
   "cell_type": "code",
   "execution_count": null,
   "metadata": {},
   "outputs": [],
   "source": [
    "R\"\"\"\n",
    "fit_P_real_data <- sampling(comp_model_P, data = stan_dat_simple)\n",
    "\"\"\"\n",
    "\n",
    "# Julia implementation:"
   ]
  },
  {
   "cell_type": "markdown",
   "metadata": {},
   "source": [
    "and printing the parameters. What do these tell us?"
   ]
  },
  {
   "cell_type": "code",
   "execution_count": null,
   "metadata": {},
   "outputs": [],
   "source": [
    "R\"\"\"\n",
    "print(fit_P_real_data, pars = c('alpha','beta'))\n",
    "\"\"\"\n",
    "\n",
    "# Julia implementation:"
   ]
  },
  {
   "cell_type": "markdown",
   "metadata": {},
   "source": [
    "We can also plot the posterior distributions:"
   ]
  },
  {
   "cell_type": "code",
   "execution_count": null,
   "metadata": {},
   "outputs": [],
   "source": [
    "R\"\"\"\n",
    "mcmc_hist(as.matrix(fit_P_real_data, pars = c('alpha','beta')))\n",
    "\"\"\"\n",
    "\n",
    "# Julia implementation:"
   ]
  },
  {
   "cell_type": "markdown",
   "metadata": {},
   "source": [
    "As we expected, it appears the number of bait stations set in a building is associated with the number of complaints about cockroaches that were made in the following month. However, we still need to consider how well the model fits.\n",
    "\n",
    "### Posterior predictive checking"
   ]
  },
  {
   "cell_type": "code",
   "execution_count": null,
   "metadata": {},
   "outputs": [],
   "source": [
    "R\"\"\"\n",
    "y_rep <- as.matrix(fit_P_real_data, pars = \"y_rep\")\n",
    "\"\"\"\n",
    "\n",
    "# Julia implementation:"
   ]
  },
  {
   "cell_type": "code",
   "execution_count": null,
   "metadata": {},
   "outputs": [],
   "source": [
    "R\"\"\"\n",
    "ppc_dens_overlay(y = stan_dat_simple$complaints, y_rep[1:200,])\n",
    "\"\"\"\n",
    "\n",
    "# Julia implementation:"
   ]
  },
  {
   "cell_type": "markdown",
   "metadata": {},
   "source": [
    "As opposed to when we fit the model to simulated data above, here the simulated datasets is not as dispersed as the observed data and don't seem to capture the rate of zeros in the observed data. The Poisson model may not be sufficient for this data.\n",
    "\n",
    "Let's explore this further by looking directly at the proportion of zeros in the real data and predicted data."
   ]
  },
  {
   "cell_type": "code",
   "execution_count": null,
   "metadata": {},
   "outputs": [],
   "source": [
    "R\"\"\"\n",
    "prop_zero <- function(x) mean(x == 0)\n",
    "ppc_stat(y = stan_dat_simple$complaints, yrep = y_rep, stat = \"prop_zero\")\n",
    "\"\"\"\n",
    "\n",
    "# Julia implementation:"
   ]
  },
  {
   "cell_type": "code",
   "execution_count": null,
   "metadata": {},
   "outputs": [],
   "source": [
    "yrep = reval(\"y_rep\")\n",
    "y = reval(\"stan_dat_simple\\$complaints\")"
   ]
  },
  {
   "cell_type": "code",
   "execution_count": null,
   "metadata": {},
   "outputs": [],
   "source": [
    "using Statistics\n",
    "prop_zero_jl(x) = mean(x .== 0)"
   ]
  },
  {
   "cell_type": "code",
   "execution_count": null,
   "metadata": {},
   "outputs": [],
   "source": [
    "prop_zero_jl([0, 1, 4, 0, 6, 7.])"
   ]
  },
  {
   "cell_type": "code",
   "execution_count": null,
   "metadata": {},
   "outputs": [],
   "source": [
    "@rput prop_zero_jl\n",
    "\n",
    "R\"\"\"\n",
    "ppc_stat(y = $y, yrep = $yrep, stat = \"prop_zero_jl\")\n",
    "\"\"\""
   ]
  },
  {
   "cell_type": "markdown",
   "metadata": {},
   "source": [
    "The plot above shows the observed proportion of zeros (thick vertical line) and a histogram of the proportion of zeros in each of the simulated data sets. It is clear that the model does not capture this feature of the data well at all.\n",
    "\n",
    "This next plot is a plot of the standardised residuals of the observed vs predicted number of complaints."
   ]
  },
  {
   "cell_type": "code",
   "execution_count": null,
   "metadata": {},
   "outputs": [],
   "source": [
    "R\"\"\"\n",
    "mean_y_rep <- colMeans(y_rep)\n",
    "std_resid <- (stan_dat_simple$complaints - mean_y_rep) / sqrt(mean_y_rep)\n",
    "qplot(mean_y_rep, std_resid) + hline_at(2) + hline_at(-2)\n",
    "\"\"\"\n",
    "\n",
    "# Julia implementation:"
   ]
  },
  {
   "cell_type": "markdown",
   "metadata": {},
   "source": [
    "As you can see here, it looks as though we have more positive residuals than negative, which indicates that the model tends to underestimate the number of complaints that will be received.\n",
    "\n",
    "The rootogram is another useful plot to compare the observed vs expected number of complaints. This is a plot of the expected counts (continuous line) vs the observed counts (blue histogram):"
   ]
  },
  {
   "cell_type": "code",
   "execution_count": null,
   "metadata": {},
   "outputs": [],
   "source": [
    "R\"\"\"\n",
    "ppc_rootogram(stan_dat_simple$complaints, yrep = y_rep)\n",
    "\"\"\"\n",
    "\n",
    "# Julia implementation:"
   ]
  },
  {
   "cell_type": "markdown",
   "metadata": {},
   "source": [
    "If the model was fitting well these would be relatively similar, however in this figure we can see the number of complaints is underestimated if there are few complaints, over-estimated for medium numbers of complaints, and underestimated if there are a large number of complaints.\n",
    "\n",
    "We can also view how the predicted number of complaints varies with the number of traps. From this we can see that the model doesn't seem to fully capture the data."
   ]
  },
  {
   "cell_type": "code",
   "execution_count": null,
   "metadata": {},
   "outputs": [],
   "source": [
    "R\"\"\"\n",
    "ppc_intervals(\n",
    "  y = stan_dat_simple$complaints, \n",
    "  yrep = y_rep,\n",
    "  x = stan_dat_simple$traps\n",
    ") + \n",
    "  labs(x = \"Number of traps\", y = \"Number of complaints\")\n",
    "\"\"\"\n",
    "\n",
    "# Julia implementation:"
   ]
  },
  {
   "cell_type": "markdown",
   "metadata": {},
   "source": [
    "Specifically, the model doesn't capture the tails of the observed data very well.\n",
    "\n",
    "## Expanding the model: multiple predictors\n",
    "\n",
    "Modeling the relationship between complaints and bait stations is the simplest  model. We can expand the model, however, in a few ways that will be beneficial  for our client. Moreover, the manager has told us that they expect there are a number of other reasons that one building might have more roach complaints than another.\n",
    "\n",
    "### Interpretability\n",
    "\n",
    "Currently, our model's mean parameter is a rate of complaints per 30 days, but we're modeling a process that occurs over an area as well as over time. We have the square footage of each building, so if we add that information into the model, we can interpret our parameters as a rate of complaints per square foot per 30 days.\n",
    "\n",
    ":$\n",
    "\n",
    "\\begin{align*} \\textrm{complaints}*{b,t} & \\sim \\textrm{Poisson}(\\textrm{sq*foot}*b\\,\\lambda*{b,t}) \\\n",
    "\\lambda*{b,t} & = \\exp{(\\eta*{b,t} )} \\\n",
    "\\eta*{b,t} &= \\alpha + \\beta \\, \\textrm{traps}*{b,t} \\end{align*} :$\n",
    "\n",
    "The term $\\text{sq_foot}$ is called an exposure term. If we log the term, we can  put it in $\\eta_{b,t}$:\n",
    "\n",
    ":$\n",
    "\n",
    "\\begin{align*} \\textrm{complaints}*{b,t} & \\sim \\textrm{Poisson}(\\lambda*{b,t}) \\\n",
    "\\lambda*{b,t} & = \\exp{(\\eta*{b,t} )} \\\n",
    "\\eta*{b,t} &= \\alpha + \\beta \\, \\textrm{traps}*{b,t} + \\textrm{log*sq*foot}_b \\end{align*} :$\n",
    "\n",
    "A quick test shows us that there appears to be a relationship between the square footage of the building and the number of complaints received:"
   ]
  },
  {
   "cell_type": "code",
   "execution_count": null,
   "metadata": {},
   "outputs": [],
   "source": [
    "R\"\"\"\n",
    "ggplot(pest_data, aes(x = log(total_sq_foot), y = log1p(complaints))) + \n",
    "  geom_point() + \n",
    "  geom_smooth(method = \"lm\", se = FALSE)\n",
    "\"\"\"\n",
    "\n",
    "# Julia implementation:"
   ]
  },
  {
   "cell_type": "markdown",
   "metadata": {},
   "source": [
    "Using the property manager's intuition, we include two extra pieces of information we know about the building - the (log of the) square floor space and whether there is a live in super or not - into both the simulated and real data."
   ]
  },
  {
   "cell_type": "code",
   "execution_count": null,
   "metadata": {},
   "outputs": [],
   "source": [
    "R\"\"\"\n",
    "stan_dat_simple$log_sq_foot <- log(pest_data$total_sq_foot/1e4)\n",
    "stan_dat_simple$live_in_super <- pest_data$live_in_super\n",
    "\"\"\"\n",
    "\n",
    "# Julia implementation:"
   ]
  },
  {
   "cell_type": "markdown",
   "metadata": {},
   "source": [
    "### Stan program for Poisson multiple regression\n",
    "\n",
    "Now we need a new Stan model that uses multiple predictors.\n",
    "\n",
    "  * Write `multiple_poisson_regression.stan` together\n",
    "\n",
    "### Simulate fake data with multiple predictors"
   ]
  },
  {
   "cell_type": "code",
   "execution_count": null,
   "metadata": {},
   "outputs": [],
   "source": [
    "R\"\"\"\n",
    "comp_dgp_multiple <- stan_model('stan_programs/multiple_poisson_regression_dgp.stan')\n",
    "\"\"\"\n",
    "\n",
    "# Julia implementation:"
   ]
  },
  {
   "cell_type": "code",
   "execution_count": null,
   "metadata": {},
   "outputs": [],
   "source": [
    "R\"\"\"\n",
    "fitted_model_dgp <-\n",
    "  sampling(\n",
    "  comp_dgp_multiple,\n",
    "  data = list(N = nrow(pest_data)),\n",
    "  chains = 1,\n",
    "  cores = 1,\n",
    "  iter = 1,\n",
    "  algorithm = 'Fixed_param',\n",
    "  seed = 123\n",
    "  )\n",
    "samps_dgp <- rstan::extract(fitted_model_dgp)\n",
    "\"\"\"\n",
    "\n",
    "# Julia implementation:"
   ]
  },
  {
   "cell_type": "markdown",
   "metadata": {},
   "source": [
    "Now pop that simulated data into a list ready for Stan."
   ]
  },
  {
   "cell_type": "code",
   "execution_count": null,
   "metadata": {
    "scrolled": true
   },
   "outputs": [],
   "source": [
    "R\"\"\"\n",
    "stan_dat_fake <- list(\n",
    "  N = nrow(pest_data), \n",
    "  log_sq_foot = samps_dgp$log_sq_foot[1, ],\n",
    "  live_in_super = samps_dgp$live_in_super[1, ],\n",
    "  traps = samps_dgp$traps[1, ], \n",
    "  complaints = samps_dgp$complaints[1, ]\n",
    ")\n",
    "\"\"\"\n",
    "\n",
    "# Julia implementation:"
   ]
  },
  {
   "cell_type": "markdown",
   "metadata": {},
   "source": [
    "And then compile and fit the model we wrote for the multiple regression."
   ]
  },
  {
   "cell_type": "code",
   "execution_count": null,
   "metadata": {},
   "outputs": [],
   "source": [
    "R\"\"\"\n",
    "comp_model_P_mult <- stan_model('stan_programs/multiple_poisson_regression.stan')\n",
    "fit_model_P_mult <- sampling(comp_model_P_mult, data = stan_dat_fake, chains = 4, cores = 4)\n",
    "\"\"\"\n",
    "\n",
    "# Julia implementation:"
   ]
  },
  {
   "cell_type": "markdown",
   "metadata": {},
   "source": [
    "Then compare these parameters to the true parameters:"
   ]
  },
  {
   "cell_type": "code",
   "execution_count": null,
   "metadata": {},
   "outputs": [],
   "source": [
    "R\"\"\"\n",
    "posterior_alpha_beta <- as.matrix(fit_model_P_mult, pars = c('alpha','beta','beta_super'))\n",
    "true_alpha_beta <- c(samps_dgp$alpha,samps_dgp$beta,samps_dgp$beta_super)\n",
    "mcmc_recover_hist(posterior_alpha_beta, true = true_alpha_beta)\n",
    "\"\"\"\n",
    "\n",
    "# Julia implementation:"
   ]
  },
  {
   "cell_type": "markdown",
   "metadata": {},
   "source": [
    "We've recovered the parameters sufficiently well, so we've probably coded the Stan program correctly and we're ready to fit the real data.\n",
    "\n",
    "### Fit the real data\n",
    "\n",
    "Now let's use the real data and explore the fit."
   ]
  },
  {
   "cell_type": "code",
   "execution_count": null,
   "metadata": {},
   "outputs": [],
   "source": [
    "R\"\"\"\n",
    "fit_model_P_mult_real <- sampling(comp_model_P_mult, data = stan_dat_simple)\n",
    "y_rep <- as.matrix(fit_model_P_mult_real, pars = \"y_rep\")\n",
    "ppc_dens_overlay(stan_dat_simple$complaints, y_rep[1:200,])\n",
    "\"\"\"\n",
    "\n",
    "# Julia implementation:"
   ]
  },
  {
   "cell_type": "markdown",
   "metadata": {},
   "source": [
    "This again looks like we haven't captured the smaller counts very well, nor have we captured the larger counts."
   ]
  },
  {
   "cell_type": "code",
   "execution_count": null,
   "metadata": {},
   "outputs": [],
   "source": [
    "R\"\"\"\n",
    "prop_zero <- function(x) mean(x == 0)\n",
    "ppc_stat(y = stan_dat_simple$complaints, yrep = y_rep, stat = \"prop_zero\", binwidth = 0.01)\n",
    "\"\"\"\n",
    "\n",
    "# Julia implementation:"
   ]
  },
  {
   "cell_type": "markdown",
   "metadata": {},
   "source": [
    "We're still severely underestimating the proportion of zeros in the data. Ideally this vertical line would fall somewhere within the histogram.\n",
    "\n",
    "We can also plot uncertainty intervals for the predicted complaints for different numbers of traps."
   ]
  },
  {
   "cell_type": "code",
   "execution_count": null,
   "metadata": {},
   "outputs": [],
   "source": [
    "R\"\"\"\n",
    "ppc_intervals(\n",
    "  y = stan_dat_simple$complaints, \n",
    "  yrep = y_rep,\n",
    "  x = stan_dat_simple$traps\n",
    ") + \n",
    "  labs(x = \"Number of traps\", y = \"Number of complaints\")\n",
    "\"\"\"\n",
    "\n",
    "# Julia implementation:"
   ]
  },
  {
   "cell_type": "markdown",
   "metadata": {},
   "source": [
    "We can see that we've increased the tails a bit more at the larger numbers of traps but we still have some large observed numbers of complaints that the model would consider extremely unlikely events. \n",
    "\n",
    "## Modeling count data with the Negative Binomial\n",
    "\n",
    "When we considered modelling the data using a Poisson, we saw that the model didn't appear to fit as well to the data as we would like. In particular the model underpredicted low and high numbers of complaints, and overpredicted the medium number of complaints. This is one indication of over-dispersion, where the variance is larger than the mean. A Poisson model doesn't fit over-dispersed count data very well because the same parameter $\\lambda$, controls both the expected counts and the variance of these counts. The natural alternative to this is the negative binomial model:\n",
    "\n",
    ":$\n",
    "\n",
    "\\begin{align*} \\text{complaints}*{b,t} & \\sim \\text{Neg-Binomial}(\\lambda*{b,t}, \\phi) \\\n",
    "\\lambda*{b,t} & = \\exp{(\\eta*{b,t})} \\\n",
    "\\eta*{b,t} &= \\alpha + \\beta \\, {\\rm traps}*{b,t} + \\beta*{\\rm super} \\, {\\rm super}*{b} + \\text{log*sq*foot}_{b} \\end{align*} :$\n",
    "\n",
    "In Stan the negative binomial mass function we'll use is called  $\\texttt{neg_binomial_2_log}(\\text{ints} \\, y, \\text{reals} \\, \\eta, \\text{reals} \\, \\phi)$  in Stan. Like the `poisson_log` function, this negative binomial mass function that is parameterized in terms of its log-mean, $\\eta$, but it also has a precision $\\phi$ such that\n",
    "\n",
    ":$\n",
    "\n",
    "\\mathbb{E}[y] \\, = \\lambda = \\exp(\\eta) :$\n",
    "\n",
    ":$\n",
    "\n",
    "\\text{Var}[y] = \\lambda + \\lambda^2/\\phi = \\exp(\\eta) + \\exp(\\eta)^2 / \\phi. :$ \n",
    "\n",
    "As $\\phi$ gets larger the term $\\lambda^2 / \\phi$ approaches zero and so  the variance of the negative-binomial approaches $\\lambda$, i.e., the negative-binomial gets closer and closer to the Poisson.\n",
    "\n",
    "### Stan program for negative-binomial regression\n",
    "\n",
    "  * Write `multiple_NB_regression.stan` together\n",
    "\n",
    "### Fake data fit: Multiple NB regression"
   ]
  },
  {
   "cell_type": "code",
   "execution_count": null,
   "metadata": {},
   "outputs": [],
   "source": [
    "R\"\"\"\n",
    "comp_dgp_multiple_NB <- stan_model('stan_programs/multiple_NB_regression_dgp.stan')\n",
    "\"\"\"\n",
    "\n",
    "# Julia implementation:"
   ]
  },
  {
   "cell_type": "markdown",
   "metadata": {},
   "source": [
    "We're going to generate one draw from the fake data model so we can use the data to fit our model and compare the known values of the parameters to the posterior density of the parameters."
   ]
  },
  {
   "cell_type": "code",
   "execution_count": null,
   "metadata": {},
   "outputs": [],
   "source": [
    "R\"\"\"\n",
    "fitted_model_dgp_NB <-\n",
    "  sampling(\n",
    "  comp_dgp_multiple_NB,\n",
    "  data = list(N = nrow(pest_data)),\n",
    "  chains = 1,\n",
    "  cores = 1,\n",
    "  iter = 1,\n",
    "  algorithm = 'Fixed_param',\n",
    "  seed = 123\n",
    "  )\n",
    "samps_dgp_NB <- rstan::extract(fitted_model_dgp_NB)\n",
    "\"\"\"\n",
    "\n",
    "# Julia implementation:"
   ]
  },
  {
   "cell_type": "markdown",
   "metadata": {},
   "source": [
    "Create a dataset to feed into the Stan model."
   ]
  },
  {
   "cell_type": "code",
   "execution_count": null,
   "metadata": {},
   "outputs": [],
   "source": [
    "R\"\"\"\n",
    "stan_dat_fake_NB <- list(\n",
    "  N = nrow(pest_data), \n",
    "  log_sq_foot = samps_dgp_NB$log_sq_foot[1, ],\n",
    "  live_in_super = samps_dgp_NB$live_in_super[1, ],\n",
    "  traps = samps_dgp_NB$traps[1, ], \n",
    "  complaints = samps_dgp_NB$complaints[1, ]\n",
    ")\n",
    "\"\"\"\n",
    "\n",
    "# Julia implementation:"
   ]
  },
  {
   "cell_type": "markdown",
   "metadata": {},
   "source": [
    "Compile the inferential model."
   ]
  },
  {
   "cell_type": "code",
   "execution_count": null,
   "metadata": {},
   "outputs": [],
   "source": [
    "R\"\"\"\n",
    "comp_model_NB <- stan_model('stan_programs/multiple_NB_regression.stan')\n",
    "\"\"\"\n",
    "\n",
    "# Julia implementation:"
   ]
  },
  {
   "cell_type": "markdown",
   "metadata": {},
   "source": [
    "Now we run our NB regression over the fake data and extract the samples to examine posterior predictive checks and to check whether we've sufficiently recovered our known parameters, $\\text{alpha}$ $\\texttt{beta}$, ."
   ]
  },
  {
   "cell_type": "code",
   "execution_count": null,
   "metadata": {},
   "outputs": [],
   "source": [
    "R\"\"\"\n",
    "fitted_model_NB <- sampling(comp_model_NB, data = stan_dat_fake_NB, \n",
    "                            chains = 4, cores = 4)\n",
    "posterior_alpha_beta_NB <- \n",
    "  as.matrix(fitted_model_NB,\n",
    "            pars = c('alpha',\n",
    "                     'beta',\n",
    "                     'beta_super',\n",
    "                     'inv_phi')\n",
    "  )\n",
    "\"\"\"\n",
    "\n",
    "# Julia implementation:"
   ]
  },
  {
   "cell_type": "markdown",
   "metadata": {},
   "source": [
    "Construct the vector of true values from your simulated dataset and compare to the recovered parameters."
   ]
  },
  {
   "cell_type": "code",
   "execution_count": null,
   "metadata": {},
   "outputs": [],
   "source": [
    "R\"\"\"\n",
    "true_alpha_beta_NB <- \n",
    "  c(samps_dgp_NB$alpha,\n",
    "    samps_dgp_NB$beta,\n",
    "    samps_dgp_NB$beta_super,\n",
    "    samps_dgp_NB$inv_phi\n",
    "  )\n",
    "mcmc_recover_hist(posterior_alpha_beta_NB, true = true_alpha_beta_NB)\n",
    "\"\"\"\n",
    "\n",
    "# Julia implementation:"
   ]
  },
  {
   "cell_type": "markdown",
   "metadata": {},
   "source": [
    "### Fit to real data and check the fit"
   ]
  },
  {
   "cell_type": "code",
   "execution_count": null,
   "metadata": {},
   "outputs": [],
   "source": [
    "R\"\"\"\n",
    "fitted_model_NB <- sampling(comp_model_NB, data = stan_dat_simple)\n",
    "samps_NB <- rstan::extract(fitted_model_NB)\n",
    "\"\"\"\n",
    "\n",
    "# Julia implementation:"
   ]
  },
  {
   "cell_type": "markdown",
   "metadata": {},
   "source": [
    "Let's look at our predictions vs. the data."
   ]
  },
  {
   "cell_type": "code",
   "execution_count": null,
   "metadata": {},
   "outputs": [],
   "source": [
    "R\"\"\"\n",
    "y_rep <- samps_NB$y_rep\n",
    "ppc_dens_overlay(stan_dat_simple$complaints, y_rep[1:200,])\n",
    "\"\"\"\n",
    "\n",
    "# Julia implementation:"
   ]
  },
  {
   "cell_type": "markdown",
   "metadata": {},
   "source": [
    "It appears that our model now captures both the number of small counts better as well as the tails. \n",
    "\n",
    "Let's check if the negative binomial model does a better job capturing the number of zeros:"
   ]
  },
  {
   "cell_type": "code",
   "execution_count": null,
   "metadata": {},
   "outputs": [],
   "source": [
    "R\"\"\"\n",
    "ppc_stat(y = stan_dat_simple$complaints, yrep = y_rep, stat = \"prop_zero\")\n",
    "\"\"\"\n",
    "\n",
    "# Julia implementation:"
   ]
  },
  {
   "cell_type": "markdown",
   "metadata": {},
   "source": [
    "These look OK, but let's look at the standardized residual plot."
   ]
  },
  {
   "cell_type": "code",
   "execution_count": null,
   "metadata": {},
   "outputs": [],
   "source": [
    "R\"\"\"\n",
    "mean_inv_phi <- mean(samps_NB$inv_phi)\n",
    "mean_y_rep <- colMeans(y_rep)\n",
    "std_resid <- (stan_dat_simple$complaints - mean_y_rep) / sqrt(mean_y_rep + mean_y_rep^2*mean_inv_phi)\n",
    "qplot(mean_y_rep, std_resid) + hline_at(2) + hline_at(-2)\n",
    "\"\"\"\n",
    "\n",
    "# Julia implementation:"
   ]
  },
  {
   "cell_type": "markdown",
   "metadata": {},
   "source": [
    "Looks OK, but we still have some very large *standardized* residuals. This might be because we are currently ignoring that the data are clustered by buildings, and that the probability of roach issue may vary substantially across buildings."
   ]
  },
  {
   "cell_type": "code",
   "execution_count": null,
   "metadata": {},
   "outputs": [],
   "source": [
    "R\"\"\"\n",
    "ppc_rootogram(stan_dat_simple$complaints, yrep = y_rep)\n",
    "\"\"\"\n",
    "\n",
    "# Julia implementation:"
   ]
  },
  {
   "cell_type": "markdown",
   "metadata": {},
   "source": [
    "The rootogram now looks much more plausible. We can tell this because now the expected number of complaints matches much closer to the observed number of complaints. However, we still have some larger counts that appear to be outliers for the model.\n",
    "\n",
    "Check predictions by number of traps:"
   ]
  },
  {
   "cell_type": "code",
   "execution_count": null,
   "metadata": {},
   "outputs": [],
   "source": [
    "R\"\"\"\n",
    "ppc_intervals(\n",
    "  y = stan_dat_simple$complaints, \n",
    "  yrep = y_rep,\n",
    "  x = stan_dat_simple$traps\n",
    ") + \n",
    "  labs(x = \"Number of traps\", y = \"Number of complaints\")\n",
    "\"\"\"\n",
    "\n",
    "# Julia implementation:"
   ]
  },
  {
   "cell_type": "markdown",
   "metadata": {},
   "source": [
    "We haven't used the fact that the data are clustered by building yet. A posterior  predictive check might elucidate whether it would be a good idea to add the building information into the model."
   ]
  },
  {
   "cell_type": "code",
   "execution_count": null,
   "metadata": {},
   "outputs": [],
   "source": [
    "R\"\"\"\n",
    "ppc_stat_grouped(\n",
    "  y = stan_dat_simple$complaints, \n",
    "  yrep = y_rep, \n",
    "  group = pest_data$building_id, \n",
    "  stat = 'mean',\n",
    "  binwidth = 0.2\n",
    ")\n",
    "\"\"\"\n",
    "\n",
    "# Julia implementation:"
   ]
  },
  {
   "cell_type": "markdown",
   "metadata": {},
   "source": [
    "We're getting plausible predictions for most building means but some are estimated better than others and some have larger uncertainties than we might expect. If we explicitly model the variation across buildings we may be able to get much better estimates.\n",
    "\n",
    "## Hierarchical modeling\n",
    "\n",
    "### Modeling varying intercepts for each building\n",
    "\n",
    "Let's add a hierarchical intercept parameter, $\\alpha_b$ at the building level to our model.\n",
    "\n",
    ":$\n",
    "\n",
    "\\text{complaints}*{b,t} \\sim \\text{Neg-Binomial}(\\lambda*{b,t}, \\phi) \\\n",
    "\\lambda*{b,t}  = \\exp{(\\eta*{b,t})} \\\n",
    "\\eta*{b,t} = \\mu*b + \\beta \\, {\\rm traps}*{b,t} + \\beta*{\\rm super}\\, {\\rm super}*b + \\text{log*sq*foot}*b \\\n",
    "\\mu*b \\sim \\text{Normal}(\\alpha, \\sigma*{\\mu}) :$\n",
    "\n",
    "In our Stan model, $\\mu_b$ is the $b$-th element of the vector $\\texttt{mu}$ which has one element per building.\n",
    "\n",
    "One of our predictors varies only by building, so we can rewrite the above model more efficiently like so:\n",
    "\n",
    ":$\n",
    "\n",
    "\\eta*{b,t} = \\mu*b + \\beta \\, {\\rm traps}*{b,t} + \\text{log*sq*foot}*b\\\n",
    "\\mu*b \\sim \\text{Normal}(\\alpha +  \\beta*{\\text{super}} \\, \\text{super}*b , \\sigma*{\\mu}) :$\n",
    "\n",
    "We have more information at the building level as well, like the average age of the residents, the average age of the buildings, and the average per-apartment monthly rent so we can add that data into a matrix called `building_data`, which will have one row per building and four columns:\n",
    "\n",
    "  * `live_in_super`\n",
    "  * `age_of_building`\n",
    "  * `average_tentant_age`\n",
    "  * `monthly_average_rent`\n",
    "\n",
    "We'll write the Stan model like:\n",
    "\n",
    ":$\n",
    "\n",
    "\\eta*{b,t} = \\alpha*b + \\beta \\, {\\rm traps} + \\text{log*sq*foot}\\\n",
    "\\mu \\sim \\text{Normal}(\\alpha + \\texttt{building*data} \\, \\zeta, \\,\\sigma*{\\mu}) :$\n",
    "\n",
    "### Prepare building data for hierarchical\n",
    "\n",
    "We'll need to do some more data prep before we can fit our models. Firstly to use the building variable in Stan we will need to transform it from a factor variable to an integer variable."
   ]
  },
  {
   "cell_type": "code",
   "execution_count": null,
   "metadata": {
    "scrolled": true
   },
   "outputs": [],
   "source": [
    "R\"\"\"\n",
    "N_months <- length(unique(pest_data$date))\n",
    "\n",
    "# Add some IDs for building and month\n",
    "pest_data <- pest_data %>%\n",
    "  mutate(\n",
    "    building_fac = factor(building_id, levels = unique(building_id)),\n",
    "    building_idx = as.integer(building_fac),\n",
    "    ids = rep(1:N_months, N_buildings),\n",
    "    mo_idx = lubridate::month(date)\n",
    "  )\n",
    "\n",
    "# Center and rescale the building specific data\n",
    "building_data <- pest_data %>%\n",
    "    select(\n",
    "      building_idx,\n",
    "      live_in_super,\n",
    "      age_of_building,\n",
    "      total_sq_foot,\n",
    "      average_tenant_age,\n",
    "      monthly_average_rent\n",
    "    ) %>%\n",
    "    unique() %>%\n",
    "    arrange(building_idx) %>%\n",
    "    select(-building_idx) %>%\n",
    "    scale(scale=FALSE) %>%\n",
    "    as.data.frame() %>%\n",
    "    mutate( # scale by constants\n",
    "      age_of_building = age_of_building / 10,\n",
    "      total_sq_foot = total_sq_foot / 10000,\n",
    "      average_tenant_age = average_tenant_age / 10,\n",
    "      monthly_average_rent = monthly_average_rent / 1000\n",
    "    ) %>%\n",
    "    as.matrix()\n",
    "\n",
    "# Make data list for Stan\n",
    "stan_dat_hier <-\n",
    "  with(pest_data,\n",
    "        list(complaints = complaints,\n",
    "             traps = traps,\n",
    "             N = length(traps),\n",
    "             J = N_buildings,\n",
    "             M = N_months,\n",
    "             log_sq_foot = log(pest_data$total_sq_foot/1e4),\n",
    "             building_data = building_data[,-3],\n",
    "             mo_idx = as.integer(as.factor(date)),\n",
    "             K = 4,\n",
    "             building_idx = building_idx\n",
    "             )\n",
    "        )\n",
    "\"\"\"\n",
    "\n",
    "# Julia implementation:"
   ]
  },
  {
   "cell_type": "markdown",
   "metadata": {},
   "source": [
    "### Compile and fit the hierarchical model\n",
    "\n",
    "Let's compile the model."
   ]
  },
  {
   "cell_type": "code",
   "execution_count": null,
   "metadata": {},
   "outputs": [],
   "source": [
    "R\"\"\"\n",
    "comp_model_NB_hier <- stan_model('stan_programs/hier_NB_regression.stan')\n",
    "\"\"\"\n",
    "\n",
    "# Julia implementation:"
   ]
  },
  {
   "cell_type": "markdown",
   "metadata": {},
   "source": [
    "Fit the model to data."
   ]
  },
  {
   "cell_type": "code",
   "execution_count": null,
   "metadata": {},
   "outputs": [],
   "source": [
    "R\"\"\"\n",
    "fitted_model_NB_hier <-\n",
    "  sampling(\n",
    "  comp_model_NB_hier,\n",
    "  data = stan_dat_hier,\n",
    "  chains = 4,\n",
    "  cores = 4,\n",
    "  iter = 4000\n",
    "  )\n",
    "\"\"\"\n",
    "\n",
    "# Julia implementation:"
   ]
  },
  {
   "cell_type": "markdown",
   "metadata": {},
   "source": [
    "### Diagnostics\n",
    "\n",
    "We get a bunch of warnings from Stan about divergent transitions, which is an indication that there may be regions of the posterior that have not been explored by the Markov chains.\n",
    "\n",
    "Divergences are discussed in more detail in the course slides as well as the **bayesplot** (MCMC diagnostics vignette)[http://mc-stan.org/bayesplot/articles/visual-mcmc-diagnostics.html] and [*A Conceptual Introduction to Hamiltonian Monte Carlo*](https://arxiv.org/abs/1701.02434).\n",
    "\n",
    "In this example we will see that we have divergent transitions because we need to reparameterize our model - i.e., we will retain the overall structure of the model, but transform some of the parameters so that it is easier for Stan to sample from the parameter space. Before we go through exactly how to do this reparameterization, we will first go through what indicates that this is something that reparameterization will resolve. We will go through:\n",
    "\n",
    "1. Examining the fitted parameter values, including the effective sample size\n",
    "2. Traceplots and scatterplots that reveal particular patterns in locations of the divergences.\n",
    "\n",
    "First let's extract the fits from the model."
   ]
  },
  {
   "cell_type": "code",
   "execution_count": null,
   "metadata": {},
   "outputs": [],
   "source": [
    "R\"\"\"\n",
    "samps_hier_NB <- rstan::extract(fitted_model_NB_hier)\n",
    "\"\"\"\n",
    "\n",
    "# Julia implementation:"
   ]
  },
  {
   "cell_type": "markdown",
   "metadata": {},
   "source": [
    "Then we print the fits for the parameters that are of most interest."
   ]
  },
  {
   "cell_type": "code",
   "execution_count": null,
   "metadata": {},
   "outputs": [],
   "source": [
    "R\"\"\"\n",
    "print(fitted_model_NB_hier, pars = c('sigma_mu','beta','alpha','phi','mu'))\n",
    "\"\"\"\n",
    "\n",
    "# Julia implementation:"
   ]
  },
  {
   "cell_type": "markdown",
   "metadata": {},
   "source": [
    "You can see that the effective samples are quite low for many of the parameters relative to the total number of samples. This alone isn't indicative of the need to reparameterize, but it indicates that we should look further at the trace plots and pairs plots. First let's look at the traceplots to see if the divergent transitions form a pattern."
   ]
  },
  {
   "cell_type": "code",
   "execution_count": null,
   "metadata": {},
   "outputs": [],
   "source": [
    "R\"\"\"\n",
    "# use as.array to keep the markov chains separate for trace plots\n",
    "mcmc_trace(\n",
    "  as.array(fitted_model_NB_hier,pars = 'sigma_mu'),\n",
    "  np = nuts_params(fitted_model_NB_hier),\n",
    "  window = c(500,1000)\n",
    ")\n",
    "\"\"\"\n",
    "\n",
    "# Julia implementation:"
   ]
  },
  {
   "cell_type": "markdown",
   "metadata": {},
   "source": [
    "Looks as if the divergent parameters, the little red bars underneath the traceplots correspond to samples where the sampler gets stuck at one parameter value for $\\sigma_\\mu$."
   ]
  },
  {
   "cell_type": "code",
   "execution_count": null,
   "metadata": {},
   "outputs": [],
   "source": [
    "R\"\"\"\n",
    "# assign to object so we can compare to another plot later\n",
    "scatter_with_divs <- mcmc_scatter(\n",
    "  as.array(fitted_model_NB_hier),\n",
    "  pars = c(\"mu[4]\", 'sigma_mu'),\n",
    "  transform = list('sigma_mu' = \"log\"),\n",
    "  np = nuts_params(fitted_model_NB_hier)\n",
    ")\n",
    "scatter_with_divs\n",
    "\"\"\"\n",
    "\n",
    "# Julia implementation:"
   ]
  },
  {
   "cell_type": "markdown",
   "metadata": {},
   "source": [
    "What we have here is a cloud-like shape, with most of the divergences clustering towards the bottom. We'll see a bit later that we actually want this to look more like a funnel than a cloud, but the divergences are indicating that the sampler can't explore the narrowing neck of the funnel.\n",
    "\n",
    "One way to see why we should expect some version of a funnel is to look at some simulations from the prior, which we can do without MCMC and thus with no risk of sampling problems:"
   ]
  },
  {
   "cell_type": "code",
   "execution_count": null,
   "metadata": {},
   "outputs": [],
   "source": [
    "R\"\"\"\n",
    "N_sims <- 1000\n",
    "log_sigma <- rep(NA, N_sims)\n",
    "theta <- rep(NA, N_sims)\n",
    "for (j in 1:N_sims) {\n",
    "  log_sigma[j] <- rnorm(1, mean = 0, sd = 1)\n",
    "  theta[j] <- rnorm(1, mean = 0, sd = exp(log_sigma[j]))\n",
    "}\n",
    "draws <- cbind(\"mu\" = theta, \"log(sigma_mu)\" = log_sigma)\n",
    "mcmc_scatter(draws)\n",
    "\"\"\"\n",
    "\n",
    "# Julia implementation:"
   ]
  },
  {
   "cell_type": "markdown",
   "metadata": {},
   "source": [
    "Of course, if the data is at all informative we shouldn't expect the posterior to look exactly like the prior. But unless the data is incredibly informative about the parameters and the posterior concentrates away from the narrow neck of the funnel, the sampler is going to have to confront the funnel geometry. (See the [Visual MCMC Diagnostics](http://mc-stan.org/bayesplot/articles/visual-mcmc-diagnostics.html) vignette for more on this.)\n",
    "\n",
    "Another way to look at the divergences is via a parallel coordinates plot:"
   ]
  },
  {
   "cell_type": "code",
   "execution_count": null,
   "metadata": {},
   "outputs": [],
   "source": [
    "R\"\"\"\n",
    "parcoord_with_divs <- mcmc_parcoord(\n",
    "  as.array(fitted_model_NB_hier, pars = c(\"sigma_mu\", \"mu\")),\n",
    "  np = nuts_params(fitted_model_NB_hier)\n",
    ")\n",
    "parcoord_with_divs\n",
    "\"\"\"\n",
    "\n",
    "# Julia implementation:"
   ]
  },
  {
   "cell_type": "markdown",
   "metadata": {},
   "source": [
    "Again, we see evidence that our problems concentrate when $\\texttt{sigma_mu}$ is small.\n",
    "\n",
    "### Reparameterize and recheck diagnostics\n",
    "\n",
    "Instead, we should use the non-centered parameterization for $\\mu_b$. We define a vector of auxiliary variables in the parameters block, $\\texttt{mu_raw}$ that is given a $\\text{Normal}(0, 1)$ prior in the model block. We then make $\\texttt{mu}$ a transformed parameter: We can reparameterize the random intercept $\\mu_b$, which is distributed:\n",
    "\n",
    ":$\n",
    "\n",
    "\\mu*b \\sim \\text{Normal}(\\alpha + \\texttt{building*data} \\, \\zeta, \\sigma_{\\mu}) :$\n",
    "\n",
    "```\n",
    "transformed parameters {\n",
    "  vector[J] mu;\n",
    "  mu = alpha + building_data * zeta + sigma_mu * mu_raw;\n",
    "}\n",
    "```\n",
    "\n",
    "This gives $\\texttt{mu}$ a $\\text{Normal}(\\alpha + \\texttt{building_data}\\, \\zeta, \\sigma_\\mu)$ distribution, but it decouples the dependence of the density of each element of $\\texttt{mu}$ from $\\texttt{sigma_mu}$ ($\\sigma_\\mu$). hier*NB*regression_ncp.stan uses the non-centered parameterization for $\\texttt{mu}$. We will examine the effective sample size of the fitted model to see whether we've fixed the problem with our reparameterization.\n",
    "\n",
    "Compile the model."
   ]
  },
  {
   "cell_type": "code",
   "execution_count": null,
   "metadata": {},
   "outputs": [],
   "source": [
    "R\"\"\"\n",
    "comp_model_NB_hier_ncp <- stan_model('stan_programs/hier_NB_regression_ncp.stan')\n",
    "\"\"\"\n",
    "\n",
    "# Julia implementation:"
   ]
  },
  {
   "cell_type": "markdown",
   "metadata": {},
   "source": [
    "Fit the model to the data."
   ]
  },
  {
   "cell_type": "code",
   "execution_count": null,
   "metadata": {},
   "outputs": [],
   "source": [
    "R\"\"\"\n",
    "fitted_model_NB_hier_ncp <- sampling(comp_model_NB_hier_ncp, data = stan_dat_hier, chains = 4, cores = 4, control = list(adapt_delta = 0.95))\n",
    "\"\"\"\n",
    "\n",
    "# Julia implementation:"
   ]
  },
  {
   "cell_type": "markdown",
   "metadata": {},
   "source": [
    "Examining the fit of the new model"
   ]
  },
  {
   "cell_type": "code",
   "execution_count": null,
   "metadata": {},
   "outputs": [],
   "source": [
    "R\"\"\"\n",
    "print(fitted_model_NB_hier_ncp, pars = c('sigma_mu','beta','alpha','phi','mu'))\n",
    "\"\"\"\n",
    "\n",
    "# Julia implementation:"
   ]
  },
  {
   "cell_type": "markdown",
   "metadata": {},
   "source": [
    "This has improved the effective sample sizes of $\\texttt{mu}$. We extract the parameters to run our usual posterior predictive checks."
   ]
  },
  {
   "cell_type": "code",
   "execution_count": null,
   "metadata": {},
   "outputs": [],
   "source": [
    "R\"\"\"\n",
    "scatter_no_divs <- mcmc_scatter(\n",
    "  as.array(fitted_model_NB_hier_ncp),\n",
    "  pars = c(\"mu[4]\", 'sigma_mu'),\n",
    "  transform = list('sigma_mu' = \"log\"),\n",
    "  np = nuts_params(fitted_model_NB_hier_ncp)\n",
    ")\n",
    "bayesplot_grid(scatter_with_divs, scatter_no_divs,\n",
    "               grid_args = list(ncol = 2), ylim = c(-11, 1))\n",
    "\"\"\"\n",
    "\n",
    "# Julia implementation:"
   ]
  },
  {
   "cell_type": "code",
   "execution_count": null,
   "metadata": {},
   "outputs": [],
   "source": [
    "R\"\"\"\n",
    "parcoord_no_divs <- mcmc_parcoord(\n",
    "  as.array(fitted_model_NB_hier_ncp, pars = c(\"sigma_mu\", \"mu\")),\n",
    "  np = nuts_params(fitted_model_NB_hier_ncp)\n",
    ")\n",
    "bayesplot_grid(parcoord_with_divs, parcoord_no_divs,\n",
    "               ylim = c(-3, 3))\n",
    "\"\"\"\n",
    "\n",
    "# Julia implementation:"
   ]
  },
  {
   "cell_type": "code",
   "execution_count": null,
   "metadata": {},
   "outputs": [],
   "source": [
    "R\"\"\"\n",
    "samps_NB_hier_ncp <- rstan::extract(fitted_model_NB_hier_ncp, pars = c('y_rep','inv_phi'))\n",
    "\"\"\"\n",
    "\n",
    "# Julia implementation:"
   ]
  },
  {
   "cell_type": "markdown",
   "metadata": {},
   "source": [
    "The marginal plot, again."
   ]
  },
  {
   "cell_type": "code",
   "execution_count": null,
   "metadata": {},
   "outputs": [],
   "source": [
    "R\"\"\"\n",
    "y_rep <- as.matrix(fitted_model_NB_hier_ncp, pars = \"y_rep\")\n",
    "ppc_dens_overlay(stan_dat_hier$complaints, y_rep[1:200,])\n",
    "\"\"\"\n",
    "\n",
    "# Julia implementation:"
   ]
  },
  {
   "cell_type": "markdown",
   "metadata": {},
   "source": [
    "This looks quite nice. If we've captured the building-level means well, then the posterior distribution of means by building should match well with the observed means of the quantity of building complaints by month."
   ]
  },
  {
   "cell_type": "code",
   "execution_count": null,
   "metadata": {},
   "outputs": [],
   "source": [
    "R\"\"\"\n",
    "ppc_stat_grouped(\n",
    "  y = stan_dat_hier$complaints,\n",
    "  yrep = y_rep,\n",
    "  group = pest_data$building_id,\n",
    "  stat = 'mean',\n",
    "  binwidth = 0.5\n",
    ")\n",
    "\"\"\"\n",
    "\n",
    "# Julia implementation:"
   ]
  },
  {
   "cell_type": "markdown",
   "metadata": {},
   "source": [
    "We weren't doing terribly with the building-specific means before, but now they are all well-captured by our model. The model is also able to do a decent job estimating within-building variability:"
   ]
  },
  {
   "cell_type": "code",
   "execution_count": null,
   "metadata": {},
   "outputs": [],
   "source": [
    "R\"\"\"\n",
    "ppc_stat_grouped(\n",
    "  y = stan_dat_hier$complaints,\n",
    "  yrep = y_rep,\n",
    "  group = pest_data$building_id,\n",
    "  stat = 'sd',\n",
    "  binwidth = 0.5\n",
    ")\n",
    "\"\"\"\n",
    "\n",
    "# Julia implementation:"
   ]
  },
  {
   "cell_type": "markdown",
   "metadata": {},
   "source": [
    "Predictions by number of traps:"
   ]
  },
  {
   "cell_type": "code",
   "execution_count": null,
   "metadata": {},
   "outputs": [],
   "source": [
    "R\"\"\"\n",
    "ppc_intervals(\n",
    "  y = stan_dat_hier$complaints,\n",
    "  yrep = y_rep,\n",
    "  x = stan_dat_hier$traps\n",
    ") +\n",
    "  labs(x = \"Number of traps\", y = \"Number of complaints\")\n",
    "\"\"\"\n",
    "\n",
    "# Julia implementation:"
   ]
  },
  {
   "cell_type": "markdown",
   "metadata": {},
   "source": [
    "Standardized residuals:"
   ]
  },
  {
   "cell_type": "code",
   "execution_count": null,
   "metadata": {},
   "outputs": [],
   "source": [
    "R\"\"\"\n",
    "mean_y_rep <- colMeans(y_rep)\n",
    "mean_inv_phi <- mean(as.matrix(fitted_model_NB_hier_ncp, pars = \"inv_phi\"))\n",
    "std_resid <- (stan_dat_hier$complaints - mean_y_rep) / sqrt(mean_y_rep + mean_y_rep^2*mean_inv_phi)\n",
    "qplot(mean_y_rep, std_resid) + hline_at(2) + hline_at(-2)\n",
    "\"\"\"\n",
    "\n",
    "# Julia implementation:"
   ]
  },
  {
   "cell_type": "markdown",
   "metadata": {},
   "source": [
    "Rootogram:"
   ]
  },
  {
   "cell_type": "code",
   "execution_count": null,
   "metadata": {},
   "outputs": [],
   "source": [
    "R\"\"\"\n",
    "ppc_rootogram(stan_dat_hier$complaints, yrep = y_rep)\n",
    "\"\"\"\n",
    "\n",
    "# Julia implementation:"
   ]
  },
  {
   "cell_type": "markdown",
   "metadata": {},
   "source": [
    "### Varying intercepts *and* varying slopes\n",
    "\n",
    "We've gotten some new data that extends the number of time points for which we have observations for each building. This will let us explore how to expand the model a bit more with varying *slopes* in addition to the varying intercepts and also, later, also model temporal variation."
   ]
  },
  {
   "cell_type": "code",
   "execution_count": null,
   "metadata": {},
   "outputs": [],
   "source": [
    "R\"\"\"\n",
    "stan_dat_hier <- readRDS('data/pest_data_longer_stan_dat.RDS')\n",
    "\"\"\"\n",
    "\n",
    "# Julia implementation:"
   ]
  },
  {
   "cell_type": "markdown",
   "metadata": {},
   "source": [
    "Perhaps if the levels of complaints differ by building, the coefficient for the effect of traps on building does too. We can add this to our model and observe the fit.\n",
    "\n",
    ":$\n",
    "\n",
    "\\text{complaints}*{b,t} \\sim \\text{Neg-Binomial}(\\lambda*{b,t}, \\phi)  \\\n",
    "\\lambda*{b,t} = \\exp{(\\eta*{b,t})}\\\n",
    "\\eta*{b,t} = \\mu*b + \\kappa*b \\, \\texttt{traps}*{b,t} + \\text{log*sq*foot}*b \\\n",
    "\\mu*b \\sim \\text{Normal}(\\alpha + \\texttt{building*data} \\, \\zeta, \\sigma*{\\mu}) \\\n",
    "\\kappa*b \\sim \\text{Normal}(\\beta + \\texttt{building*data} \\, \\gamma, \\sigma_{\\kappa}) :$\n",
    "\n",
    "Let's compile the model."
   ]
  },
  {
   "cell_type": "code",
   "execution_count": null,
   "metadata": {},
   "outputs": [],
   "source": [
    "R\"\"\"\n",
    "comp_model_NB_hier_slopes <- stan_model('stan_programs/hier_NB_regression_ncp_slopes_mod.stan')\n",
    "\"\"\"\n",
    "\n",
    "# Julia implementation:"
   ]
  },
  {
   "cell_type": "markdown",
   "metadata": {},
   "source": [
    "Fit the model to data and extract the posterior draws needed for our posterior predictive checks."
   ]
  },
  {
   "cell_type": "code",
   "execution_count": null,
   "metadata": {},
   "outputs": [],
   "source": [
    "R\"\"\"\n",
    "fitted_model_NB_hier_slopes <-\n",
    "  sampling(\n",
    "    comp_model_NB_hier_slopes,\n",
    "    data = stan_dat_hier,\n",
    "    chains = 4, cores = 4,\n",
    "    control = list(adapt_delta = 0.95)\n",
    "  )\n",
    "\"\"\"\n",
    "\n",
    "# Julia implementation:"
   ]
  },
  {
   "cell_type": "markdown",
   "metadata": {},
   "source": [
    "To see if the model infers building-to-building differences in, we can plot a histogram of our marginal posterior distribution for `sigma_kappa`."
   ]
  },
  {
   "cell_type": "code",
   "execution_count": null,
   "metadata": {},
   "outputs": [],
   "source": [
    "R\"\"\"\n",
    "mcmc_hist(\n",
    "  as.matrix(fitted_model_NB_hier_slopes, pars = \"sigma_kappa\"),\n",
    "  binwidth = 0.005\n",
    ")\n",
    "\"\"\"\n",
    "\n",
    "# Julia implementation:"
   ]
  },
  {
   "cell_type": "code",
   "execution_count": null,
   "metadata": {},
   "outputs": [],
   "source": [
    "R\"\"\"\n",
    "print(fitted_model_NB_hier_slopes, pars = c('kappa','beta','alpha','phi','sigma_mu','sigma_kappa','mu'))\n",
    "\"\"\"\n",
    "\n",
    "# Julia implementation:"
   ]
  },
  {
   "cell_type": "code",
   "execution_count": null,
   "metadata": {},
   "outputs": [],
   "source": [
    "R\"\"\"\n",
    "mcmc_hist(\n",
    "  as.matrix(fitted_model_NB_hier_slopes, pars = \"beta\"),\n",
    "  binwidth = 0.005\n",
    ")\n",
    "\"\"\"\n",
    "\n",
    "# Julia implementation:"
   ]
  },
  {
   "cell_type": "markdown",
   "metadata": {},
   "source": [
    "While the model can't specifically rule out zero from the posterior, it does have mass at small non-zero numbers, so we should leave in the hierarchy over $\\texttt{kappa}$. Plotting the marginal data density again, we can see the model still looks well calibrated."
   ]
  },
  {
   "cell_type": "code",
   "execution_count": null,
   "metadata": {},
   "outputs": [],
   "source": [
    "R\"\"\"\n",
    "y_rep <- as.matrix(fitted_model_NB_hier_slopes, pars = \"y_rep\")\n",
    "ppc_dens_overlay(\n",
    "  y = stan_dat_hier$complaints,\n",
    "  yrep = y_rep[1:200,]\n",
    ")\n",
    "\"\"\"\n",
    "\n",
    "# Julia implementation:"
   ]
  },
  {
   "cell_type": "markdown",
   "metadata": {},
   "source": [
    "## Time varying effects and structured priors\n",
    "\n",
    "We haven't looked at how cockroach complaints change over time. Let's look at whether there's any pattern over time."
   ]
  },
  {
   "cell_type": "code",
   "execution_count": null,
   "metadata": {},
   "outputs": [],
   "source": [
    "R\"\"\"\n",
    "select_vec <- which(stan_dat_hier$mo_idx %in% 1:12)\n",
    "ppc_stat_grouped(\n",
    "  y = stan_dat_hier$complaints[select_vec],\n",
    "  yrep = y_rep[,select_vec],\n",
    "  group = stan_dat_hier$mo_idx[select_vec],\n",
    "  stat = 'mean'\n",
    ") + xlim(0, 11)\n",
    "\"\"\"\n",
    "\n",
    "# Julia implementation:"
   ]
  },
  {
   "cell_type": "markdown",
   "metadata": {},
   "source": [
    "We might augment our model with a log-additive monthly effect, $\\texttt{mo}_t$.\n",
    "\n",
    ":$\n",
    "\n",
    "\\eta*{b,t} = \\mu*b + \\kappa*b \\, \\texttt{traps}*{b,t} + \\texttt{mo}*t + \\text{log*sq*foot}*b :$\n",
    "\n",
    "We have complete freedom over how to specify the prior for $\\texttt{mo}_t$. There are several competing factors for how the number of complaints might change over time. It makes sense that there might be more roaches in the environment during the summer, but we might also expect that there is more roach control in the summer as well. Given that we're modeling complaints, maybe after the first sighting of roaches in a building, residents are more vigilant, and thus complaints of roaches would increase.\n",
    "\n",
    "This can be a motivation for using an autoregressive prior for our monthly effects. The model is as follows:\n",
    "\n",
    ":$\n",
    "\n",
    "\\texttt{mo}*t \\sim \\text{Normal}(\\rho \\, \\texttt{mo}*{t-1}, \\sigma*\\texttt{mo}) \\\n",
    "\\equiv \\\n",
    "\\texttt{mo}*t = \\rho \\, \\texttt{mo}*{t-1} +\\epsilon*t , \\quad \\epsilon*t \\sim \\text{Normal}(0, \\sigma*\\texttt{mo}) \\\n",
    "\\quad \\rho \\in [-1,1] :$\n",
    "\n",
    "This equation says that the monthly effect in month $t$ is directly related to the last month's monthly effect. Given the description of the process above, it seems like there could be either positive or negative associations between the months, but there should be a bit more weight placed on positive $\\rho$s, so we'll put an informative prior that pushes the parameter $\\rho$ towards 0.5.\n",
    "\n",
    "Before we write our prior, however, we have a problem: Stan doesn't implement any densities that have support on $[-1,1]$. We can use variable transformation of a raw variable defined on $[0,1]$ to to give us a density on $[-1,1]$. Specifically,\n",
    "\n",
    ":$\n",
    "\n",
    "\\rho*{\\text{raw}} \\in [0, 1] \\\n",
    "\\rho = 2 \\times \\rho*{\\text{raw}} - 1 :$\n",
    "\n",
    "Then we can put a beta prior on $\\rho_\\text{raw}$ to push our estimate towards 0.5.\n",
    "\n",
    "One further wrinkle is that we have a prior for $\\texttt{mo}_t$ that depends on $\\texttt{mo}_{t-1}$. That is, we are working with the *conditional* distribution of $\\texttt{mo}_t$ given $\\texttt{mo}_{t-1}$. But what should we do about the prior for $\\texttt{mo}_1$, for which we don't have a previous time period in the data?\n",
    "\n",
    "We need to work out the *marginal* distribution of the first observation. Thankfully we can use the fact that AR models are stationary, so $\\text{Var}(\\texttt{mo}_t) = \\text{Var}(\\texttt{mo}_{t-1})$ and $\\mathbb{E}(\\texttt{mo}_t) = \\mathbb{E}(\\texttt{mo}_{t-1})$ for all $t$. Therefore the marginal distribution of $\\texttt{mo}_1$ is the same as the marginal distribution of any $\\texttt{mo}_t$.\n",
    "\n",
    "First we derive the marginal variance of $\\texttt{mo}_{t}$.\n",
    "\n",
    ":$\n",
    "\n",
    "\\text{Var}(\\texttt{mo}*t) = \\text{Var}(\\rho \\texttt{mo}*{t-1} + \\epsilon*t)  \\\n",
    "\\text{Var}(\\texttt{mo}*t) = \\text{Var}(\\rho \\texttt{mo}*{t-1}) + \\text{Var}(\\epsilon*t) :$ where the second line holds by independence of $\\epsilon_t$ and $\\epsilon_{t-1})$. Then, using the fact that $Var(cX) = c^2Var(X)$ for a constant $c$ and the fact that, by stationarity, $\\textrm{Var}(\\texttt{mo}_{t-1}) = \\textrm{Var}(\\texttt{mo}_{t})$, we then obtain:\n",
    "\n",
    ":$\n",
    "\n",
    "\\text{Var}(\\texttt{mo}*t)= \\rho^2 \\text{Var}( \\texttt{mo}*{t})  + \\sigma*\\texttt{mo}^2 \\\n",
    "\\text{Var}(\\texttt{mo}*t) = \\frac{\\sigma_\\texttt{mo}^2}{1 - \\rho^2} :$\n",
    "\n",
    "For the mean of $\\texttt{mo}_t$ things are a bit simpler:\n",
    "\n",
    ":$\n",
    "\n",
    "\\mathbb{E}(\\texttt{mo}*t) = \\mathbb{E}(\\rho \\, \\texttt{mo}*{t-1} + \\epsilon*t) \\\n",
    "\\mathbb{E}(\\texttt{mo}*t) = \\mathbb{E}(\\rho \\, \\texttt{mo}*{t-1}) + \\mathbb{E}(\\epsilon*t) \\\n",
    ":$\n",
    "\n",
    "Since $\\mathbb{E}(\\epsilon_t) = 0$ by assumption we have\n",
    "\n",
    ":$\n",
    "\n",
    "\\mathbb{E}(\\texttt{mo}*t) = \\mathbb{E}(\\rho \\, \\texttt{mo}*{t-1})  + 0\\\n",
    "\\mathbb{E}(\\texttt{mo}*t) = \\rho \\, \\mathbb{E}(\\texttt{mo}*{t}) \\\n",
    "\\mathbb{E}(\\texttt{mo}*t) - \\rho \\mathbb{E}(\\texttt{mo}*t) = 0  \\\n",
    "\\mathbb{E}(\\texttt{mo}_t) = 0/(1 - \\rho) :$\n",
    "\n",
    "which for $\\rho \\neq 1$ yields $\\mathbb{E}(\\texttt{mo}_{t}) = 0$.\n",
    "\n",
    "We now have the marginal distribution for $\\texttt{mo}_{t}$, which, in our case, we will use for $\\texttt{mo}_1$. The full AR(1) specification is then:\n",
    "\n",
    ":$\n",
    "\n",
    "\\texttt{mo}*1 \\sim \\text{Normal}\\left(0, \\frac{\\sigma*\\texttt{mo}}{\\sqrt{1 - \\rho^2}}\\right) \\\n",
    "\\texttt{mo}*t \\sim \\text{Normal}\\left(\\rho \\, \\texttt{mo}*{t-1}, \\sigma_\\texttt{mo}\\right) \\forall t > 1 :$"
   ]
  },
  {
   "cell_type": "code",
   "execution_count": null,
   "metadata": {},
   "outputs": [],
   "source": [
    "R\"\"\"\n",
    "comp_model_NB_hier_mos <- stan_model('stan_programs/hier_NB_regression_ncp_slopes_mod_mos.stan')\n",
    "\"\"\"\n",
    "\n",
    "# Julia implementation:"
   ]
  },
  {
   "cell_type": "code",
   "execution_count": null,
   "metadata": {},
   "outputs": [],
   "source": [
    "R\"\"\"\n",
    "fitted_model_NB_hier_mos <- sampling(comp_model_NB_hier_mos, data = stan_dat_hier, chains = 4, cores = 4, control = list(adapt_delta = 0.9))\n",
    "\"\"\"\n",
    "\n",
    "# Julia implementation:"
   ]
  },
  {
   "cell_type": "markdown",
   "metadata": {},
   "source": [
    "In the interest of brevity, we won't go on expanding the model, though we certainly could. What other information would help us understand the data generating process better? What other aspects of the data generating process might we want to capture that we're not capturing now?\n",
    "\n",
    "As usual, we run through our posterior predictive checks."
   ]
  },
  {
   "cell_type": "code",
   "execution_count": null,
   "metadata": {},
   "outputs": [],
   "source": [
    "R\"\"\"\n",
    "y_rep <- as.matrix(fitted_model_NB_hier_mos, pars = \"y_rep\")\n",
    "ppc_dens_overlay(\n",
    "  y = stan_dat_hier$complaints,\n",
    "  yrep = y_rep[1:200,]\n",
    ")\n",
    "\"\"\"\n",
    "\n",
    "# Julia implementation:"
   ]
  },
  {
   "cell_type": "code",
   "execution_count": null,
   "metadata": {},
   "outputs": [],
   "source": [
    "R\"\"\"\n",
    "select_vec <- which(stan_dat_hier$mo_idx %in% 1:12)\n",
    "ppc_stat_grouped(\n",
    "  y = stan_dat_hier$complaints[select_vec],\n",
    "  yrep = y_rep[,select_vec],\n",
    "  group = stan_dat_hier$mo_idx[select_vec],\n",
    "  stat = 'mean'\n",
    ")\n",
    "\"\"\"\n",
    "\n",
    "# Julia implementation:"
   ]
  },
  {
   "cell_type": "markdown",
   "metadata": {},
   "source": [
    "As we can see, our monthly random intercept has captured a monthly pattern across all the buildings. We can also compare the prior and posterior for the autoregressive parameter to see how much we've learned. Here are two different ways of comparing the prior and posterior visually:"
   ]
  },
  {
   "cell_type": "code",
   "execution_count": null,
   "metadata": {},
   "outputs": [],
   "source": [
    "R\"\"\"\n",
    "# 1) compare draws from prior and draws from posterior\n",
    "rho_draws <- cbind(\n",
    "  2 * rbeta(4000, 10, 5) - 1, # draw from prior\n",
    "  as.matrix(fitted_model_NB_hier_mos, pars = \"rho\")\n",
    ")\n",
    "colnames(rho_draws) <- c(\"prior\", \"posterior\")\n",
    "mcmc_hist(rho_draws, freq = FALSE, binwidth = 0.025,\n",
    "          facet_args = list(nrow = 2)) + xlim(-1, 1)\n",
    "\n",
    "\n",
    "# 2) overlay prior density curve on posterior draws\n",
    "gen_rho_prior <- function(x) {\n",
    "  alpha <- 10; beta <- 5\n",
    "  a <- -1; c <- 1\n",
    "  lp <- (alpha - 1) * log(x - a) +\n",
    "        (beta - 1) * log(c - x) -\n",
    "        (alpha + beta - 1) * log(c - a) -\n",
    "         lbeta(alpha, beta)\n",
    "  return(exp(lp))\n",
    "}\n",
    "mcmc_hist(as.matrix(fitted_model_NB_hier_mos, pars = \"rho\"),\n",
    "          freq = FALSE, binwidth = 0.01) +\n",
    "  overlay_function(fun = gen_rho_prior) +\n",
    "  xlim(-1,1)\n",
    "\"\"\"\n",
    "\n",
    "# Julia implementation:"
   ]
  },
  {
   "cell_type": "code",
   "execution_count": null,
   "metadata": {},
   "outputs": [],
   "source": [
    "R\"\"\"\n",
    "print(fitted_model_NB_hier_mos, pars = c('rho','sigma_mu','sigma_kappa','gamma'))\n",
    "\"\"\"\n",
    "\n",
    "# Julia implementation:"
   ]
  },
  {
   "cell_type": "code",
   "execution_count": null,
   "metadata": {},
   "outputs": [],
   "source": [
    "R\"\"\"\n",
    "ppc_intervals(\n",
    "  y = stan_dat_hier$complaints,\n",
    "  yrep = y_rep,\n",
    "  x = stan_dat_hier$traps\n",
    ") +\n",
    "  labs(x = \"Number of traps\", y = \"Number of complaints\")\n",
    "\"\"\"\n",
    "\n",
    "# Julia implementation:"
   ]
  },
  {
   "cell_type": "markdown",
   "metadata": {},
   "source": [
    "It looks as if our model finally generates a reasonable posterior predictive distribution for all numbers of traps, and appropriately captures the tails of the data generating process.\n",
    "\n",
    "## Using our model: Cost forecasts\n",
    "\n",
    "Our model seems to be fitting well, so now we will go ahead and use the model to help us make a decision about how many traps to put in our buildings. We'll make a forecast for 6 months forward."
   ]
  },
  {
   "cell_type": "code",
   "execution_count": null,
   "metadata": {},
   "outputs": [],
   "source": [
    "R\"\"\"\n",
    "comp_rev <- stan_model('stan_programs/hier_NB_regression_ncp_slopes_mod_mos_predict.stan')\n",
    "print(comp_rev)\n",
    "\"\"\"\n",
    "\n",
    "# Julia implementation:"
   ]
  },
  {
   "cell_type": "markdown",
   "metadata": {},
   "source": [
    "An important input to the revenue model is how much revenue is lost due to each complaint. The client has a policy that for every 10 complaints, they'll call an exterminator costing the client $100, so that'll amount to $10 per complaint."
   ]
  },
  {
   "cell_type": "code",
   "execution_count": null,
   "metadata": {},
   "outputs": [],
   "source": [
    "R\"\"\"\n",
    "rev_model <- sampling(comp_rev, data = stan_dat_hier, cores = 4,\n",
    "                      control = list(adapt_delta = 0.9))\n",
    "\"\"\"\n",
    "\n",
    "# Julia implementation:"
   ]
  },
  {
   "cell_type": "markdown",
   "metadata": {},
   "source": [
    "Below we've generated our revenue curves for the buildings. These charts will give us precise quantification of our uncertainty around our revenue projections at any number of traps for each building.\n",
    "\n",
    "A key input to our analysis will be the cost of installing bait stations. We're simulating the number of complaints we receive over the course of a year, so we need to understand the cost associated with maintaining each bait station over the course of a year. There's the cost attributed to the raw bait station, which is the plastic housing and the bait material, a peanut-buttery substance that's injected with insecticide. The cost of maintaining one bait station for a year plus monthly replenishment of the bait material is about $20."
   ]
  },
  {
   "cell_type": "code",
   "execution_count": null,
   "metadata": {},
   "outputs": [],
   "source": [
    "R\"\"\"\n",
    "N_traps <- 20\n",
    "costs <- 10 * (0:N_traps)\n",
    "\"\"\"\n",
    "\n",
    "# Julia implementation:"
   ]
  },
  {
   "cell_type": "markdown",
   "metadata": {},
   "source": [
    "We'll also need labor for maintaining the bait stations, which need to be serviced every two months. If there are fewer than five traps, our in-house maintenance staff can manage the stations (about one hour of work every two months at $20/hour), but above five traps we need to hire outside pest control to help out. They're a bit more expensive, so we've put their cost at $30 / hour. Each five traps should require an extra person-hour of work, so that's factored in as well. The marginal person-person hours above five traps are at the higher pest-control-labor rate."
   ]
  },
  {
   "cell_type": "code",
   "execution_count": null,
   "metadata": {},
   "outputs": [],
   "source": [
    "R\"\"\"\n",
    "N_months_forward <- 12\n",
    "N_months_labor <- N_months_forward / 2\n",
    "hourly_rate_low <- 20\n",
    "hourly_rate_high <- 30\n",
    "costs <- costs +\n",
    "  (0:N_traps < 5 & 0:N_traps > 0) * (N_months_labor * hourly_rate_low) +\n",
    "  (0:N_traps >= 5 & 0:N_traps < 10) * (N_months_labor * (hourly_rate_low + 1 * hourly_rate_high)) +\n",
    "  (0:N_traps >= 10 & 0:N_traps < 15) * (N_months_labor * (hourly_rate_low + 2 * hourly_rate_high)) +\n",
    "  (0:N_traps >= 15) * (N_months_labor * (hourly_rate_low + 3 * hourly_rate_high))\n",
    "\"\"\"\n",
    "\n",
    "# Julia implementation:"
   ]
  },
  {
   "cell_type": "markdown",
   "metadata": {},
   "source": [
    "We can now plot curves with number of traps on the x-axis and profit/loss forecasts and uncertainty intervals on the y-axis."
   ]
  },
  {
   "cell_type": "code",
   "execution_count": null,
   "metadata": {},
   "outputs": [],
   "source": [
    "R\"\"\"\n",
    "# extract as a list for convenience below\n",
    "samps_rev <- rstan::extract(rev_model)\n",
    "\n",
    "# total and mean profit\n",
    "tot_profit <- sweep(samps_rev$rev_, 3, STATS = costs, FUN = '-')\n",
    "mean_profit <- t(apply(tot_profit, c(2, 3), median))\n",
    "\n",
    "# lower and upper ends of 50% central interval\n",
    "lower_profit <- t(apply(tot_profit, c(2, 3), quantile, 0.25))\n",
    "upper_profit <- t(apply(tot_profit, c(2, 3), quantile, 0.75))\n",
    "\n",
    "profit_df <-\n",
    "  data.frame(\n",
    "    profit = as.vector(mean_profit),\n",
    "    lower = as.vector(lower_profit),\n",
    "    upper = as.vector(upper_profit),\n",
    "    traps = rep(0:N_traps, times = N_buildings),\n",
    "    building = rep(1:N_buildings, each = N_traps + 1)\n",
    "  )\n",
    "ggplot(data = profit_df, aes(x = traps, y = profit)) +\n",
    "  geom_ribbon(aes(ymin = lower, ymax = upper), fill = \"grey70\") +\n",
    "  geom_line() +\n",
    "  facet_wrap(~ building, scales = 'free_y', ncol = 2)\n",
    "\"\"\"\n",
    "\n",
    "# Julia implementation:"
   ]
  },
  {
   "cell_type": "markdown",
   "metadata": {},
   "source": [
    "We can can see that the optimal number of bait stations differs by building.\n",
    "\n",
    "<br>\n",
    "\n",
    "Left as an exercise for the reader:\n",
    "\n",
    "  * How would we build a revenue curve for a new building?\n",
    "  * Let's say our utility function is revenue. If we wanted to maximize expected\n",
    "\n",
    "revenue, we can take expectations at each station count for each building, and choose the trap numbers that maximizes expected revenue. This will be called a maximum revenue strategy. How can we generate the distribution of portfolio revenue (i.e. the sum of revenue across all the buildings) under the maximum revenue strategy from the the draws of `rev_pred` we already have?\n",
    "\n",
    "## Gaussian process instead of AR(1)\n",
    "\n",
    "### Joint density for AR(1) process\n",
    "\n",
    "We can derive the joint distribution for the AR(1) process before we move to the Gaussian process (GP) which will give us a little more insight into what a GP is. Remember that we've specified the AR(1) prior as:\n",
    "\n",
    ":$\n",
    "\n",
    "\\begin{aligned} \\texttt{mo}*1 & \\sim \\text{Normal}\\left(0, \\frac{\\sigma*\\texttt{mo}}{\\sqrt{1 - \\rho^2}}\\right) \\\n",
    "\\texttt{mo}*t & \\sim \\text{Normal}\\left(\\rho \\, \\texttt{mo}*{t-1}, \\sigma_\\texttt{mo}\\right) \\forall t > 1 \\end{aligned} :$ Rewriting our process in terms of the errors will make the derivation of the joint distribution clearer\n",
    "\n",
    ":$\n",
    "\n",
    "\\begin{aligned} \\texttt{mo}*1 & \\sim \\text{Normal}\\left(0, \\frac{\\sigma*\\texttt{mo}}{\\sqrt{1 - \\rho^2}}\\right) \\\n",
    "\\texttt{mo}*t & = \\rho \\, \\texttt{mo}*{t-1} + \\sigma*\\texttt{mo}\\epsilon*t  \\\n",
    "\\epsilon_t & \\sim \\text{Normal}\\left(0, 1\\right) \\end{aligned} :$\n",
    "\n",
    "Given that our first term $\\texttt{mo}_1$ is normally distributed, and subsequent terms are sums of normal random variables, we can see that jointly the vector, `mo`, with the $t$-th element equally the scalar $\\texttt{mo}_t$, is multivariate normal, with mean zero (which we derived above). More formally, if we have a vector $x \\in \\mathbb{R}^M$ which is multivariate normal, $x \\sim \\text{MultiNormal}(0, \\Sigma)$ and we left-multiply $x$ by a nonsingular matrix $L \\in \\mathbb{R}^{M\\times M}$, $y = Lx \\sim \\text{MultiNormal}(0, L\\Sigma L^T)$. We can use this fact to show that our vector `mo` is jointly multivariate normal.\n",
    "\n",
    "Just as before with the noncentered parameterization, we'll be taking a vector $\\texttt{mo_raw} \\in \\mathbb{R}^M$ in which each element is univariate $\\text{Normal}(0,1)$ and transforming it into `mo`, but instead of doing the transformation with scalar transformations like in the section **Time varying effects and structured priors**, we'll do it with linear algebra operations. The trick is that by specifying each element of $\\texttt{mo_raw}$ to be distributed $\\text{Normal}(0,1)$ we are implicitly defining $\\texttt{mo_raw} \\sim \\text{MultiNormal}(0, I_M)$, where $I_M$ is the identity matrix of dimension $M \\times M$. Then we do a linear transformation using a matrix $L$ and assign the result to `mo` like $\\texttt{mo} = L\\times\\texttt{mo_raw}$ so $\\texttt{mo} \\sim \\text{MultiNormal}(0, LI_M L^T)$ and $LI_M L^T = LL^T$.\n",
    "\n",
    "Consider the case where we have three elements in `mo` and we want to make figure out the form for $L$.\n",
    "\n",
    "The first element of `mo` is fairly straightforward, because it mirrors our earlier parameterization of the AR(1) prior. The only difference is that we're explicitly adding the last two terms of `mo_raw` into the equation so we can use matrix algebra for our transformation. :$ \\texttt{mo}*1 = \\frac{\\sigma*{\\texttt{mo}}}{\\sqrt{1 - \\rho^2}} \\times \\texttt{mo*raw}*1 + 0 \\times \\texttt{mo*raw}*2 + 0 \\times \\texttt{mo*raw}*3\\\n",
    ":$ The second element is a bit more complicated:\n",
    "\n",
    ":$\n",
    "\n",
    "\\begin{aligned} \\texttt{mo}*2 & = \\rho \\texttt{mo}*1 + \\sigma*{\\texttt{mo}}\\,\\texttt{mo*raw}*2 + 0 \\times \\texttt{mo*raw}*3  \\\n",
    " & = \\rho \\left(\\frac{\\sigma*{\\texttt{mo}}}{\\sqrt{1 - \\rho^2}} \\times \\texttt{mo*raw}*1\\right) + \\sigma*{\\texttt{mo}}\\,\\texttt{mo*raw}*2 + 0 \\times \\texttt{mo*raw}*3  \\[5pt]  & = \\frac{\\rho \\sigma*{\\texttt{mo}}}{\\sqrt{1 - \\rho^2}} \\times \\texttt{mo*raw}*1 + \\sigma*{\\texttt{mo}}\\,\\texttt{mo*raw}*2 + 0 \\times \\texttt{mo*raw}_3  \\\n",
    "\\end{aligned} :$\n",
    "\n",
    "While the third element will involve all three terms :$ \\begin{aligned} \\texttt{mo}*3 & = \\rho \\, \\texttt{mo}*2 + \\sigma*{\\texttt{mo}}\\,\\texttt{mo*raw}*3 \\\n",
    " & = \\rho \\left(\\frac{\\rho \\sigma*{\\texttt{mo}}}{\\sqrt{1 - \\rho^2}} \\times \\texttt{mo*raw}*1 + \\sigma*{\\texttt{mo}}\\,\\texttt{mo*raw}*2\\right) + \\sigma*{\\texttt{mo}} \\texttt{mo*raw}*3  \\[5pt] & = \\frac{\\rho^2 \\sigma*{\\texttt{mo}}}{\\sqrt{1 - \\rho^2}} \\times \\texttt{mo*raw}*1 + \\rho \\, \\sigma*{\\texttt{mo}}\\,\\texttt{mo*raw}*2 +  \\sigma*{\\texttt{mo}}\\,\\texttt{mo*raw}_3  \\\n",
    "\\end{aligned} :$\n",
    "\n",
    "Writing this all together:\n",
    "\n",
    ":$\n",
    "\n",
    "\\begin{aligned} \\texttt{mo}*1 & = \\frac{\\sigma*{\\texttt{mo}}}{\\sqrt{1 - \\rho^2}} \\times \\texttt{mo*raw}*1 + 0 \\times \\texttt{mo*raw}*2 + 0 \\times \\texttt{mo*raw}*3\\[3pt] \\texttt{mo}*2 & = \\frac{\\rho \\sigma*{\\texttt{mo}}}{\\sqrt{1 - \\rho^2}} \\times \\texttt{mo*raw}*1 + \\sigma*{\\texttt{mo}}\\,\\texttt{mo*raw}*2 + 0 \\times \\texttt{mo*raw}*3  \\[3pt] \\texttt{mo}*3 & = \\frac{\\rho^2 \\sigma*{\\texttt{mo}}}{\\sqrt{1 - \\rho^2}} \\times \\texttt{mo*raw}*1 + \\rho \\, \\sigma*{\\texttt{mo}}\\,\\texttt{mo*raw}*2 +  \\sigma*{\\texttt{mo}}\\,\\texttt{mo*raw}*3  \\\n",
    "\\end{aligned} :$ Separating this into a matrix of coefficients $L$ and the vector `mo*raw`:\n",
    "\n",
    ":$\n",
    "\n",
    "\\texttt{mo} = \\begin{bmatrix} \\sigma*\\texttt{mo} / \\sqrt{1 - \\rho^2} & 0 & 0 \\\n",
    "              \\rho \\sigma*\\texttt{mo} / \\sqrt{1 - \\rho^2} & \\sigma*\\texttt{mo} & 0 \\\n",
    "              \\rho^2 \\sigma*\\texttt{mo} / \\sqrt{1 - \\rho^2} & \\rho \\,\\sigma*\\texttt{mo}  & \\sigma*\\texttt{mo}               \\end{bmatrix} \\times \\texttt{mo_raw} :$\n",
    "\n",
    "If we multiply $L$ on the right by its transpose $L^T$, we'll get expressions for the covariance matrix of our multivariate random vector `mo`:\n",
    "\n",
    ":$\n",
    "\n",
    "\\begin{bmatrix} \\sigma*\\texttt{mo} / \\sqrt{1 - \\rho^2} & 0 & 0 \\\n",
    "\\rho \\sigma*\\texttt{mo} / \\sqrt{1 - \\rho^2} & \\sigma*\\texttt{mo} & 0 \\\n",
    "\\rho^2 \\sigma*\\texttt{mo} / \\sqrt{1 - \\rho^2} & \\rho \\,\\sigma*\\texttt{mo}  & \\sigma*\\texttt{mo} \\end{bmatrix} \\times \\begin{bmatrix} \\sigma*\\texttt{mo} / \\sqrt{1 - \\rho^2} & \\rho \\sigma*\\texttt{mo} / \\sqrt{1 - \\rho^2} & \\rho^2 \\sigma*\\texttt{mo} / \\sqrt{1 - \\rho^2} \\\n",
    "0 & \\sigma*\\texttt{mo} & \\rho \\,\\sigma*\\texttt{mo} \\\n",
    "0 & 0  & \\sigma*\\texttt{mo} \\end{bmatrix} :$\n",
    "\n",
    "which results in:\n",
    "\n",
    ":$\n",
    "\n",
    "\\begin{bmatrix} \\sigma^2*\\texttt{mo} / (1 - \\rho^2) & \\rho \\, \\sigma^2*\\texttt{mo} / (1 - \\rho^2) &  \\rho^2 \\, \\sigma^2*\\texttt{mo} / (1 - \\rho^2)\\\n",
    "\\rho \\, \\sigma^2*\\texttt{mo} / (1 - \\rho^2)  & \\sigma^2*\\texttt{mo} / (1 - \\rho^2)  & \\rho \\, \\sigma^2*\\texttt{mo} / (1 - \\rho^2) \\\n",
    "\\rho^2 \\sigma^2*\\texttt{mo} / (1 - \\rho^2) & \\rho \\, \\sigma^2*\\texttt{mo} / (1 - \\rho^2) & \\sigma^2*\\texttt{mo} / (1 - \\rho^2) \\end{bmatrix} :$ We can simplify this result by dividing the matrix by :\\sigma^2*\\texttt{mo} / (1 - \\rho^2)$ to get\n",
    "\n",
    ":$\n",
    "\n",
    "\\begin{bmatrix} 1 & \\rho  &  \\rho^2 \\\n",
    "\\rho  & 1  & \\rho  \\\n",
    "\\rho^2 & \\rho & 1 \\end{bmatrix} :$\n",
    "\n",
    "This should generalize to higher dimensions pretty easily. We could replace the Stan code in lines 59 to 63 in `stan_programs/hier_NB_regression_ncp_slopes_mod_mos.stan` with the following:\n",
    "\n",
    "```\n",
    "vector[M] mo;\n",
    "{\n",
    "  matrix[M,M] A = rep_matrix(0, M, M);\n",
    "  A[1,1] = sigma_mo / sqrt(1 - rho^2);\n",
    "  for (m in 2:M)\n",
    "    A[m,1] = rho^(m-1) * sigma_mo / sqrt(1 - rho^2);\n",
    "  for (m in 2:M) {\n",
    "    A[m,m] = sigma_mo;\n",
    "    for (i in (m + 1):M)\n",
    "      A[i,m] = rho^(i-m) * sigma_mo;\n",
    "  }\n",
    "  mo = A * mo_raw;\n",
    "}\n",
    "```\n",
    "\n",
    "It's important to the note that the existing Stan code in lines 59 to 63 is doing the exact same calculations but more efficiently.\n",
    "\n",
    "### Cholesky decomposition\n",
    "\n",
    "Note that if we only knew the covariance matrix of our process, say a matrix called $\\Sigma$, and we had a way of decomposing $\\Sigma$ into $L L^T$ we wouldn't need to write out the equation for the vector. Luckily, there is a matrix decomposition called the **Cholesky decomposition** that does just that. The Stan function for the composition is called `cholesky_decompose`. Instead of writing out the explicit equation, we could do the following:\n",
    "\n",
    "```\n",
    "vector[M] mo;\n",
    "{\n",
    "  mo = cholesky_decompose(Sigma) * mo_raw;\n",
    "}\n",
    "```\n",
    "\n",
    "provided we've defined `Sigma` appropriately elsewhere in the transformed parameter block. Note that the matrix $L$ is lower-triangular (i.e. all elements in the upper right-hand triangle of the matrix are zero).\n",
    "\n",
    "We've already derived the covariance matrix `Sigma` for the three-dimensional AR(1) process above by explicitly calculating $L L^T$, but we can do so using the rules of covariance and the way our process is defined. We already know that each element of $\\texttt{mo}_t$ has marginal variance $\\sigma^2_\\texttt{mo} / (1 - \\rho^2)$, but we don't know the covariance of $\\texttt{mo}_t$ and $\\texttt{mo}_{t+h}$. We can do so recursively. First we derive the covariance for two elements of $\\texttt{mo}_t$ separated by one month:\n",
    "\n",
    ":$\n",
    "\n",
    "\\text{Cov}(\\texttt{mo}*{t+1},\\texttt{mo}*{t}) = \\text{Cov}(\\rho \\, \\texttt{mo}*{t} + \\sigma*\\texttt{mo}\\epsilon*{t+1},\\texttt{mo}*{t}) \\\n",
    "\\text{Cov}(\\texttt{mo}*{t+1},\\texttt{mo}*{t}) = \\rho \\text{Cov}(\\texttt{mo}*{t},\\texttt{mo}*{t}) + \\sigma*\\texttt{mo}\\text{Cov}(\\epsilon*{t+1},\\texttt{mo}*{t}) \\\n",
    "\\text{Cov}(\\texttt{mo}*{t+1},\\texttt{mo}*{t}) = \\rho \\text{Var}(\\texttt{mo}*t) + 0 :$\n",
    "\n",
    "Then we define the covariance for $\\text{Cov}(\\texttt{mo}_{t+h},\\texttt{mo}_{t})$ in terms of $\\text{Cov}(\\texttt{mo}_{t+h-1},\\texttt{mo}_{t})$\n",
    "\n",
    ":$\n",
    "\n",
    "\\text{Cov}(\\texttt{mo}*{t+h},\\texttt{mo}*{t}) = \\text{Cov}(\\rho \\, \\texttt{mo}*{t+h-1} + \\sigma*\\texttt{mo}\\epsilon*{t+h},\\texttt{mo}*{t}) \\\n",
    "\\text{Cov}(\\texttt{mo}*{t+h},\\texttt{mo}*{t}) = \\rho \\, \\text{Cov}(\\texttt{mo}*{t+h-1},\\texttt{mo}*{t}) \\\n",
    ":$ Which we can use to recursively get at the covariance we need:\n",
    "\n",
    ":$\n",
    "\n",
    "\\text{Cov}(\\texttt{mo}*{t+h},\\texttt{mo}*{t}) = \\rho \\, \\text{Cov}(\\texttt{mo}*{t+h-1},\\texttt{mo}*{t}) \\\n",
    "\\text{Cov}(\\texttt{mo}*{t+h},\\texttt{mo}*{t}) = \\rho \\,( \\rho \\, \\text{Cov}(\\texttt{mo}*{t+h-2},\\texttt{mo}*{t}) )\\\n",
    "\\dots \\\n",
    "\\text{Cov}(\\texttt{mo}*{t+h},\\texttt{mo}*{t}) = \\rho^h \\, \\text{Cov}(\\texttt{mo}*{t},\\texttt{mo}*{t}) \\\n",
    "\\text{Cov}(\\texttt{mo}*{t+h},\\texttt{mo}*{t}) = \\rho^h \\, \\sigma_\\texttt{mo}^2/(1 - \\rho^2) \\\n",
    ":$\n",
    "\n",
    "Writing this in Stan code to replace lines 59 to 63 in `stan_programs/hier_NB_regression_ncp_slopes_mod_mos.stan` we would get:\n",
    "\n",
    "```\n",
    "vector[M] mo;\n",
    "{\n",
    "  matrix[M,M] Sigma;\n",
    "  for (m in 1:M) {\n",
    "    Sigma[m,m] = 1.0;\n",
    "    for (i in (m + 1):M) {\n",
    "      Sigma[i,m] = rho^(i - m);\n",
    "      Sigma[m,i] = Sigma[i,m];\n",
    "    }\n",
    "  }\n",
    "  Sigma = Sigma * sigma_mo^2 / (1 - rho^2);\n",
    "  mo = cholesky_decompose(Sigma) * mo_raw;\n",
    "}\n",
    "```\n",
    "\n",
    "### Extension to Gaussian processes\n",
    "\n",
    "The prior we defined for `mo` is strictly speaking a Gaussian process. It is a stochastic process that is distributed as jointly multivariate normal for any finite value of $M$. Formally, we could write the above prior for `mo` like so:\n",
    "\n",
    ":$\n",
    "\n",
    "\\begin{aligned}   \\sigma*\\texttt{mo} & \\sim \\text{Normal}(0, 1) \\\n",
    "  \\rho & \\sim \\text{GenBeta}(-1,1,10, 5) \\\n",
    "  \\texttt{mo}*t & \\sim \\text{GP}\\left( 0,   K(t | \\sigma*\\texttt{mo},\\rho) \\right) \\\n",
    "\\end{aligned} :$ The notation :K(t | \\sigma*\\texttt{mo},\\rho)$ defines the covariance matrix of the process over the domain $t$, which is months.\n",
    "\n",
    "In other words:\n",
    "\n",
    ":$\n",
    "\n",
    "\\text{Cov}(\\texttt{mo}*t,\\texttt{mo}*{t+h}) = k(t, t+h | \\sigma_\\texttt{mo}, \\rho) :$\n",
    "\n",
    "We've already derived the covariance for our process.  What if we want to use a different definition of `Sigma`?\n",
    "\n",
    "As the above example shows defining a proper covariance matrix will yield a proper multivariate normal prior on a parameter. We need a way of defining a proper covariance matrix. These are symmetric positive definite matrices. It turns out there is a class of functions that define proper covariance matrices, called **kernel functions**. These functions are applied elementwise to construct a covariance matrix, $K$:\n",
    "\n",
    ":$\n",
    "\n",
    "K_{[t,t+h]} = k(t, t+h | \\theta) :$ where $\\theta$ are the hyperparameters that define the behavior of covariance matrix.\n",
    "\n",
    "One such function is called the **exponentiated quadratic function**, and it happens to be implemented in Stan as `cov_exp_quad`. The function is defined as:\n",
    "\n",
    ":$\n",
    "\n",
    "\\begin{aligned}   k(t, t+h | \\theta) & = \\alpha^2  \\exp \\left( - \\dfrac{1}{2\\ell^2} ((t+h) - t)^2 \\right) \\\n",
    "  & = \\alpha^2  \\exp \\left( - \\dfrac{h^2}{2\\ell^2} \\right) \\end{aligned} :$\n",
    "\n",
    "The exponentiated quadratic kernel has two components to theta, $\\alpha$, the marginal standard deviation of the stochastic process $f$ and $\\ell$, the process length-scale.\n",
    "\n",
    "The length-scale defines how quickly the covariance decays between time points, with large values of $\\ell$ yielding a covariance that decays slowly, and with small values of $\\ell$ yielding a covariance that decays rapidly. It can be seen interpreted as a measure of how nonlinear the `mo` process is in time.\n",
    "\n",
    "The marginal standard deviation defines how large the fluctuations are on the output side, which in our case is the number of roach complaints per month across all buildings. It can be seen as a scale parameter akin to the scale parameter for our building-level hierarchical intercept, though it now defines the scale of the monthly deviations.\n",
    "\n",
    "This kernel's defining quality is its smoothness; the function is infinitely differentiable. That will present problems for our example, but if we add some noise the diagonal of our covariance matrix, the model will fit well.\n",
    "\n",
    ":$\n",
    "\n",
    "k(t, t+h | \\theta) = \\alpha^2  \\exp \\left( - \\dfrac{h^2}{2\\ell^2} \\right) + \\text{if } h = 0, \\, \\sigma^2_\\texttt{noise} \\text{ else } 0 :$\n",
    "\n",
    "### Compiling the GP model"
   ]
  },
  {
   "cell_type": "code",
   "execution_count": null,
   "metadata": {},
   "outputs": [],
   "source": [
    "R\"\"\"\n",
    "comp_model_NB_hier_gp <- stan_model('stan_programs/hier_NB_regression_ncp_slopes_mod_mos_gp.stan')\n",
    "\"\"\"\n",
    "\n",
    "# Julia implementation:"
   ]
  },
  {
   "cell_type": "markdown",
   "metadata": {},
   "source": [
    "### Fitting the GP model to data"
   ]
  },
  {
   "cell_type": "code",
   "execution_count": null,
   "metadata": {},
   "outputs": [],
   "source": [
    "R\"\"\"\n",
    "fitted_model_NB_hier_gp <- sampling(comp_model_NB_hier_gp, data = stan_dat_hier, chains = 4, cores = 4, control = list(adapt_delta = 0.9))\n",
    "samps_gp <- rstan::extract(fitted_model_NB_hier_gp)\n",
    "\"\"\"\n",
    "\n",
    "# Julia implementation:"
   ]
  },
  {
   "cell_type": "markdown",
   "metadata": {},
   "source": [
    "### Examining the fit\n",
    "\n",
    "Let's look at the prior vs. posterior for the GP length scale parameter:"
   ]
  },
  {
   "cell_type": "code",
   "execution_count": null,
   "metadata": {},
   "outputs": [],
   "source": [
    "R\"\"\"\n",
    "length_scale_draws <- cbind(\n",
    "  prior = rgamma(4000, 10, 2),\n",
    "  posterior = samps_gp$gp_len\n",
    ")\n",
    "mcmc_areas(length_scale_draws)\n",
    "\"\"\"\n",
    "\n",
    "# Julia implementation:"
   ]
  },
  {
   "cell_type": "markdown",
   "metadata": {},
   "source": [
    "From the plot above it only looks like we learned a small amount, however we can see a bigger difference between the prior and posterior if we consider how much we learned about the ratio of `sigma_gp` to the length scale `gp_len`:"
   ]
  },
  {
   "cell_type": "code",
   "execution_count": null,
   "metadata": {},
   "outputs": [],
   "source": [
    "R\"\"\"\n",
    "noise_to_length_scale_ratio_draws <- cbind(\n",
    "  prior = abs(rnorm(4000)) / rgamma(4000, 10, 2),\n",
    "  posterior = samps_gp$sigma_gp / samps_gp$gp_len\n",
    ")\n",
    "mcmc_areas(noise_to_length_scale_ratio_draws)\n",
    "\"\"\"\n",
    "\n",
    "# Julia implementation:"
   ]
  },
  {
   "cell_type": "markdown",
   "metadata": {},
   "source": [
    "This is a classic problem with Gaussian processes. Marginally, the length-scale parameter isn't very well-identified by the data, but jointly the length-scale and the marginal standard deviation are well-identified.\n",
    "\n",
    "And let's compare the estimates for the time varying parameters between the AR(1) and GP. In this case the posterior mean of the time trend is essentially the same for the AR(1) and GP priors but the 50% uncertainty intervals are narrower for the AR(1):"
   ]
  },
  {
   "cell_type": "code",
   "execution_count": null,
   "metadata": {},
   "outputs": [],
   "source": [
    "R\"\"\"\n",
    "# visualizing 50% intervals\n",
    "mo_ar_intervals <- mcmc_intervals_data(as.matrix(fitted_model_NB_hier_mos, pars = \"mo\"), prob = 0.5)\n",
    "mo_gp_intervals <- mcmc_intervals_data(as.matrix(fitted_model_NB_hier_gp, pars = \"gp\"), prob = 0.5)\n",
    "plot_data <- bind_rows(mo_ar_intervals, mo_gp_intervals)\n",
    "plot_data$prior <- factor(rep(c(\"AR1\", \"GP\"), each = 36), levels = c(\"GP\", \"AR1\"))\n",
    "plot_data$time <- rep(1:36, times = 2)\n",
    "\n",
    "ggplot(plot_data, aes(x = time, y = m, ymin = l, ymax = h, fill = prior)) +\n",
    "  geom_ribbon(alpha = 2/3)\n",
    "\"\"\"\n",
    "\n",
    "# Julia implementation:"
   ]
  },
  {
   "cell_type": "markdown",
   "metadata": {},
   "source": [
    "The way we coded the GP also lets us plot a decomposition of the GP into a monthly noise component (`mo_noise` in the Stan code) and the underlying smoothly varying trend (`gp_exp_quad` in the Stan code):"
   ]
  },
  {
   "cell_type": "code",
   "execution_count": null,
   "metadata": {},
   "outputs": [],
   "source": [
    "R\"\"\"\n",
    "# visualizing 50% intervals\n",
    "mo_noise_intervals <- mcmc_intervals_data(as.matrix(fitted_model_NB_hier_gp, pars = \"mo_noise\"), prob = 0.5)\n",
    "gp_exp_quad_intervals <- mcmc_intervals_data(as.matrix(fitted_model_NB_hier_gp, pars = \"gp_exp_quad\"), prob = 0.5)\n",
    "\n",
    "plot_data <- bind_rows(mo_noise_intervals, gp_exp_quad_intervals)\n",
    "plot_data$time <- rep(1:36, times = 2)\n",
    "plot_data$term <- factor(rep(c(\"Monthly Noise\", \"Smooth Trend\"), each = 36),\n",
    "                         levels = c(\"Smooth Trend\", \"Monthly Noise\"))\n",
    "\n",
    "ggplot(plot_data, aes(x = time, y = m, ymin = l, ymax = h, fill = term)) +\n",
    "  geom_ribbon(alpha = 0.5) +\n",
    "  geom_line(aes(color = term), size = 0.5) +\n",
    "  ylab(NULL)\n",
    "\"\"\"\n",
    "\n",
    "# Julia implementation:"
   ]
  }
 ],
 "metadata": {
  "kernelspec": {
   "display_name": "Julia 1.4.0",
   "language": "julia",
   "name": "julia-1.4"
  },
  "language_info": {
   "file_extension": ".jl",
   "mimetype": "application/julia",
   "name": "julia",
   "version": "1.4.0"
  }
 },
 "nbformat": 4,
 "nbformat_minor": 2
}
