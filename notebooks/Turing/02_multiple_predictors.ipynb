{
  "cells": [
    {
      "outputs": [],
      "cell_type": "code",
      "source": [
        "using DrWatson\n@quickactivate \"BayesWorkshop2021\"\ninclude(joinpath(srcdir(), \"setup.jl\"));"
      ],
      "metadata": {},
      "execution_count": null
    },
    {
      "cell_type": "markdown",
      "source": [
        "## Expanding the model: multiple predictors\n\nModeling the relationship between complaints and bait stations is the simplest  model. We can expand the model, however, in a few ways that will be beneficial  for our client. Moreover, the manager has told us that they expect there are a number of other reasons that one building might have more roach complaints than another.\n\n### Interpretability\n\nCurrently, our model's mean parameter is a rate of complaints per 30 days, but\nwe're modeling a process that occurs over an area as well as over time. We have\nthe square footage of each building, so if we add that information into the\nmodel, we can interpret our parameters as a rate of complaints per square foot\nper 30 days.\n\n$$\n\\begin{align*}\n\\textrm{complaints}_{b,t} & \\sim \\textrm{Poisson}(\\textrm{sq_foot}_b\\,\\lambda_{b,t}) \\\\\n\\lambda_{b,t} & = \\exp{(\\eta_{b,t} )} \\\\\n\\eta_{b,t} &= \\alpha + \\beta \\, \\textrm{traps}_{b,t}\n\\end{align*}\n$$\n\nThe term $\\text{sq_foot}$ is called an exposure term. If we log the term, we can \nput it in $\\eta_{b,t}$:\n\n$$\n\\begin{align*}\n\\textrm{complaints}_{b,t} & \\sim \\textrm{Poisson}(\\lambda_{b,t}) \\\\\n\\lambda_{b,t} & = \\exp{(\\eta_{b,t} )} \\\\\n\\eta_{b,t} &= \\alpha + \\beta \\, \\textrm{traps}_{b,t} + \\textrm{log_sq_foot}_b\n\\end{align*}\n$$\n\nA quick test shows us that there appears to be a relationship between the square\nfootage of the building and the number of complaints received:"
      ],
      "metadata": {}
    },
    {
      "outputs": [],
      "cell_type": "code",
      "source": [
        "using RCall\nusing StatsFuns\n\nggplot = rimport(\"ggplot2\")\nggplot.ggplot(\n    select(\n        pest_data,\n        :complaints => ByRow(StatsFuns.log1p),\n        :total_sq_foot => ByRow(log),\n        renamecols=false\n    ),\n    ggplot.aes(x = :complaints, y = :total_sq_foot)\n) + ggplot.geom_point() + ggplot.geom_smooth(method = \"lm\", se = false)"
      ],
      "metadata": {},
      "execution_count": null
    },
    {
      "cell_type": "markdown",
      "source": [
        "Using the property manager's intuition, we include two extra pieces of information we know about the building - the (log of the) square floor space and whether there is a live in super or not - into both the simulated and real data."
      ],
      "metadata": {}
    },
    {
      "outputs": [],
      "cell_type": "code",
      "source": [
        "transform!(pest_data, :total_sq_foot => ByRow(total_sq_foot -> log(total_sq_foot / 1e4)) => :log_sq_foot)"
      ],
      "metadata": {},
      "execution_count": null
    },
    {
      "cell_type": "markdown",
      "source": [
        "### Simulate fake data with multiple predictors\n\n\nAnd then fit the model we wrote for the multiple regression."
      ],
      "metadata": {}
    },
    {
      "outputs": [],
      "cell_type": "code",
      "source": [
        "using Turing\n\n@model function multiple_poisson_regression(; traps, live_in_super, log_sq_foot, complaints=missing)\n    # TODO: Implement the prior!\n    ...\n\n    # Allocate if we're going to sample.\n    complaints = complaints === missing ? Vector{Int}(undef, length(traps)) : complaints\n    # TODO: Implement the log-linear model in place of `...`\n    @. complaints ~ Poisson(exp(...))\n\n    return (; alpha, beta, beta_super, complaints)\nend"
      ],
      "metadata": {},
      "execution_count": null
    },
    {
      "cell_type": "markdown",
      "source": [
        "Again we'll generate some samples from the prior to get a better sense of what asusmptions we've actually encoded in the model:"
      ],
      "metadata": {}
    },
    {
      "outputs": [],
      "cell_type": "code",
      "source": [
        "N = size(pest_data, 1)\nmean_traps = mean(pest_data.traps)\nfake_traps = rand(filldist(Poisson(mean_traps), N))\nfake_obs = (\n    traps = fake_traps,\n    live_in_super = rand(filldist(Bernoulli(0.5), N)),\n    log_sq_foot = rand(filldist(Normal(1.5, 0.1), N)),\n)"
      ],
      "metadata": {},
      "execution_count": null
    },
    {
      "outputs": [],
      "cell_type": "code",
      "source": [
        "fake_data = multiple_poisson_regression(; fake_obs...)()"
      ],
      "metadata": {},
      "execution_count": null
    },
    {
      "cell_type": "markdown",
      "source": [
        "Then compare these parameters to the true parameters:"
      ],
      "metadata": {}
    },
    {
      "outputs": [],
      "cell_type": "code",
      "source": [
        "fake_post = sample(multiple_poisson_regression(; fake_obs..., complaints=fake_data.complaints), NUTS(), 1_000);"
      ],
      "metadata": {},
      "execution_count": null
    },
    {
      "outputs": [],
      "cell_type": "code",
      "source": [
        "mcmc_recover_hist(\n    fake_post,\n    (\n        alpha = fake_data.alpha,\n        beta = fake_data.beta,\n        beta_super = fake_data.beta_super\n    )\n)"
      ],
      "metadata": {},
      "execution_count": null
    },
    {
      "cell_type": "markdown",
      "source": [
        "We've recovered the parameters sufficiently well, so we've probably coded the model correctly and we're ready to fit the real data.\n\n### Fit the real data\n\nNow let's use the real data and explore the fit."
      ],
      "metadata": {}
    },
    {
      "outputs": [],
      "cell_type": "code",
      "source": [
        "obs = (\n    traps = pest_data.traps,\n    live_in_super = pest_data.live_in_super,\n    log_sq_foot = pest_data.log_sq_foot\n)\npost = sample(multiple_poisson_regression(; obs..., complaints=pest_data.complaints), NUTS(), 1_000);"
      ],
      "metadata": {},
      "execution_count": null
    },
    {
      "outputs": [],
      "cell_type": "code",
      "source": [
        "yrep = posterior_predictive(multiple_poisson_regression(; obs...), post)"
      ],
      "metadata": {},
      "execution_count": null
    },
    {
      "outputs": [],
      "cell_type": "code",
      "source": [
        "ppc_dens_overlay(pest_data.complaints, yrep[1:200])"
      ],
      "metadata": {},
      "execution_count": null
    },
    {
      "cell_type": "markdown",
      "source": [
        "This again looks like we haven't captured the smaller counts very well, nor have we captured the larger counts."
      ],
      "metadata": {}
    },
    {
      "outputs": [],
      "cell_type": "code",
      "source": [
        "R\"\"\"\nprop_zero <- function(x) mean(x == 0)\n\"\"\"\n\nppc_stat(pest_data.complaints, yrep, stat = \"prop_zero\", binwidth = 0.01)"
      ],
      "metadata": {},
      "execution_count": null
    },
    {
      "cell_type": "markdown",
      "source": [
        "We're still severely underestimating the proportion of zeros in the data. Ideally this vertical line would fall somewhere within the histogram.\n\nWe can also plot uncertainty intervals for the predicted complaints for different numbers of traps."
      ],
      "metadata": {}
    },
    {
      "outputs": [],
      "cell_type": "code",
      "source": [
        "ppc_intervals(pest_data.complaints, yrep, x = pest_data.traps) + ggplot.labs(x = \"Number of traps\", y = \"Number of complaints\")"
      ],
      "metadata": {},
      "execution_count": null
    },
    {
      "cell_type": "markdown",
      "source": [
        "We can see that we've increased the tails a bit more at the larger numbers of traps but we still have some large observed numbers of complaints that the model would consider extremely unlikely events."
      ],
      "metadata": {}
    }
  ],
  "nbformat_minor": 2,
  "metadata": {
    "language_info": {
      "file_extension": ".jl",
      "mimetype": "application/julia",
      "name": "julia",
      "version": "1.6.2"
    },
    "kernelspec": {
      "name": "julia-1.6",
      "display_name": "Julia 1.6.2",
      "language": "julia"
    }
  },
  "nbformat": 4
}
