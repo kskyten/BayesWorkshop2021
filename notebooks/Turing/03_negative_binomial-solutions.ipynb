{
 "cells": [
  {
   "cell_type": "code",
   "execution_count": 1,
   "metadata": {
    "ExecuteTime": {
     "end_time": "2021-07-26T16:05:14.445000+01:00",
     "start_time": "2021-07-26T15:04:22.760Z"
    }
   },
   "outputs": [],
   "source": [
    "using DrWatson\n",
    "@quickactivate \"BayesWorkshop2021\"\n",
    "include(joinpath(srcdir(), \"setup.jl\"));"
   ]
  },
  {
   "cell_type": "markdown",
   "metadata": {},
   "source": [
    "## Modeling count data with the Negative Binomial\n",
    "\n",
    "When we considered modelling the data using a Poisson, we saw that the model didn't appear to fit as well to the data as we would like. In particular the model underpredicted low and high numbers of complaints, and overpredicted the medium number of complaints. This is one indication of over-dispersion, where the variance is larger than the mean. A Poisson model doesn't fit over-dispersed count data very well because the same parameter $\\lambda$, controls both the expected counts and the variance of these counts. The natural alternative to this is the negative binomial model:\n",
    "\n",
    "$$\n",
    "\\begin{align*}\n",
    "\\text{complaints}_{b,t} & \\sim \\text{Neg-Binomial}(\\lambda_{b,t}, \\phi) \\\\\n",
    "\\lambda_{b,t} & = \\exp{(\\eta_{b,t})} \\\\\n",
    "\\eta_{b,t} &= \\alpha + \\beta \\, {\\rm traps}_{b,t} + \\beta_{\\rm super} \\, {\\rm super}_{b} + \\text{log_sq_foot}_{b}\n",
    "\\end{align*}\n",
    "$$\n",
    "\n",
    "In Stan the negative binomial mass function we'll use is called  $\\texttt{neg_binomial_2_log}(\\text{ints} \\, y, \\text{reals} \\, \\eta, \\text{reals} \\, \\phi)$  in Stan. Like the `poisson_log` function, this negative binomial mass function that is parameterized in terms of its log-mean, $\\eta$, but it also has a precision $\\phi$ such that\n",
    "\n",
    "$$\n",
    "\\mathbb{E}[y] \\, = \\lambda = \\exp(\\eta)\n",
    "$$\n",
    "\n",
    "$$\n",
    "\\text{Var}[y] = \\lambda + \\lambda^2/\\phi = \\exp(\\eta) + \\exp(\\eta)^2 / \\phi.\n",
    "$$\n",
    "\n",
    "\n",
    "As $\\phi$ gets larger the term $\\lambda^2 / \\phi$ approaches zero and so  the variance of the negative-binomial approaches $\\lambda$, i.e., the negative-binomial gets closer and closer to the Poisson.\n",
    "\n",
    "### Fake data fit: Multiple NB regression\n",
    "\n",
    "We're going to generate one draw from the fake data model so we can use the data to fit our model and compare the known values of the parameters to the posterior density of the parameters.\n",
    "\n",
    "Create a dataset to feed into the model.\n",
    "\n",
    "Now we run our NB regression over the fake data and extract the samples to examine posterior predictive checks and to check whether we've sufficiently recovered our known parameters, $\\text{alpha}$ $\\texttt{beta}$, ."
   ]
  },
  {
   "cell_type": "code",
   "execution_count": 2,
   "metadata": {
    "ExecuteTime": {
     "end_time": "2021-07-26T16:05:22.062000+01:00",
     "start_time": "2021-07-26T15:04:24.279Z"
    }
   },
   "outputs": [
    {
     "data": {
      "text/plain": [
       "multiple_NB_regression (generic function with 1 method)"
      ]
     },
     "execution_count": 2,
     "metadata": {},
     "output_type": "execute_result"
    }
   ],
   "source": [
    "using Turing\n",
    "\n",
    "function NegativeBinomial2(μ, ϕ)\n",
    "    p = 1 / (1 + μ / ϕ)\n",
    "    r = ϕ\n",
    "\n",
    "    return NegativeBinomial(r, p)\n",
    "end\n",
    "\n",
    "@model function multiple_NB_regression(; traps, live_in_super, log_sq_foot, complaints=missing)\n",
    "    alpha ~ Normal(log(4), 1)\n",
    "    beta ~ Normal(-0.25, 1)\n",
    "    beta_super ~ Normal(-0.5, 1)\n",
    "    inv_phi ~ truncated(Normal(1), 0, Inf)\n",
    "\n",
    "    # Allocate if we're going to sample.\n",
    "    complaints = complaints === missing ? Vector{Int}(undef, length(traps)) : complaints\n",
    "    @. complaints ~ NegativeBinomial2(\n",
    "        exp(alpha + beta * traps + beta_super * live_in_super + log_sq_foot),\n",
    "        inv(inv_phi)\n",
    "    )\n",
    "    return (; alpha, beta, beta_super, inv_phi, complaints)\n",
    "end"
   ]
  },
  {
   "cell_type": "markdown",
   "metadata": {},
   "source": [
    "Construct the vector of true values from your simulated dataset and compare to the recovered parameters."
   ]
  },
  {
   "cell_type": "code",
   "execution_count": 3,
   "metadata": {
    "ExecuteTime": {
     "end_time": "2021-07-26T16:05:25.659000+01:00",
     "start_time": "2021-07-26T15:04:26.575Z"
    }
   },
   "outputs": [
    {
     "data": {
      "text/plain": [
       "(traps = [10, 12, 10, 8, 5, 5, 9, 6, 7, 6  …  6, 13, 6, 12, 6, 9, 11, 4, 3, 4], live_in_super = Bool[1, 0, 1, 0, 1, 0, 0, 0, 1, 0  …  0, 0, 1, 0, 0, 0, 0, 0, 0, 1], log_sq_foot = [1.5402399979843977, 1.5425372056256093, 1.381070692832613, 1.511630975757052, 1.3655027131290263, 1.5426339439792278, 1.4216374618172534, 1.564843269867859, 1.482344540326858, 1.3720762963614122  …  1.4073903410521562, 1.473716453712855, 1.5328542358768633, 1.384630700443407, 1.527035364320064, 1.4250473961493295, 1.5810103406221736, 1.5153265545632197, 1.3676119778291342, 1.36799427864984])"
      ]
     },
     "execution_count": 3,
     "metadata": {},
     "output_type": "execute_result"
    }
   ],
   "source": [
    "N = size(pest_data, 1)\n",
    "mean_traps = mean(pest_data.traps)\n",
    "fake_traps = rand(filldist(Poisson(mean_traps), N))\n",
    "fake_obs = (traps = fake_traps,\n",
    "    live_in_super = rand(filldist(Bernoulli(0.5), N)),\n",
    "    log_sq_foot = rand(filldist(Normal(1.5, 0.1), N)),\n",
    ")"
   ]
  },
  {
   "cell_type": "code",
   "execution_count": 4,
   "metadata": {
    "ExecuteTime": {
     "end_time": "2021-07-26T16:05:33.145000+01:00",
     "start_time": "2021-07-26T15:04:27.207Z"
    }
   },
   "outputs": [
    {
     "data": {
      "text/plain": [
       "(alpha = -0.052116075988608346, beta = -1.0962183844128301, beta_super = 1.1400967968463014, inv_phi = 3.313037903759713, complaints = [0, 0, 0, 0, 1, 1, 0, 0, 0, 0  …  0, 0, 0, 0, 0, 0, 0, 0, 0, 1])"
      ]
     },
     "execution_count": 4,
     "metadata": {},
     "output_type": "execute_result"
    }
   ],
   "source": [
    "fake_data = multiple_NB_regression(; fake_obs...)()"
   ]
  },
  {
   "cell_type": "code",
   "execution_count": 5,
   "metadata": {
    "ExecuteTime": {
     "end_time": "2021-07-26T16:06:45.446000+01:00",
     "start_time": "2021-07-26T15:04:28.075Z"
    }
   },
   "outputs": [
    {
     "name": "stderr",
     "output_type": "stream",
     "text": [
      "┌ Info: Found initial step size\n",
      "│   ϵ = 0.2\n",
      "└ @ Turing.Inference /home/tor/.julia/packages/Turing/YGtAo/src/inference/hmc.jl:188\n",
      "┌ Warning: The current proposal will be rejected due to numerical error(s).\n",
      "│   isfinite.((θ, r, ℓπ, ℓκ)) = (true, false, false, false)\n",
      "└ @ AdvancedHMC /home/tor/.julia/packages/AdvancedHMC/bv9VV/src/hamiltonian.jl:47\n",
      "┌ Warning: The current proposal will be rejected due to numerical error(s).\n",
      "│   isfinite.((θ, r, ℓπ, ℓκ)) = (true, false, false, false)\n",
      "└ @ AdvancedHMC /home/tor/.julia/packages/AdvancedHMC/bv9VV/src/hamiltonian.jl:47\n",
      "┌ Warning: The current proposal will be rejected due to numerical error(s).\n",
      "│   isfinite.((θ, r, ℓπ, ℓκ)) = (true, false, false, false)\n",
      "└ @ AdvancedHMC /home/tor/.julia/packages/AdvancedHMC/bv9VV/src/hamiltonian.jl:47\n",
      "┌ Warning: The current proposal will be rejected due to numerical error(s).\n",
      "│   isfinite.((θ, r, ℓπ, ℓκ)) = (true, false, false, false)\n",
      "└ @ AdvancedHMC /home/tor/.julia/packages/AdvancedHMC/bv9VV/src/hamiltonian.jl:47\n",
      "┌ Warning: The current proposal will be rejected due to numerical error(s).\n",
      "│   isfinite.((θ, r, ℓπ, ℓκ)) = (true, false, false, false)\n",
      "└ @ AdvancedHMC /home/tor/.julia/packages/AdvancedHMC/bv9VV/src/hamiltonian.jl:47\n",
      "┌ Warning: The current proposal will be rejected due to numerical error(s).\n",
      "│   isfinite.((θ, r, ℓπ, ℓκ)) = (true, false, false, false)\n",
      "└ @ AdvancedHMC /home/tor/.julia/packages/AdvancedHMC/bv9VV/src/hamiltonian.jl:47\n",
      "┌ Warning: The current proposal will be rejected due to numerical error(s).\n",
      "│   isfinite.((θ, r, ℓπ, ℓκ)) = (true, false, false, false)\n",
      "└ @ AdvancedHMC /home/tor/.julia/packages/AdvancedHMC/bv9VV/src/hamiltonian.jl:47\n",
      "\u001b[32mSampling:   7%|██▉                                      |  ETA: 0:00:01\u001b[39m┌ Warning: The current proposal will be rejected due to numerical error(s).\n",
      "│   isfinite.((θ, r, ℓπ, ℓκ)) = (true, false, false, false)\n",
      "└ @ AdvancedHMC /home/tor/.julia/packages/AdvancedHMC/bv9VV/src/hamiltonian.jl:47\n",
      "┌ Warning: The current proposal will be rejected due to numerical error(s).\n",
      "│   isfinite.((θ, r, ℓπ, ℓκ)) = (true, false, false, false)\n",
      "└ @ AdvancedHMC /home/tor/.julia/packages/AdvancedHMC/bv9VV/src/hamiltonian.jl:47\n",
      "┌ Warning: The current proposal will be rejected due to numerical error(s).\n",
      "│   isfinite.((θ, r, ℓπ, ℓκ)) = (true, false, false, false)\n",
      "└ @ AdvancedHMC /home/tor/.julia/packages/AdvancedHMC/bv9VV/src/hamiltonian.jl:47\n",
      "┌ Warning: The current proposal will be rejected due to numerical error(s).\n",
      "│   isfinite.((θ, r, ℓπ, ℓκ)) = (true, false, false, false)\n",
      "└ @ AdvancedHMC /home/tor/.julia/packages/AdvancedHMC/bv9VV/src/hamiltonian.jl:47\n",
      "┌ Warning: The current proposal will be rejected due to numerical error(s).\n",
      "│   isfinite.((θ, r, ℓπ, ℓκ)) = (true, false, false, false)\n",
      "└ @ AdvancedHMC /home/tor/.julia/packages/AdvancedHMC/bv9VV/src/hamiltonian.jl:47\n",
      "┌ Warning: The current proposal will be rejected due to numerical error(s).\n",
      "│   isfinite.((θ, r, ℓπ, ℓκ)) = (true, false, false, false)\n",
      "└ @ AdvancedHMC /home/tor/.julia/packages/AdvancedHMC/bv9VV/src/hamiltonian.jl:47\n",
      "┌ Warning: The current proposal will be rejected due to numerical error(s).\n",
      "│   isfinite.((θ, r, ℓπ, ℓκ)) = (true, false, false, false)\n",
      "└ @ AdvancedHMC /home/tor/.julia/packages/AdvancedHMC/bv9VV/src/hamiltonian.jl:47\n",
      "┌ Warning: The current proposal will be rejected due to numerical error(s).\n",
      "│   isfinite.((θ, r, ℓπ, ℓκ)) = (true, false, false, false)\n",
      "└ @ AdvancedHMC /home/tor/.julia/packages/AdvancedHMC/bv9VV/src/hamiltonian.jl:47\n",
      "┌ Warning: The current proposal will be rejected due to numerical error(s).\n",
      "│   isfinite.((θ, r, ℓπ, ℓκ)) = (true, false, false, false)\n",
      "└ @ AdvancedHMC /home/tor/.julia/packages/AdvancedHMC/bv9VV/src/hamiltonian.jl:47\n",
      "┌ Warning: The current proposal will be rejected due to numerical error(s).\n",
      "│   isfinite.((θ, r, ℓπ, ℓκ)) = (true, false, false, false)\n",
      "└ @ AdvancedHMC /home/tor/.julia/packages/AdvancedHMC/bv9VV/src/hamiltonian.jl:47\n",
      "┌ Warning: The current proposal will be rejected due to numerical error(s).\n",
      "│   isfinite.((θ, r, ℓπ, ℓκ)) = (true, false, false, false)\n",
      "└ @ AdvancedHMC /home/tor/.julia/packages/AdvancedHMC/bv9VV/src/hamiltonian.jl:47\n",
      "┌ Warning: The current proposal will be rejected due to numerical error(s).\n",
      "│   isfinite.((θ, r, ℓπ, ℓκ)) = (true, false, false, false)\n",
      "└ @ AdvancedHMC /home/tor/.julia/packages/AdvancedHMC/bv9VV/src/hamiltonian.jl:47\n",
      "┌ Warning: The current proposal will be rejected due to numerical error(s).\n",
      "│   isfinite.((θ, r, ℓπ, ℓκ)) = (true, false, false, false)\n",
      "└ @ AdvancedHMC /home/tor/.julia/packages/AdvancedHMC/bv9VV/src/hamiltonian.jl:47\n",
      "┌ Warning: The current proposal will be rejected due to numerical error(s).\n",
      "│   isfinite.((θ, r, ℓπ, ℓκ)) = (true, false, false, false)\n",
      "└ @ AdvancedHMC /home/tor/.julia/packages/AdvancedHMC/bv9VV/src/hamiltonian.jl:47\n",
      "┌ Warning: The current proposal will be rejected due to numerical error(s).\n",
      "│   isfinite.((θ, r, ℓπ, ℓκ)) = (true, false, false, false)\n",
      "└ @ AdvancedHMC /home/tor/.julia/packages/AdvancedHMC/bv9VV/src/hamiltonian.jl:47\n",
      "┌ Warning: The current proposal will be rejected due to numerical error(s).\n",
      "│   isfinite.((θ, r, ℓπ, ℓκ)) = (true, false, false, false)\n",
      "└ @ AdvancedHMC /home/tor/.julia/packages/AdvancedHMC/bv9VV/src/hamiltonian.jl:47\n",
      "\u001b[32mSampling: 100%|█████████████████████████████████████████| Time: 0:00:01\u001b[39m\n"
     ]
    },
    {
     "data": {
      "text/plain": [
       "Chains MCMC chain (1000×16×1 Array{Float64, 3}):\n",
       "\n",
       "Iterations        = 501:1:1500\n",
       "Number of chains  = 1\n",
       "Samples per chain = 1000\n",
       "Wall duration     = 21.19 seconds\n",
       "Compute duration  = 21.19 seconds\n",
       "parameters        = beta_super, alpha, beta, inv_phi\n",
       "internals         = lp, n_steps, is_accept, acceptance_rate, log_density, hamiltonian_energy, hamiltonian_energy_error, max_hamiltonian_energy_error, tree_depth, numerical_error, step_size, nom_step_size\n",
       "\n",
       "Summary Statistics\n",
       " \u001b[1m parameters \u001b[0m \u001b[1m    mean \u001b[0m \u001b[1m     std \u001b[0m \u001b[1m naive_se \u001b[0m \u001b[1m    mcse \u001b[0m \u001b[1m      ess \u001b[0m \u001b[1m    rhat \u001b[0m \u001b[1m e\u001b[0m ⋯\n",
       " \u001b[90m     Symbol \u001b[0m \u001b[90m Float64 \u001b[0m \u001b[90m Float64 \u001b[0m \u001b[90m  Float64 \u001b[0m \u001b[90m Float64 \u001b[0m \u001b[90m  Float64 \u001b[0m \u001b[90m Float64 \u001b[0m \u001b[90m  \u001b[0m ⋯\n",
       "\n",
       "       alpha    0.2611    0.9169     0.0290    0.0525   243.9371    1.0031     ⋯\n",
       "        beta   -0.9878    0.2334     0.0074    0.0128   237.5797    1.0081     ⋯\n",
       "  beta_super    0.3406    0.7250     0.0229    0.0312   419.0547    0.9994     ⋯\n",
       "     inv_phi    1.6165    0.7824     0.0247    0.0309   382.2201    0.9993     ⋯\n",
       "\u001b[36m                                                                1 column omitted\u001b[0m\n",
       "\n",
       "Quantiles\n",
       " \u001b[1m parameters \u001b[0m \u001b[1m    2.5% \u001b[0m \u001b[1m   25.0% \u001b[0m \u001b[1m   50.0% \u001b[0m \u001b[1m   75.0% \u001b[0m \u001b[1m   97.5% \u001b[0m\n",
       " \u001b[90m     Symbol \u001b[0m \u001b[90m Float64 \u001b[0m \u001b[90m Float64 \u001b[0m \u001b[90m Float64 \u001b[0m \u001b[90m Float64 \u001b[0m \u001b[90m Float64 \u001b[0m\n",
       "\n",
       "       alpha   -1.5284   -0.3322    0.2944    0.8874    1.9990\n",
       "        beta   -1.4237   -1.1512   -0.9841   -0.8316   -0.5390\n",
       "  beta_super   -1.1992   -0.1505    0.3639    0.8395    1.6123\n",
       "     inv_phi    0.2088    1.0196    1.5945    2.1591    3.2487\n"
      ]
     },
     "execution_count": 5,
     "metadata": {},
     "output_type": "execute_result"
    }
   ],
   "source": [
    "fake_post = sample(multiple_NB_regression(; fake_obs..., complaints=fake_data.complaints), NUTS(), 1_000)"
   ]
  },
  {
   "cell_type": "code",
   "execution_count": 6,
   "metadata": {
    "ExecuteTime": {
     "end_time": "2021-07-26T16:06:49.440000+01:00",
     "start_time": "2021-07-26T15:04:28.411Z"
    }
   },
   "outputs": [
    {
     "data": {
      "image/png": "[encoded data removed]"
     },
     "metadata": {},
     "output_type": "display_data"
    },
    {
     "data": {
      "text/plain": [
       "RObject{VecSxp}\n"
      ]
     },
     "execution_count": 6,
     "metadata": {},
     "output_type": "execute_result"
    },
    {
     "name": "stderr",
     "output_type": "stream",
     "text": [
      "┌ Warning: RCall.jl: `stat_bin()` using `bins = 30`. Pick better value with `binwidth`.\n",
      "└ @ RCall /home/tor/.julia/packages/RCall/iMDW2/src/io.jl:160\n"
     ]
    }
   ],
   "source": [
    "mcmc_recover_hist(\n",
    "    fake_post,\n",
    "    (\n",
    "        alpha = fake_data.alpha,\n",
    "        beta = fake_data.beta,\n",
    "        beta_super = fake_data.beta_super,\n",
    "        inv_phi = fake_data.inv_phi\n",
    "    )\n",
    ")"
   ]
  },
  {
   "cell_type": "markdown",
   "metadata": {},
   "source": [
    "### Fit to real data and check the fit"
   ]
  },
  {
   "cell_type": "code",
   "execution_count": 7,
   "metadata": {
    "ExecuteTime": {
     "end_time": "2021-07-26T16:06:52.014000+01:00",
     "start_time": "2021-07-26T15:04:29.039Z"
    }
   },
   "outputs": [
    {
     "name": "stderr",
     "output_type": "stream",
     "text": [
      "┌ Info: Found initial step size\n",
      "│   ϵ = 0.05\n",
      "└ @ Turing.Inference /home/tor/.julia/packages/Turing/YGtAo/src/inference/hmc.jl:188\n",
      "\u001b[32mSampling: 100%|█████████████████████████████████████████| Time: 0:00:01\u001b[39m\n"
     ]
    },
    {
     "data": {
      "text/plain": [
       "Chains MCMC chain (1000×16×1 Array{Float64, 3}):\n",
       "\n",
       "Iterations        = 501:1:1500\n",
       "Number of chains  = 1\n",
       "Samples per chain = 1000\n",
       "Wall duration     = 1.2 seconds\n",
       "Compute duration  = 1.2 seconds\n",
       "parameters        = beta_super, alpha, beta, inv_phi\n",
       "internals         = lp, n_steps, is_accept, acceptance_rate, log_density, hamiltonian_energy, hamiltonian_energy_error, max_hamiltonian_energy_error, tree_depth, numerical_error, step_size, nom_step_size\n",
       "\n",
       "Summary Statistics\n",
       " \u001b[1m parameters \u001b[0m \u001b[1m    mean \u001b[0m \u001b[1m     std \u001b[0m \u001b[1m naive_se \u001b[0m \u001b[1m    mcse \u001b[0m \u001b[1m      ess \u001b[0m \u001b[1m    rhat \u001b[0m \u001b[1m e\u001b[0m ⋯\n",
       " \u001b[90m     Symbol \u001b[0m \u001b[90m Float64 \u001b[0m \u001b[90m Float64 \u001b[0m \u001b[90m  Float64 \u001b[0m \u001b[90m Float64 \u001b[0m \u001b[90m  Float64 \u001b[0m \u001b[90m Float64 \u001b[0m \u001b[90m  \u001b[0m ⋯\n",
       "\n",
       "       alpha    1.3503    0.3994     0.0126    0.0231   367.5036    1.0007     ⋯\n",
       "        beta   -0.2305    0.0518     0.0016    0.0027   392.2108    0.9997     ⋯\n",
       "  beta_super   -0.3047    0.2195     0.0069    0.0117   538.7121    1.0007     ⋯\n",
       "     inv_phi    0.6724    0.1404     0.0044    0.0051   654.6528    1.0013     ⋯\n",
       "\u001b[36m                                                                1 column omitted\u001b[0m\n",
       "\n",
       "Quantiles\n",
       " \u001b[1m parameters \u001b[0m \u001b[1m    2.5% \u001b[0m \u001b[1m   25.0% \u001b[0m \u001b[1m   50.0% \u001b[0m \u001b[1m   75.0% \u001b[0m \u001b[1m   97.5% \u001b[0m\n",
       " \u001b[90m     Symbol \u001b[0m \u001b[90m Float64 \u001b[0m \u001b[90m Float64 \u001b[0m \u001b[90m Float64 \u001b[0m \u001b[90m Float64 \u001b[0m \u001b[90m Float64 \u001b[0m\n",
       "\n",
       "       alpha    0.5409    1.0889    1.3369    1.6190    2.1801\n",
       "        beta   -0.3363   -0.2654   -0.2302   -0.1951   -0.1260\n",
       "  beta_super   -0.7312   -0.4522   -0.3034   -0.1603    0.1248\n",
       "     inv_phi    0.4380    0.5791    0.6577    0.7614    0.9819\n"
      ]
     },
     "execution_count": 7,
     "metadata": {},
     "output_type": "execute_result"
    }
   ],
   "source": [
    "# Add the `log_sq_foot` as in 02.\n",
    "transform!(pest_data, :total_sq_foot => ByRow(total_sq_foot -> log(total_sq_foot / 1e4)) => :log_sq_foot)\n",
    "\n",
    "obs = (\n",
    "    traps = pest_data.traps,\n",
    "    live_in_super = pest_data.live_in_super,\n",
    "    log_sq_foot = pest_data.log_sq_foot\n",
    ")\n",
    "post = sample(multiple_NB_regression(; obs..., complaints=pest_data.complaints), NUTS(), 1_000)"
   ]
  },
  {
   "cell_type": "markdown",
   "metadata": {},
   "source": [
    "Let's look at our predictions vs. the data."
   ]
  },
  {
   "cell_type": "code",
   "execution_count": 8,
   "metadata": {
    "ExecuteTime": {
     "end_time": "2021-07-26T16:07:07.193000+01:00",
     "start_time": "2021-07-26T15:04:29.551Z"
    }
   },
   "outputs": [
    {
     "data": {
      "text/plain": [
       "1000-element Vector{NamedTuple{(:complaints,), Tuple{SubArray{Float64, 1, Matrix{Float64}, Tuple{Int64, Base.Slice{Base.OneTo{Int64}}}, true}}}}:\n",
       " (complaints = [0.0, 1.0, 0.0, 2.0, 0.0, 4.0, 0.0, 0.0, 0.0, 7.0  …  2.0, 13.0, 7.0, 13.0, 15.0, 11.0, 10.0, 8.0, 5.0, 22.0],)\n",
       " (complaints = [3.0, 2.0, 2.0, 3.0, 1.0, 1.0, 2.0, 1.0, 2.0, 0.0  …  4.0, 8.0, 5.0, 5.0, 0.0, 15.0, 11.0, 12.0, 5.0, 39.0],)\n",
       " (complaints = [4.0, 1.0, 6.0, 4.0, 2.0, 0.0, 5.0, 0.0, 12.0, 3.0  …  5.0, 5.0, 1.0, 1.0, 1.0, 2.0, 8.0, 2.0, 4.0, 17.0],)\n",
       " (complaints = [2.0, 1.0, 1.0, 0.0, 2.0, 0.0, 3.0, 1.0, 1.0, 2.0  …  2.0, 3.0, 1.0, 6.0, 2.0, 6.0, 3.0, 11.0, 4.0, 33.0],)\n",
       " (complaints = [2.0, 1.0, 0.0, 5.0, 11.0, 1.0, 1.0, 0.0, 3.0, 2.0  …  1.0, 9.0, 23.0, 16.0, 4.0, 11.0, 2.0, 3.0, 3.0, 0.0],)\n",
       " (complaints = [6.0, 1.0, 2.0, 0.0, 1.0, 0.0, 1.0, 3.0, 0.0, 1.0  …  5.0, 15.0, 5.0, 6.0, 1.0, 12.0, 7.0, 17.0, 43.0, 29.0],)\n",
       " (complaints = [7.0, 8.0, 2.0, 2.0, 1.0, 0.0, 5.0, 5.0, 0.0, 4.0  …  2.0, 1.0, 2.0, 7.0, 3.0, 15.0, 7.0, 5.0, 16.0, 83.0],)\n",
       " (complaints = [2.0, 2.0, 2.0, 1.0, 3.0, 0.0, 6.0, 2.0, 1.0, 3.0  …  7.0, 0.0, 1.0, 3.0, 4.0, 13.0, 1.0, 13.0, 5.0, 5.0],)\n",
       " (complaints = [3.0, 5.0, 0.0, 0.0, 1.0, 2.0, 0.0, 0.0, 0.0, 0.0  …  3.0, 7.0, 0.0, 2.0, 1.0, 13.0, 2.0, 10.0, 9.0, 17.0],)\n",
       " (complaints = [0.0, 0.0, 2.0, 1.0, 2.0, 0.0, 1.0, 0.0, 0.0, 0.0  …  0.0, 10.0, 1.0, 25.0, 10.0, 13.0, 1.0, 2.0, 13.0, 6.0],)\n",
       " (complaints = [5.0, 1.0, 1.0, 4.0, 0.0, 0.0, 1.0, 1.0, 1.0, 0.0  …  3.0, 3.0, 8.0, 3.0, 4.0, 8.0, 15.0, 7.0, 10.0, 8.0],)\n",
       " (complaints = [2.0, 2.0, 6.0, 1.0, 0.0, 0.0, 0.0, 2.0, 3.0, 5.0  …  1.0, 1.0, 4.0, 0.0, 28.0, 4.0, 17.0, 7.0, 5.0, 12.0],)\n",
       " (complaints = [1.0, 0.0, 3.0, 4.0, 0.0, 0.0, 6.0, 3.0, 1.0, 1.0  …  6.0, 4.0, 0.0, 4.0, 7.0, 8.0, 2.0, 9.0, 2.0, 12.0],)\n",
       " ⋮\n",
       " (complaints = [0.0, 12.0, 2.0, 1.0, 1.0, 2.0, 1.0, 4.0, 0.0, 2.0  …  1.0, 7.0, 0.0, 12.0, 7.0, 17.0, 24.0, 15.0, 1.0, 8.0],)\n",
       " (complaints = [5.0, 2.0, 0.0, 0.0, 1.0, 0.0, 4.0, 0.0, 1.0, 1.0  …  13.0, 12.0, 1.0, 0.0, 3.0, 18.0, 12.0, 3.0, 2.0, 1.0],)\n",
       " (complaints = [1.0, 2.0, 4.0, 2.0, 0.0, 1.0, 1.0, 4.0, 1.0, 0.0  …  5.0, 0.0, 5.0, 2.0, 0.0, 1.0, 16.0, 2.0, 0.0, 9.0],)\n",
       " (complaints = [2.0, 1.0, 3.0, 1.0, 0.0, 1.0, 1.0, 2.0, 1.0, 2.0  …  7.0, 4.0, 0.0, 10.0, 10.0, 11.0, 7.0, 6.0, 0.0, 9.0],)\n",
       " (complaints = [1.0, 5.0, 6.0, 2.0, 1.0, 0.0, 2.0, 2.0, 0.0, 0.0  …  4.0, 6.0, 3.0, 4.0, 8.0, 1.0, 28.0, 5.0, 6.0, 10.0],)\n",
       " (complaints = [1.0, 4.0, 7.0, 0.0, 0.0, 1.0, 1.0, 11.0, 0.0, 0.0  …  6.0, 8.0, 19.0, 0.0, 0.0, 0.0, 3.0, 1.0, 18.0, 0.0],)\n",
       " (complaints = [0.0, 7.0, 2.0, 1.0, 1.0, 2.0, 0.0, 5.0, 7.0, 6.0  …  1.0, 0.0, 3.0, 12.0, 13.0, 28.0, 6.0, 4.0, 9.0, 20.0],)\n",
       " (complaints = [0.0, 3.0, 11.0, 2.0, 0.0, 3.0, 1.0, 4.0, 0.0, 0.0  …  2.0, 0.0, 3.0, 2.0, 18.0, 1.0, 6.0, 10.0, 22.0, 14.0],)\n",
       " (complaints = [12.0, 1.0, 1.0, 0.0, 1.0, 0.0, 2.0, 2.0, 1.0, 1.0  …  5.0, 0.0, 10.0, 7.0, 27.0, 4.0, 14.0, 6.0, 8.0, 4.0],)\n",
       " (complaints = [5.0, 1.0, 4.0, 0.0, 0.0, 1.0, 4.0, 2.0, 4.0, 5.0  …  5.0, 9.0, 3.0, 12.0, 10.0, 9.0, 17.0, 0.0, 7.0, 6.0],)\n",
       " (complaints = [6.0, 0.0, 1.0, 3.0, 0.0, 0.0, 1.0, 1.0, 3.0, 1.0  …  10.0, 7.0, 26.0, 10.0, 4.0, 0.0, 31.0, 15.0, 0.0, 7.0],)\n",
       " (complaints = [3.0, 2.0, 2.0, 3.0, 1.0, 3.0, 1.0, 0.0, 1.0, 3.0  …  3.0, 11.0, 4.0, 5.0, 2.0, 18.0, 10.0, 14.0, 8.0, 3.0],)"
      ]
     },
     "execution_count": 8,
     "metadata": {},
     "output_type": "execute_result"
    }
   ],
   "source": [
    "yrep = posterior_predictive(multiple_NB_regression(; obs...), post)"
   ]
  },
  {
   "cell_type": "code",
   "execution_count": 9,
   "metadata": {
    "ExecuteTime": {
     "end_time": "2021-07-26T16:07:09.615000+01:00",
     "start_time": "2021-07-26T15:04:29.767Z"
    }
   },
   "outputs": [
    {
     "data": {
      "image/png": "[encoded data removed]"
     },
     "metadata": {},
     "output_type": "display_data"
    },
    {
     "data": {
      "text/plain": [
       "RObject{VecSxp}\n"
      ]
     },
     "execution_count": 9,
     "metadata": {},
     "output_type": "execute_result"
    }
   ],
   "source": [
    "ppc_dens_overlay(pest_data.complaints, yrep[1:200])"
   ]
  },
  {
   "cell_type": "markdown",
   "metadata": {},
   "source": [
    "It appears that our model now captures both the number of small counts better as well as the tails.\n",
    "\n",
    "Let's check if the negative binomial model does a better job capturing the number of zeros:"
   ]
  },
  {
   "cell_type": "code",
   "execution_count": 10,
   "metadata": {
    "ExecuteTime": {
     "end_time": "2021-07-26T16:07:10.431000+01:00",
     "start_time": "2021-07-26T15:04:30.443Z"
    }
   },
   "outputs": [
    {
     "data": {
      "image/png": "[encoded data removed]"
     },
     "metadata": {},
     "output_type": "display_data"
    },
    {
     "data": {
      "text/plain": [
       "RObject{VecSxp}\n"
      ]
     },
     "execution_count": 10,
     "metadata": {},
     "output_type": "execute_result"
    }
   ],
   "source": [
    "using RCall\n",
    "ggplot = rimport(\"ggplot2\")\n",
    "\n",
    "ppc_stat(pest_data.complaints, yrep, stat = R\"function(x) mean(x == 0)\", binwidth = 0.01)"
   ]
  },
  {
   "cell_type": "markdown",
   "metadata": {},
   "source": [
    "These look OK, but let's look at the standardized residual plot."
   ]
  },
  {
   "cell_type": "code",
   "execution_count": 11,
   "metadata": {
    "ExecuteTime": {
     "end_time": "2021-07-26T16:07:12.264000+01:00",
     "start_time": "2021-07-26T15:04:31.267Z"
    }
   },
   "outputs": [
    {
     "ename": "LoadError",
     "evalue": "UndefVarError: qqnorm not defined",
     "output_type": "error",
     "traceback": [
      "UndefVarError: qqnorm not defined",
      "",
      "Stacktrace:",
      " [1] top-level scope",
      "   @ In[11]:6",
      " [2] eval",
      "   @ ./boot.jl:360 [inlined]",
      " [3] include_string(mapexpr::typeof(REPL.softscope), mod::Module, code::String, filename::String)",
      "   @ Base ./loading.jl:1116"
     ]
    }
   ],
   "source": [
    "# Convert into a matrix of size `(num_variables, num_samples)`\n",
    "yrep_matrix = mapreduce(hcat, yrep) do y\n",
    "    y.complaints\n",
    "end;\n",
    "\n",
    "qqnorm(dropdims(mean(yrep_matrix; dims=2); dims=2), qqline=:R)"
   ]
  },
  {
   "cell_type": "markdown",
   "metadata": {},
   "source": [
    "Looks OK, but we still have some very large *standardized* residuals. This might be because we are currently ignoring that the data are clustered by buildings, and that the probability of roach issue may vary substantially across buildings."
   ]
  },
  {
   "cell_type": "code",
   "execution_count": 12,
   "metadata": {
    "ExecuteTime": {
     "end_time": "2021-07-26T16:07:12.734000+01:00",
     "start_time": "2021-07-26T15:04:31.818Z"
    }
   },
   "outputs": [
    {
     "data": {
      "image/png": "[encoded data removed]"
     },
     "metadata": {},
     "output_type": "display_data"
    },
    {
     "data": {
      "text/plain": [
       "RObject{VecSxp}\n"
      ]
     },
     "execution_count": 12,
     "metadata": {},
     "output_type": "execute_result"
    }
   ],
   "source": [
    "ppc_rootogram(pest_data.complaints, yrep)"
   ]
  },
  {
   "cell_type": "markdown",
   "metadata": {},
   "source": [
    "The rootogram now looks much more plausible. We can tell this because now the expected number of complaints matches much closer to the observed number of complaints. However, we still have some larger counts that appear to be outliers for the model.\n",
    "\n",
    "Check predictions by number of traps:"
   ]
  },
  {
   "cell_type": "code",
   "execution_count": 13,
   "metadata": {
    "ExecuteTime": {
     "end_time": "2021-07-26T16:07:13.271000+01:00",
     "start_time": "2021-07-26T15:04:32.511Z"
    }
   },
   "outputs": [
    {
     "data": {
      "image/png": "[encoded data removed]"
     },
     "metadata": {},
     "output_type": "display_data"
    },
    {
     "data": {
      "text/plain": [
       "RObject{VecSxp}\n"
      ]
     },
     "execution_count": 13,
     "metadata": {},
     "output_type": "execute_result"
    }
   ],
   "source": [
    "ppc_intervals(pest_data.complaints, yrep, x = pest_data.traps) + ggplot.labs(x = \"Number of traps\", y = \"Number of complaints\")"
   ]
  },
  {
   "cell_type": "markdown",
   "metadata": {},
   "source": [
    "We haven't used the fact that the data are clustered by building yet. A posterior predictive check might elucidate whether it would be a good idea to add the building information into the model."
   ]
  },
  {
   "cell_type": "code",
   "execution_count": 14,
   "metadata": {
    "ExecuteTime": {
     "end_time": "2021-07-26T16:07:14.443000+01:00",
     "start_time": "2021-07-26T15:04:33.734Z"
    }
   },
   "outputs": [
    {
     "data": {
      "image/png": "[encoded data removed]"
     },
     "metadata": {},
     "output_type": "display_data"
    },
    {
     "data": {
      "text/plain": [
       "RObject{VecSxp}\n"
      ]
     },
     "execution_count": 14,
     "metadata": {},
     "output_type": "execute_result"
    }
   ],
   "source": [
    "ppc_stat_grouped(\n",
    "  pest_data.complaints,\n",
    "  yrep,\n",
    "  group = pest_data.building_id,\n",
    "  stat = \"mean\",\n",
    "  binwidth = 0.2\n",
    ")"
   ]
  },
  {
   "cell_type": "markdown",
   "metadata": {},
   "source": [
    "We're getting plausible predictions for most building means but some are estimated better than others and some have larger uncertainties than we might expect. If we explicitly model the variation across buildings we may be able to get much better estimates."
   ]
  }
 ],
 "metadata": {
  "kernelspec": {
   "display_name": "Julia 1.6.2",
   "language": "julia",
   "name": "julia-1.6"
  },
  "language_info": {
   "file_extension": ".jl",
   "mimetype": "application/julia",
   "name": "julia",
   "version": "1.6.2"
  }
 },
 "nbformat": 4,
 "nbformat_minor": 2
}
