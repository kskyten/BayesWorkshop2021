{
 "cells": [
  {
   "cell_type": "code",
   "execution_count": 1,
   "metadata": {},
   "outputs": [
    {
     "data": {
      "text/plain": [
       "poisson_dgp (generic function with 1 method)"
      ]
     },
     "execution_count": 1,
     "metadata": {},
     "output_type": "execute_result"
    }
   ],
   "source": [
    "using Distributions\n",
    "\n",
    "function poisson_dgp(N, mean_traps)\n",
    "    α = rand(Normal(log(4), .1))\n",
    "    β = rand(Normal(-0.25, .1))\n",
    "    traps = rand(Poisson(mean_traps), N)\n",
    "    complaints = similar(traps)\n",
    "    for i in eachindex(traps)\n",
    "        complaints[i] = rand(Poisson(exp(α + β * traps[i])))\n",
    "    end\n",
    "\n",
    "    return (α = α, β = β, traps = traps, complaints = complaints)\n",
    "end"
   ]
  },
  {
   "cell_type": "code",
   "execution_count": 2,
   "metadata": {},
   "outputs": [],
   "source": [
    "simulated_poisson = poisson_dgp(100, 5);"
   ]
  },
  {
   "cell_type": "code",
   "execution_count": 16,
   "metadata": {},
   "outputs": [
    {
     "data": {
      "text/plain": [
       "DynamicPPL.ModelGen{var\"###generator#332\",(:traps, :complaints),(),Tuple{}}(##generator#332, NamedTuple())"
      ]
     },
     "execution_count": 16,
     "metadata": {},
     "output_type": "execute_result"
    }
   ],
   "source": [
    "using Turing\n",
    "\n",
    "Turing.@model simple_poisson_turing(traps, complaints) = begin\n",
    "    α ~ Normal(log(4), .1)\n",
    "    β ~ Normal(-0.25, .1)\n",
    "\n",
    "    for i in eachindex(traps)\n",
    "        λ = exp(α + β * traps[i])\n",
    "        complaints ~ Poisson(λ)\n",
    "    end\n",
    "end"
   ]
  },
  {
   "cell_type": "code",
   "execution_count": 15,
   "metadata": {
    "collapsed": true
   },
   "outputs": [
    {
     "ename": "MethodError",
     "evalue": "MethodError: no method matching +(::Float64, ::Array{Float64,1})\nClosest candidates are:\n  +(::Any, ::Any, !Matched::Any, !Matched::Any...) at operators.jl:529\n  +(::Float64, !Matched::Float64) at float.jl:401\n  +(::AbstractFloat, !Matched::Bool) at bool.jl:106\n  ...",
     "output_type": "error",
     "traceback": [
      "MethodError: no method matching +(::Float64, ::Array{Float64,1})\nClosest candidates are:\n  +(::Any, ::Any, !Matched::Any, !Matched::Any...) at operators.jl:529\n  +(::Float64, !Matched::Float64) at float.jl:401\n  +(::AbstractFloat, !Matched::Bool) at bool.jl:106\n  ...",
      "",
      "Stacktrace:",
      " [1] acclogp!(::DynamicPPL.VarInfo{DynamicPPL.Metadata{Dict{DynamicPPL.VarName,Int64},Array{Distribution,1},Array{DynamicPPL.VarName,1},Array{Real,1},Array{Set{DynamicPPL.Selector},1}},Float64}, ::Array{Float64,1}) at /home/kusti/.julia/packages/DynamicPPL/MRwtL/src/varinfo.jl:617",
      " [2] tilde_observe(::DynamicPPL.DefaultContext, ::DynamicPPL.SampleFromPrior, ::Poisson{Float64}, ::Array{Int64,1}, ::DynamicPPL.VarName{:complaints,Tuple{}}, ::Tuple{}, ::DynamicPPL.VarInfo{DynamicPPL.Metadata{Dict{DynamicPPL.VarName,Int64},Array{Distribution,1},Array{DynamicPPL.VarName,1},Array{Real,1},Array{Set{DynamicPPL.Selector},1}},Float64}) at /home/kusti/.julia/packages/DynamicPPL/MRwtL/src/context_implementations.jl:90",
      " [3] macro expansion at ./In[14]:9 [inlined]",
      " [4] ##evaluator#315(::Random._GLOBAL_RNG, ::DynamicPPL.Model{var\"###evaluator#315\",(:traps, :complaints),Tuple{Array{Int64,1},Array{Int64,1}},(),DynamicPPL.ModelGen{var\"###generator#316\",(:traps, :complaints),(),Tuple{}}}, ::DynamicPPL.VarInfo{DynamicPPL.Metadata{Dict{DynamicPPL.VarName,Int64},Array{Distribution,1},Array{DynamicPPL.VarName,1},Array{Real,1},Array{Set{DynamicPPL.Selector},1}},Float64}, ::DynamicPPL.SampleFromPrior, ::DynamicPPL.DefaultContext) at /home/kusti/.julia/packages/DynamicPPL/MRwtL/src/compiler.jl:356",
      " [5] evaluate_threadunsafe at /home/kusti/.julia/packages/DynamicPPL/MRwtL/src/model.jl:157 [inlined]",
      " [6] Model at /home/kusti/.julia/packages/DynamicPPL/MRwtL/src/model.jl:136 [inlined]",
      " [7] Model at /home/kusti/.julia/packages/DynamicPPL/MRwtL/src/model.jl:126 [inlined]",
      " [8] VarInfo at /home/kusti/.julia/packages/DynamicPPL/MRwtL/src/varinfo.jl:110 [inlined]",
      " [9] VarInfo at /home/kusti/.julia/packages/DynamicPPL/MRwtL/src/varinfo.jl:109 [inlined]",
      " [10] DynamicPPL.Sampler(::NUTS{Turing.Core.ForwardDiffAD{40},(),AdvancedHMC.DiagEuclideanMetric}, ::DynamicPPL.Model{var\"###evaluator#315\",(:traps, :complaints),Tuple{Array{Int64,1},Array{Int64,1}},(),DynamicPPL.ModelGen{var\"###generator#316\",(:traps, :complaints),(),Tuple{}}}, ::DynamicPPL.Selector) at /home/kusti/.julia/packages/Turing/GMBTf/src/inference/hmc.jl:378",
      " [11] Sampler at /home/kusti/.julia/packages/Turing/GMBTf/src/inference/hmc.jl:376 [inlined]",
      " [12] sample(::Random._GLOBAL_RNG, ::DynamicPPL.Model{var\"###evaluator#315\",(:traps, :complaints),Tuple{Array{Int64,1},Array{Int64,1}},(),DynamicPPL.ModelGen{var\"###generator#316\",(:traps, :complaints),(),Tuple{}}}, ::NUTS{Turing.Core.ForwardDiffAD{40},(),AdvancedHMC.DiagEuclideanMetric}, ::Int64; kwargs::Base.Iterators.Pairs{Union{},Union{},Tuple{},NamedTuple{(),Tuple{}}}) at /home/kusti/.julia/packages/Turing/GMBTf/src/inference/Inference.jl:163",
      " [13] sample at /home/kusti/.julia/packages/Turing/GMBTf/src/inference/Inference.jl:163 [inlined]",
      " [14] #sample#1 at /home/kusti/.julia/packages/Turing/GMBTf/src/inference/Inference.jl:153 [inlined]",
      " [15] sample(::DynamicPPL.Model{var\"###evaluator#315\",(:traps, :complaints),Tuple{Array{Int64,1},Array{Int64,1}},(),DynamicPPL.ModelGen{var\"###generator#316\",(:traps, :complaints),(),Tuple{}}}, ::NUTS{Turing.Core.ForwardDiffAD{40},(),AdvancedHMC.DiagEuclideanMetric}, ::Int64) at /home/kusti/.julia/packages/Turing/GMBTf/src/inference/Inference.jl:153",
      " [16] top-level scope at In[15]:4"
     ]
    }
   ],
   "source": [
    "args = (\n",
    "    #μ_α = log(4), μ_β = -0.25,\n",
    "    traps = simulated_poisson.traps, complaints = simulated_poisson.complaints)\n",
    "#simple_poisson_turing(; args...)\n",
    "\n",
    "turing_posterior = Turing.sample(simple_poisson_turing(; args...), NUTS(200, 0.65), 2500)"
   ]
  }
 ],
 "metadata": {
  "kernelspec": {
   "display_name": "Julia 1.4.0",
   "language": "julia",
   "name": "julia-1.4"
  },
  "language_info": {
   "file_extension": ".jl",
   "mimetype": "application/julia",
   "name": "julia",
   "version": "1.4.0"
  }
 },
 "nbformat": 4,
 "nbformat_minor": 4
}
