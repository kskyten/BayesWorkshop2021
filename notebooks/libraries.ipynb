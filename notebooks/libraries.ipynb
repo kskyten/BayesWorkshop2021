{
 "cells": [
  {
   "cell_type": "markdown",
   "metadata": {},
   "source": [
    "# Data"
   ]
  },
  {
   "cell_type": "code",
   "execution_count": 1,
   "metadata": {},
   "outputs": [],
   "source": [
    "J = 8\n",
    "y = [28.0, 8.0, -3.0, 7.0, -1.0, 1.0, 18.0, 12.0]\n",
    "σ = [15.0, 10.0, 16.0, 11.0, 9.0, 11.0, 10.0, 18.0]\n",
    "schools = [\n",
    "    \"Choate\",\n",
    "    \"Deerfield\",\n",
    "    \"Phillips Andover\",\n",
    "    \"Phillips Exeter\",\n",
    "    \"Hotchkiss\",\n",
    "    \"Lawrenceville\",\n",
    "    \"St. Paul's\",\n",
    "    \"Mt. Hermon\"\n",
    "];\n",
    "\n",
    "nwarmup, nsamples, nchains = 1000, 1000, 4;"
   ]
  },
  {
   "cell_type": "markdown",
   "metadata": {},
   "source": [
    "# Soss"
   ]
  },
  {
   "cell_type": "code",
   "execution_count": 2,
   "metadata": {},
   "outputs": [],
   "source": [
    "using Soss, NamedTupleTools"
   ]
  },
  {
   "cell_type": "code",
   "execution_count": 3,
   "metadata": {},
   "outputs": [
    {
     "name": "stderr",
     "output_type": "stream",
     "text": [
      "WARNING: using Distributions.nsamples in module Main conflicts with an existing identifier.\n"
     ]
    },
    {
     "data": {
      "text/plain": [
       "@model mu begin\n",
       "        mu2 ~ Normal(mu, 1)\n",
       "        x ~ Simulator(mu2)\n",
       "    end\n"
      ]
     },
     "execution_count": 3,
     "metadata": {},
     "output_type": "execute_result"
    }
   ],
   "source": [
    "using Distributions\n",
    "\n",
    "struct Simulator\n",
    "    mu\n",
    "end\n",
    "\n",
    "Base.rand(sim::Simulator) = rand(Normal(sim.mu, 1))\n",
    "\n",
    "simulihood = Soss.@model (mu) begin\n",
    "    mu2 ~ Normal(mu, 1)\n",
    "    x ~ Simulator(mu2)\n",
    "end"
   ]
  },
  {
   "cell_type": "code",
   "execution_count": 4,
   "metadata": {},
   "outputs": [
    {
     "data": {
      "text/plain": [
       "@model sigma begin\n",
       "        X ~ NotNormal(sigma)\n",
       "    end\n"
      ]
     },
     "execution_count": 4,
     "metadata": {},
     "output_type": "execute_result"
    }
   ],
   "source": [
    "struct NotNormal\n",
    "    sigma\n",
    "end\n",
    "\n",
    "foo = Soss.@model (sigma) begin\n",
    "    X ~ NotNormal(sigma)\n",
    "end"
   ]
  },
  {
   "cell_type": "code",
   "execution_count": 5,
   "metadata": {},
   "outputs": [
    {
     "data": {
      "text/plain": [
       "quote\n",
       "    _result = NamedTuple()\n",
       "    X = rand(NotNormal(sigma))\n",
       "    _t = xform(NotNormal(sigma), _data)\n",
       "    _result = merge(_result, (X = _t,))\n",
       "    (TransformVariables.as)(_result)\n",
       "end"
      ]
     },
     "execution_count": 5,
     "metadata": {},
     "output_type": "execute_result"
    }
   ],
   "source": [
    "Soss.sourceXform(foo)"
   ]
  },
  {
   "cell_type": "code",
   "execution_count": 6,
   "metadata": {},
   "outputs": [
    {
     "data": {
      "text/plain": [
       "(mu2 = 12.309942428866353, x = 12.126931264456756)"
      ]
     },
     "execution_count": 6,
     "metadata": {},
     "output_type": "execute_result"
    }
   ],
   "source": [
    "rand(simulihood(mu = 10))"
   ]
  },
  {
   "cell_type": "markdown",
   "metadata": {},
   "source": [
    "## Currying\n",
    "\n",
    "To understand the idea behind Soss models, we first introduce the concept of currying. The basic idea of currying is to convert a multivariate function into an equivalent function composed of univariate functions."
   ]
  },
  {
   "cell_type": "code",
   "execution_count": 7,
   "metadata": {},
   "outputs": [
    {
     "data": {
      "text/plain": [
       "#7 (generic function with 1 method)"
      ]
     },
     "execution_count": 7,
     "metadata": {},
     "output_type": "execute_result"
    }
   ],
   "source": [
    "myplus(x, y) = x + y\n",
    "mycurriedplus = x -> (y -> y + x)"
   ]
  },
  {
   "cell_type": "markdown",
   "metadata": {},
   "source": [
    "## Modeling joint distributions using Soss\n",
    "\n",
    "The goal of Bayesian data analysis is to come up with a plausible explanation for some phenomenon or data in the form of a joint distribution. Defining complicated multivariate distributions outright is extremely difficult, so statistician typically decompose the task into defining conditional distributions and place independence assumptions on the interactions between the random variables.\n",
    "\n",
    "## Free and bound variables in a statistical model\n",
    "\n",
    "For a given data analysis task a statistician will need to decide a model fully. A fully defined model does not have any free parameters , so we can readily sample data from it using a computer. Some classes of models, such as linear regression, are used in many different contexts, so it is useful be able to define models where we can define new models easily simply by assigning new values to the parameters of a model. In this case the unbounded parameters in the model are called free parameters.\n",
    "\n",
    "\n",
    "## Template for defining Soss models\n",
    "\n",
    "A Soss model is defined by using the `model` macro. A macro is simply a piece of code that can modify code. While macros are an extremely powerful concept, they can be used to produce unexpected behaviour, so we prepend their use with the @ sign to make their use clear.\n",
    "\n",
    "```julia\n",
    "name_of_the_model = @model (unbound, parameters) begin\n",
    "    # Define your model here\n",
    "end\n",
    "```"
   ]
  },
  {
   "cell_type": "markdown",
   "metadata": {},
   "source": [
    "## Using Soss models\n",
    "\n",
    "Once we have defined a model, we can assign values to the unbound parameters to define a joint distribution. Assigning values can be just like calling a function with keyword arguments. Once all the parameters are bound, we have a fully defined joint distribution, which we can sample from."
   ]
  },
  {
   "cell_type": "markdown",
   "metadata": {},
   "source": [
    "## Model syntax\n",
    "\n",
    "From mathematical notation to Soss models. Soss syntax is designed to resemble mathematical notation for statistical models.\n",
    "\n",
    "## Univariate random variables\n",
    "\n",
    "The typical notation $X \\sim Normal(\\mu, \\sigma)$, translates directly to Soss. The objects on the right hand side must implement a `rand` method.\n",
    "\n",
    "## Independent and identically distributed random variables\n",
    "\n",
    "It is common to assume that a collection of random variables are independent and identically distributed. This is commonly abbreviated as `iid`. In Soss, we declare the iid assumption using the `iid` function. It takes as argument the length of the random vector, for which we are making the iid assumption. For example, we could assume 10 iid standard Normal distributions using\n",
    "\n",
    "```julia\n",
    "N = 10\n",
    "iid(10)(Normal(0, 1))\n",
    "```\n",
    "\n",
    "It is typical to use the pipe operator `|>` to make the syntax nicer.\n",
    "\n",
    "```julia\n",
    "N = 10\n",
    "Normal(0, 1) |> iid(N)\n",
    "```\n",
    "\n",
    "## Loops\n",
    "\n",
    "To model a random vector, where the components depend on the index, we use loops. In Soss we use the `For` operator. The first argument is a function, which maps the index of a random vector to an expression of the component.\n",
    "\n",
    "```julia\n",
    "For(j -> Normal(theta[j], sigma[j]), 1:J)\n",
    "```\n",
    "\n",
    "It is typical to use Julia's `do` shorthand for defining loops.\n",
    "\n",
    "```julia\n",
    "For(1:J) do j\n",
    "    Normal(θ[j], σ[j])\n",
    "end\n",
    "```"
   ]
  },
  {
   "cell_type": "markdown",
   "metadata": {},
   "source": [
    "# Using a Soss model in the Bayesian workflow\n",
    "\n",
    "A joint distribution defined in Soss can be used to perform useful model transformations. Probably the most important from a practical statistician point of view is obtaining the prior predictive and posterior predictive distributions."
   ]
  },
  {
   "cell_type": "markdown",
   "metadata": {},
   "source": [
    "## The prior predictive distribution\n",
    "\n",
    "The subjective nature of the prior distributions is one of the key points of controversy. There is a vast literature on the philosophy and practical application of different choices of prior distributions.\n",
    "\n",
    "Perhaps due to the controversies associated with the prior distribution, the likelihood function and the prior distribution have historicallyt been treated separately. [] argues that the prior can only be understood in the context of a likelihood function.\n",
    "\n",
    "Assigning numerical values to the hyperparameters is difficult when there is no context. This task becomes much easier when we inspect the implications that our choices of prior parameters place on our joint distribtion.\n",
    "\n",
    "By defining families of joint distributions, Soss models make it easy to investigate how different choices of prior parameters affect our model.\n",
    "\n",
    "The goal of the prior predictive analysis is to rule out values of the hyperparameters that result in obviously wrong data while still providing coverage for plausible values."
   ]
  },
  {
   "cell_type": "markdown",
   "metadata": {},
   "source": [
    "## MCMC\n",
    "\n",
    "Solving Baeysian data analysis typically boil down to problems involving means of probability distributions. We remind the reader of the definition here. For a random variable $X$ defined on a domain $D$ with a probability distribution $p$, we can find the expectation of a function involving $X$, via the integral\n",
    "\n",
    "$$\n",
    "    E[f(X)] = \\int_{D} f(x)p(x) \\, dx\n",
    "$$\n",
    "\n",
    "As anyone who has taken caclulus knows solving integrals can get quite tricky. One dimensional integrals are difficult enough, but things become even difficult in higher dimensions.\n",
    "\n",
    "Fortunately, we can use computer to estimate integrals of this form quite efficiently. The key idea is to get a representative sample from the random variable $X$ and estimate the mean numerically based on this sample.\n",
    "\n",
    "####  Sampling values from a distribution\n",
    "\n",
    "So, how do we go about sampling values from a distribution? Random walk metropolis hastings\n",
    "\n",
    "### Exploiting knowledge about the distribution to sample more efficiently\n",
    "\n",
    "Hamiltonian monte carlo"
   ]
  },
  {
   "cell_type": "code",
   "execution_count": 8,
   "metadata": {},
   "outputs": [
    {
     "data": {
      "text/plain": [
       "Joint Distribution\n",
       "    Bound arguments: [J, σ]\n",
       "    Variables: [τ, μ, θ, y]\n",
       "\n",
       "@model (J, σ) begin\n",
       "        τ ~ HalfCauchy(5)\n",
       "        μ ~ Normal(0, 5)\n",
       "        θ ~ Normal(μ, τ) |> iid(J)\n",
       "        y ~ For(1:J) do j\n",
       "                Normal(θ[j], σ[j])\n",
       "            end\n",
       "    end\n"
      ]
     },
     "execution_count": 8,
     "metadata": {},
     "output_type": "execute_result"
    }
   ],
   "source": [
    "mod = Soss.@model (J, σ) begin\n",
    "    μ ~ Normal(0, 5)\n",
    "    τ ~ HalfCauchy(5)\n",
    "    θ ~ Normal(μ, τ) |> iid(J)\n",
    "    y ~ For(1:J) do j\n",
    "        Normal(θ[j], σ[j])\n",
    "    end\n",
    "end\n",
    "\n",
    "constant_data = (J = J, σ = σ)\n",
    "param_mod = mod(; constant_data...)"
   ]
  },
  {
   "cell_type": "code",
   "execution_count": 9,
   "metadata": {},
   "outputs": [
    {
     "data": {
      "text/plain": [
       "quote\n",
       "    _ℓ = 0.0\n",
       "    τ = rand(HalfCauchy(5))\n",
       "    μ = rand(Normal(0, 5))\n",
       "    θ = rand(Normal(μ, τ) |> iid(J))\n",
       "    y = rand(For(1:J) do j\n",
       "                #= In[8]:6 =#\n",
       "                Normal(θ[j], σ[j])\n",
       "            end)\n",
       "    return (_ℓ, (J = J, σ = σ, μ = μ, τ = τ, θ = θ, y = y))\n",
       "end"
      ]
     },
     "execution_count": 9,
     "metadata": {},
     "output_type": "execute_result"
    }
   ],
   "source": [
    "sourceWeightedSample(mod)"
   ]
  },
  {
   "cell_type": "code",
   "execution_count": 10,
   "metadata": {},
   "outputs": [
    {
     "data": {
      "text/plain": [
       "(J = 8, σ = [15.0, 10.0, 16.0, 11.0, 9.0, 11.0, 10.0, 18.0])"
      ]
     },
     "execution_count": 10,
     "metadata": {},
     "output_type": "execute_result"
    }
   ],
   "source": [
    "arguments(param_mod)"
   ]
  },
  {
   "cell_type": "code",
   "execution_count": 11,
   "metadata": {},
   "outputs": [
    {
     "data": {
      "text/plain": [
       "@model (J, σ) begin\n",
       "        τ ~ HalfCauchy(5)\n",
       "        μ ~ Normal(0, 5)\n",
       "        θ ~ Normal(μ, τ) |> iid(J)\n",
       "        y ~ For(1:J) do j\n",
       "                Normal(θ[j], σ[j])\n",
       "            end\n",
       "    end\n"
      ]
     },
     "execution_count": 11,
     "metadata": {},
     "output_type": "execute_result"
    }
   ],
   "source": [
    "param_mod.model"
   ]
  },
  {
   "cell_type": "code",
   "execution_count": 12,
   "metadata": {},
   "outputs": [
    {
     "data": {
      "text/plain": [
       "Set{Symbol} with 6 elements:\n",
       "  :μ\n",
       "  :σ\n",
       "  :J\n",
       "  :y\n",
       "  :τ\n",
       "  :θ"
      ]
     },
     "execution_count": 12,
     "metadata": {},
     "output_type": "execute_result"
    }
   ],
   "source": [
    "Set(variables(mod))"
   ]
  },
  {
   "cell_type": "code",
   "execution_count": 13,
   "metadata": {},
   "outputs": [
    {
     "data": {
      "text/plain": [
       "3-element Array{Symbol,1}:\n",
       " :μ\n",
       " :τ\n",
       " :θ"
      ]
     },
     "execution_count": 13,
     "metadata": {},
     "output_type": "execute_result"
    }
   ],
   "source": [
    "setdiff(parameters(mod), [:y])"
   ]
  },
  {
   "cell_type": "code",
   "execution_count": 14,
   "metadata": {},
   "outputs": [
    {
     "data": {
      "text/plain": [
       "false"
      ]
     },
     "execution_count": 14,
     "metadata": {},
     "output_type": "execute_result"
    }
   ],
   "source": [
    "isinf(typemax(Int64))"
   ]
  },
  {
   "cell_type": "code",
   "execution_count": 15,
   "metadata": {},
   "outputs": [
    {
     "data": {
      "text/plain": [
       "2-element Array{Symbol,1}:\n",
       " :J\n",
       " :σ"
      ]
     },
     "execution_count": 15,
     "metadata": {},
     "output_type": "execute_result"
    }
   ],
   "source": [
    "arguments(mod)"
   ]
  },
  {
   "cell_type": "code",
   "execution_count": 16,
   "metadata": {},
   "outputs": [
    {
     "ename": "MethodError",
     "evalue": "MethodError: no method matching (::Soss.JointDistribution{NamedTuple{(:J, :σ),Tuple{Int64,Array{Float64,1}}},NamedTuple{(:J, :σ),T} where T<:Tuple,TypeEncoding(begin\n    τ ~ HalfCauchy(5)\n    μ ~ Normal(0, 5)\n    θ ~ Normal(μ, τ) |> iid(J)\n    y ~ For(1:J) do j\n            Normal(θ[j], σ[j])\n        end\nend),TypeEncoding(Main)})()\nClosest candidates are:\n  Any(!Matched::NamedTuple) at /home/kusti/.julia/dev/Soss/src/core/jointdistribution.jl:11",
     "output_type": "error",
     "traceback": [
      "MethodError: no method matching (::Soss.JointDistribution{NamedTuple{(:J, :σ),Tuple{Int64,Array{Float64,1}}},NamedTuple{(:J, :σ),T} where T<:Tuple,TypeEncoding(begin\n    τ ~ HalfCauchy(5)\n    μ ~ Normal(0, 5)\n    θ ~ Normal(μ, τ) |> iid(J)\n    y ~ For(1:J) do j\n            Normal(θ[j], σ[j])\n        end\nend),TypeEncoding(Main)})()\nClosest candidates are:\n  Any(!Matched::NamedTuple) at /home/kusti/.julia/dev/Soss/src/core/jointdistribution.jl:11",
      "",
      "Stacktrace:",
      " [1] top-level scope at In[16]:1"
     ]
    }
   ],
   "source": [
    "mod(; constant_data...)()"
   ]
  },
  {
   "cell_type": "markdown",
   "metadata": {},
   "source": [
    "## Sampling from a model"
   ]
  },
  {
   "cell_type": "code",
   "execution_count": 17,
   "metadata": {},
   "outputs": [
    {
     "data": {
      "text/plain": [
       "(τ = 4.113735795147721, μ = -3.0149612683756253, θ = [-2.4357562912611446, -8.450760942754055, -2.8233942630989812, -4.869445303088138, -7.0454432655681, -14.520588263391739, -4.349659317740904, -4.184376383198362], y = [10.731529304559755, 4.132186976509306, 20.8251708092931, -10.215582743934327, -11.658630569575156, -8.407889028068585, -3.420581591988563, -10.728509003171066])"
      ]
     },
     "execution_count": 17,
     "metadata": {},
     "output_type": "execute_result"
    }
   ],
   "source": [
    "rand(param_mod)"
   ]
  },
  {
   "cell_type": "markdown",
   "metadata": {},
   "source": [
    "## Sampling from the posterior"
   ]
  },
  {
   "cell_type": "code",
   "execution_count": 18,
   "metadata": {},
   "outputs": [],
   "source": [
    "post = map(1:nchains) do _\n",
    "    dynamicHMC(param_mod, (y = y,), nsamples)\n",
    "end;"
   ]
  },
  {
   "cell_type": "code",
   "execution_count": 19,
   "metadata": {},
   "outputs": [
    {
     "data": {
      "text/plain": [
       "(:treedepth => [5, 4, 4, 4, 5, 5, 4, 3, 3, 4  …  4, 4, 5, 4, 4, 4, 5, 5, 6, 3], :divergent => Bool[0, 0, 0, 0, 0, 0, 0, 0, 0, 0  …  0, 0, 0, 0, 0, 0, 0, 0, 0, 0], :energy => [55.66941194968842, 66.6798430233682, 64.44665202985317, 61.966900739041726, 62.00506939761171, 61.953726638109536, 59.12025814042221, 54.95657875702234, 54.59982988628579, 58.18263389628212  …  59.11890538324652, 57.27645328336733, 62.24983261525727, 60.760594413763855, 59.653636932049096, 64.305124375873, 64.284902864755, 61.65971750903316, 62.79284466369427, 60.707863744074686])"
      ]
     },
     "execution_count": 19,
     "metadata": {},
     "output_type": "execute_result"
    }
   ],
   "source": [
    "post[2][2]"
   ]
  },
  {
   "cell_type": "code",
   "execution_count": 20,
   "metadata": {},
   "outputs": [
    {
     "data": {
      "text/plain": [
       "([[-0.5205130258190899, -0.8181908174045915, 1.3688307121185124, 1.0952888658760866, -0.9947026676730574, -0.8501657220944207, 1.0406558260960672, -0.054845257056080586, -0.8385269076546882, -0.34650344293195207], [-0.5205130258190899, -0.8181908174045915, 1.3688307121185124, 1.0952888658760866, -0.9947026676730574, -0.8501657220944207, 1.0406558260960672, -0.054845257056080586, -0.8385269076546882, -0.34650344293195207], [1.1834735280058257, 1.814688026879197, -1.6347878417045512, -1.1603333392628625, 0.6393589714620576, -0.3956360373706631, -2.4020915464772976, -1.6184848107951504, 0.928464280358736, -2.9555418403783715], [1.365771325963549, -1.061127426594659, 3.729713009318358, 2.2881212888417397, 1.667282210630563, 2.792368872795553, -0.7831402264102992, 0.9670267342222261, 3.1279877891200614, 3.7743468006918994], [0.35181832045078043, 2.498238204689897, 2.5711048606340072, -0.02540241452538118, 4.240569576909472, 2.9744197819596003, 1.4264286253330485, -0.4159351296914465, 4.317004224429889, 2.73916888477677], [0.34083780412455944, 2.7475707117370796, 3.387859403093244, 2.2758734969090826, 5.1848554695872044, 1.8814538129181266, 1.798787951124781, 2.005848149959017, 4.338315517176463, 2.2829921502852377], [0.5992777643356362, 4.044312913607017, 3.2542026277373233, 6.555392209508885, 0.31471465818057925, 6.645329874731933, 4.693863200601531, 6.188240281756009, 3.912752871045931, 5.149183144078511], [0.9373239598239053, 4.32447741131347, 2.1359980505393366, 5.927719961012531, 0.9020217135184561, 7.264491684871505, 4.464662779147597, 6.006504844279388, 3.6049669326473563, 5.382171377322774], [1.1177730982693612, 6.410888871107913, 7.234382863033696, 5.322885571178397, 8.961631122610516, 3.0593321895601266, 6.040147507400764, 8.641920727760736, 6.100432069398324, 3.8221927001657763], [1.2267857315815307, 6.626508552036383, 8.026025283356635, 6.924230094247628, 3.6010673779920177, 8.988054099536825, 6.188906592003746, 4.03300961010638, 5.338376187747973, 10.97315411749095]  …  [0.9100186134649895, 2.780341070999612, 4.099868038421193, 5.424466148531498, 4.666057673238021, 2.6226711606575495, 2.7951985429120234, 3.0094623215206098, 0.23160170309052253, 2.1854031196925146], [0.8064154881806201, 4.154132016568978, 4.333104169391923, 2.059182940151005, 2.369937931725466, 5.499046248497802, 5.607259160110946, 3.603077996485031, 7.813733026661529, 4.311640064666912], [0.30379211376219434, 4.554771735055777, 5.089213454876036, 7.043700513944212, 5.666125866467238, 4.5068752214048455, 3.3566415900320767, 5.623620602198852, 2.684290900233479, 2.8731375186869004], [0.7498308301433331, -0.37103666414787173, 1.7124794773619878, -3.6288418707226917, 1.5082347245648016, -1.0371598549102896, -0.11199117775243228, -0.47064905917455535, 0.9763620391648027, 0.3527766639869081], [0.5901717954536929, 0.5287450629441159, 1.0962093480146604, -0.9058095645021138, 1.8531427984833029, 1.4119419290889808, -1.4977364442553385, -2.384820498640652, 0.11062168337768047, 0.41850305603545723], [0.6399775892894738, 0.48177315370473356, 2.024193682032071, 0.8983462651812093, 2.3227524969182802, 0.049142431375865825, -3.09368918677415, 0.7581949405624595, 2.8789151409963263, 2.5643108327764668], [0.640122023005746, 3.379757158349557, 3.1679464140372495, 2.5955191411580527, 3.8330299007335547, 5.604920859915271, 3.8573763327570116, 4.3537155611748455, 0.9394577428830926, 3.9294747093633844], [1.1230194379893037, 4.044628248158183, 8.113464464154434, 4.723879055665402, 1.0631866810788284, 5.359004967748006, 4.819183018360187, 2.771113045334623, 4.50852280159812, 5.194199615684168], [1.291898970976841, 5.365928467071493, 8.28679716813535, 5.89901642695324, 0.5221020563573945, 5.737134308459669, -0.32584861846131585, -0.9169373235225845, 6.762738421666947, 7.314703737691492], [2.787253413228059, 0.7167269582515227, 21.675880695019156, -1.510316058182207, 13.783831965104586, -3.2778601641387746, 3.3926308517244133, -5.13345511958461, 12.481648321581439, -3.59641702015412]], NamedTuple[(n_steps = 5, is_accept = true, acceptance_rate = 5.358627487547551e-47, log_density = -57.799500800472934, hamiltonian_energy = 62.8680405259799, hamiltonian_energy_error = 0.0, max_hamiltonian_energy_error = 6.820522375647041e10, tree_depth = 2, numerical_error = true, step_size = 0.8, nom_step_size = 0.8, is_adapt = true), (n_steps = 5, is_accept = true, acceptance_rate = 4.348530038327405e-83, log_density = -57.799500800472934, hamiltonian_energy = 65.55954699020852, hamiltonian_energy_error = 0.0, max_hamiltonian_energy_error = 1.2248626078235741e25, tree_depth = 2, numerical_error = true, step_size = 0.9340259163636535, nom_step_size = 0.9340259163636535, is_adapt = true), (n_steps = 95, is_accept = true, acceptance_rate = 1.0, log_density = -56.189458936984245, hamiltonian_energy = 60.94447490849722, hamiltonian_energy_error = -0.4922143487027526, max_hamiltonian_energy_error = -0.9394622620186439, tree_depth = 6, numerical_error = false, step_size = 0.09209433883419865, nom_step_size = 0.09209433883419865, is_adapt = true), (n_steps = 127, is_accept = true, acceptance_rate = 0.9889396714359289, log_density = -55.42935210361898, hamiltonian_energy = 60.56448072368907, hamiltonian_energy_error = -0.006668875531751439, max_hamiltonian_energy_error = -0.20762192872222585, tree_depth = 6, numerical_error = false, step_size = 0.09591656221537206, nom_step_size = 0.09591656221537206, is_adapt = true), (n_steps = 63, is_accept = true, acceptance_rate = 0.9972192889754348, log_density = -50.570199570849645, hamiltonian_energy = 58.145770983303166, hamiltonian_energy_error = -0.0774870521841251, max_hamiltonian_energy_error = -0.0774870521841251, tree_depth = 5, numerical_error = false, step_size = 0.12569738008481762, nom_step_size = 0.12569738008481762, is_adapt = true), (n_steps = 31, is_accept = true, acceptance_rate = 0.9194700987256827, log_density = -47.66822085295516, hamiltonian_energy = 52.86821204102872, hamiltonian_energy_error = 0.012459318182472146, max_hamiltonian_energy_error = 0.28451591492576966, tree_depth = 5, numerical_error = false, step_size = 0.1946804824055242, nom_step_size = 0.1946804824055242, is_adapt = true), (n_steps = 31, is_accept = true, acceptance_rate = 0.9572249234275044, log_density = -51.78424408292132, hamiltonian_energy = 54.356693564611355, hamiltonian_energy_error = 0.08634810424928219, max_hamiltonian_energy_error = 0.09385390660538206, tree_depth = 5, numerical_error = false, step_size = 0.25868447679742335, nom_step_size = 0.25868447679742335, is_adapt = true), (n_steps = 31, is_accept = true, acceptance_rate = 0.8142823134969267, log_density = -51.82826530363395, hamiltonian_energy = 59.97117774049335, hamiltonian_energy_error = 0.12241274171380212, max_hamiltonian_energy_error = 0.6226449228530058, tree_depth = 5, numerical_error = false, step_size = 0.40325661456699763, nom_step_size = 0.40325661456699763, is_adapt = true), (n_steps = 31, is_accept = true, acceptance_rate = 0.6140529779621604, log_density = -52.60690106561209, hamiltonian_energy = 53.85283099653229, hamiltonian_energy_error = -0.0488573210313632, max_hamiltonian_energy_error = 279.52090582619627, tree_depth = 4, numerical_error = false, step_size = 0.412529693359662, nom_step_size = 0.412529693359662, is_adapt = true), (n_steps = 63, is_accept = true, acceptance_rate = 0.9933864630877551, log_density = -53.16569344383831, hamiltonian_energy = 57.57378382342692, hamiltonian_energy_error = -0.020799505912741267, max_hamiltonian_energy_error = -0.17502465324758987, tree_depth = 6, numerical_error = false, step_size = 0.22681189821786543, nom_step_size = 0.22681189821786543, is_adapt = true)  …  (n_steps = 31, is_accept = true, acceptance_rate = 0.9947541032070926, log_density = -50.89300900460376, hamiltonian_energy = 53.61681941108401, hamiltonian_energy_error = 0.005780996705681218, max_hamiltonian_energy_error = -0.019743776401995206, tree_depth = 5, numerical_error = false, step_size = 0.046658275602575267, nom_step_size = 0.046658275602575267, is_adapt = true), (n_steps = 31, is_accept = true, acceptance_rate = 0.9926388798601258, log_density = -50.34487544053906, hamiltonian_energy = 55.81759815182277, hamiltonian_energy_error = -0.01224941987874928, max_hamiltonian_energy_error = 0.023674299952489264, tree_depth = 5, numerical_error = false, step_size = 0.07827588465592986, nom_step_size = 0.07827588465592986, is_adapt = true), (n_steps = 7, is_accept = true, acceptance_rate = 0.9955725576629718, log_density = -49.25104420913265, hamiltonian_energy = 55.86131866659441, hamiltonian_energy_error = -0.18280491959125555, max_hamiltonian_energy_error = -0.18280491959125555, tree_depth = 3, numerical_error = false, step_size = 0.12962392579979629, nom_step_size = 0.12962392579979629, is_adapt = true), (n_steps = 31, is_accept = true, acceptance_rate = 0.37407240415070947, log_density = -51.2508855993374, hamiltonian_energy = 55.21855546578714, hamiltonian_energy_error = 0.11905164338479324, max_hamiltonian_energy_error = 8.67287950542152, tree_depth = 4, numerical_error = false, step_size = 0.21461960521338055, nom_step_size = 0.21461960521338055, is_adapt = true), (n_steps = 15, is_accept = true, acceptance_rate = 0.9955049049322896, log_density = -50.27485407566781, hamiltonian_energy = 54.09455234252446, hamiltonian_energy_error = -0.0001887828263704705, max_hamiltonian_energy_error = -0.0308293240221289, tree_depth = 4, numerical_error = false, step_size = 0.07662294799781455, nom_step_size = 0.07662294799781455, is_adapt = true), (n_steps = 15, is_accept = true, acceptance_rate = 0.9699553027428124, log_density = -51.23682083325748, hamiltonian_energy = 54.1915518627661, hamiltonian_energy_error = 0.03082139839361986, max_hamiltonian_energy_error = 0.22916668445770938, tree_depth = 3, numerical_error = false, step_size = 0.12638579879765569, nom_step_size = 0.12638579879765569, is_adapt = true), (n_steps = 31, is_accept = true, acceptance_rate = 0.9714154215460812, log_density = -49.31051528991827, hamiltonian_energy = 56.59578456163826, hamiltonian_energy_error = -0.12337509898855359, max_hamiltonian_energy_error = -0.6868792181841599, tree_depth = 4, numerical_error = false, step_size = 0.1945661526464581, nom_step_size = 0.1945661526464581, is_adapt = true), (n_steps = 9, is_accept = true, acceptance_rate = 0.46671840100627004, log_density = -51.6109128396142, hamiltonian_energy = 54.351817843696494, hamiltonian_energy_error = 0.536398480618665, max_hamiltonian_energy_error = 683.6331836638988, tree_depth = 3, numerical_error = false, step_size = 0.2987628100935579, nom_step_size = 0.2987628100935579, is_adapt = true), (n_steps = 15, is_accept = true, acceptance_rate = 0.9649938711844872, log_density = -55.05879693124064, hamiltonian_energy = 57.53440744617657, hamiltonian_energy_error = 0.056929291157715056, max_hamiltonian_energy_error = -0.47751701205068287, tree_depth = 3, numerical_error = false, step_size = 0.13657038977400293, nom_step_size = 0.13657038977400293, is_adapt = true), (n_steps = 31, is_accept = true, acceptance_rate = 0.8038540329178754, log_density = -65.13190750936833, hamiltonian_energy = 68.2681226178071, hamiltonian_energy_error = 0.285659965934002, max_hamiltonian_energy_error = 0.32160380837044045, tree_depth = 4, numerical_error = false, step_size = 0.20579896554995294, nom_step_size = 0.20579896554995294, is_adapt = true)])"
      ]
     },
     "execution_count": 20,
     "metadata": {},
     "output_type": "execute_result"
    }
   ],
   "source": [
    "apost = advancedHMC(param_mod, (y=y,), nsamples)"
   ]
  },
  {
   "cell_type": "code",
   "execution_count": 21,
   "metadata": {},
   "outputs": [
    {
     "data": {
      "text/plain": [
       "1000-element Array{Array{Float64,1},1}:\n",
       " [-0.5205130258190899, -0.8181908174045915, 1.3688307121185124, 1.0952888658760866, -0.9947026676730574, -0.8501657220944207, 1.0406558260960672, -0.054845257056080586, -0.8385269076546882, -0.34650344293195207]\n",
       " [-0.5205130258190899, -0.8181908174045915, 1.3688307121185124, 1.0952888658760866, -0.9947026676730574, -0.8501657220944207, 1.0406558260960672, -0.054845257056080586, -0.8385269076546882, -0.34650344293195207]\n",
       " [1.1834735280058257, 1.814688026879197, -1.6347878417045512, -1.1603333392628625, 0.6393589714620576, -0.3956360373706631, -2.4020915464772976, -1.6184848107951504, 0.928464280358736, -2.9555418403783715]\n",
       " [1.365771325963549, -1.061127426594659, 3.729713009318358, 2.2881212888417397, 1.667282210630563, 2.792368872795553, -0.7831402264102992, 0.9670267342222261, 3.1279877891200614, 3.7743468006918994]\n",
       " [0.35181832045078043, 2.498238204689897, 2.5711048606340072, -0.02540241452538118, 4.240569576909472, 2.9744197819596003, 1.4264286253330485, -0.4159351296914465, 4.317004224429889, 2.73916888477677]\n",
       " [0.34083780412455944, 2.7475707117370796, 3.387859403093244, 2.2758734969090826, 5.1848554695872044, 1.8814538129181266, 1.798787951124781, 2.005848149959017, 4.338315517176463, 2.2829921502852377]\n",
       " [0.5992777643356362, 4.044312913607017, 3.2542026277373233, 6.555392209508885, 0.31471465818057925, 6.645329874731933, 4.693863200601531, 6.188240281756009, 3.912752871045931, 5.149183144078511]\n",
       " [0.9373239598239053, 4.32447741131347, 2.1359980505393366, 5.927719961012531, 0.9020217135184561, 7.264491684871505, 4.464662779147597, 6.006504844279388, 3.6049669326473563, 5.382171377322774]\n",
       " [1.1177730982693612, 6.410888871107913, 7.234382863033696, 5.322885571178397, 8.961631122610516, 3.0593321895601266, 6.040147507400764, 8.641920727760736, 6.100432069398324, 3.8221927001657763]\n",
       " [1.2267857315815307, 6.626508552036383, 8.026025283356635, 6.924230094247628, 3.6010673779920177, 8.988054099536825, 6.188906592003746, 4.03300961010638, 5.338376187747973, 10.97315411749095]\n",
       " [1.372753013702053, 7.097101131019093, 10.278684031998967, 7.352019450633553, 2.9139520557207166, 8.979373190273067, 7.3636778696498375, 4.141393003689931, 6.109935486915228, 11.680586901584391]\n",
       " [1.163872971833624, 9.297534051853908, 5.7854223606043576, 7.307646093266037, 10.225810484793698, 4.175345263916905, 6.0834951714780345, 11.832579012730285, 11.73314254490914, 1.421276594955956]\n",
       " [2.2297738913792258, 8.421265633474103, 6.5662743886256605, 7.114824870915728, 10.185916941773016, 3.7676989096429914, 6.302834608525618, 11.866640988856712, 11.62544657200409, 2.1104614127377506]\n",
       " ⋮\n",
       " [0.29368671916611605, 3.1154846647568264, 3.0610971578489217, 1.4359201955458563, 3.015415724416661, 3.0170302762476195, 0.06615992286884342, 1.5895410996058044, 4.059576132973688, 4.167740938915825]\n",
       " [0.33990364808849677, 3.0225075060599123, 3.2752448695833505, 2.4286168179192096, 1.6273470388844142, 4.215694775015951, 0.42133407116220817, 1.1602391518340396, 5.149207265689982, 2.9331593825382383]\n",
       " [0.9100186134649895, 2.780341070999612, 4.099868038421193, 5.424466148531498, 4.666057673238021, 2.6226711606575495, 2.7951985429120234, 3.0094623215206098, 0.23160170309052253, 2.1854031196925146]\n",
       " [0.8064154881806201, 4.154132016568978, 4.333104169391923, 2.059182940151005, 2.369937931725466, 5.499046248497802, 5.607259160110946, 3.603077996485031, 7.813733026661529, 4.311640064666912]\n",
       " [0.30379211376219434, 4.554771735055777, 5.089213454876036, 7.043700513944212, 5.666125866467238, 4.5068752214048455, 3.3566415900320767, 5.623620602198852, 2.684290900233479, 2.8731375186869004]\n",
       " [0.7498308301433331, -0.37103666414787173, 1.7124794773619878, -3.6288418707226917, 1.5082347245648016, -1.0371598549102896, -0.11199117775243228, -0.47064905917455535, 0.9763620391648027, 0.3527766639869081]\n",
       " [0.5901717954536929, 0.5287450629441159, 1.0962093480146604, -0.9058095645021138, 1.8531427984833029, 1.4119419290889808, -1.4977364442553385, -2.384820498640652, 0.11062168337768047, 0.41850305603545723]\n",
       " [0.6399775892894738, 0.48177315370473356, 2.024193682032071, 0.8983462651812093, 2.3227524969182802, 0.049142431375865825, -3.09368918677415, 0.7581949405624595, 2.8789151409963263, 2.5643108327764668]\n",
       " [0.640122023005746, 3.379757158349557, 3.1679464140372495, 2.5955191411580527, 3.8330299007335547, 5.604920859915271, 3.8573763327570116, 4.3537155611748455, 0.9394577428830926, 3.9294747093633844]\n",
       " [1.1230194379893037, 4.044628248158183, 8.113464464154434, 4.723879055665402, 1.0631866810788284, 5.359004967748006, 4.819183018360187, 2.771113045334623, 4.50852280159812, 5.194199615684168]\n",
       " [1.291898970976841, 5.365928467071493, 8.28679716813535, 5.89901642695324, 0.5221020563573945, 5.737134308459669, -0.32584861846131585, -0.9169373235225845, 6.762738421666947, 7.314703737691492]\n",
       " [2.787253413228059, 0.7167269582515227, 21.675880695019156, -1.510316058182207, 13.783831965104586, -3.2778601641387746, 3.3926308517244133, -5.13345511958461, 12.481648321581439, -3.59641702015412]"
      ]
     },
     "execution_count": 21,
     "metadata": {},
     "output_type": "execute_result"
    }
   ],
   "source": [
    "apost[1]"
   ]
  },
  {
   "cell_type": "markdown",
   "metadata": {},
   "source": [
    "## Ideal API\n",
    "\n",
    "```julia\n",
    "mymodel = @model (mu, sigma) begin\n",
    "    # Stuff\n",
    "end\n",
    "\n",
    "prip = prior_predictive(mymodel)\n",
    "post = posterior(mymodel, data)\n",
    "popre = posterior_predictive(mymodel, data, posterior_samples)\n",
    "popre2 = posterior_predictive(mymodel, data)\n",
    "\n",
    "sample(prip, args...)\n",
    "fit(Normal, posterior)\n",
    "fit([:mu => Normal], posterior)\n",
    "\n",
    "struct EmpiricalDistribution end\n",
    "\n",
    "```\n",
    "\n",
    "## ABC\n",
    "\n",
    "### Particle based\n",
    "\n",
    "```julia\n",
    "prip = prior_predictive(mymodel, penalty(theta, data))\n",
    "post = posterior(mymodel, data, penalty(theta, data))\n",
    "```\n",
    "\n",
    "### Surrogate models\n",
    "```julia\n",
    "fit(GP, simulator, data, penalty)\n",
    "fit(Gaussian, simulator, data, summary_statistics)\n",
    "fit(LikelihoodRatio(summary_statistics), simulator, data)\n",
    "```\n",
    "\n",
    "### Inference compilation\n",
    "```julia\n",
    "fit(NeuralNetwork, model)\n",
    "```"
   ]
  },
  {
   "cell_type": "markdown",
   "metadata": {},
   "source": [
    "## Posterior predictive"
   ]
  },
  {
   "cell_type": "code",
   "execution_count": 22,
   "metadata": {},
   "outputs": [
    {
     "data": {
      "text/plain": [
       "(:μ, :τ, :θ, :y)"
      ]
     },
     "execution_count": 22,
     "metadata": {},
     "output_type": "execute_result"
    }
   ],
   "source": [
    "keys(param_mod.model.dists)"
   ]
  },
  {
   "cell_type": "code",
   "execution_count": 23,
   "metadata": {},
   "outputs": [
    {
     "data": {
      "text/plain": [
       "2-element Array{Symbol,1}:\n",
       " :J\n",
       " :σ"
      ]
     },
     "execution_count": 23,
     "metadata": {},
     "output_type": "execute_result"
    }
   ],
   "source": [
    "param_mod.model.args"
   ]
  },
  {
   "cell_type": "code",
   "execution_count": 24,
   "metadata": {},
   "outputs": [],
   "source": [
    "#struct PosteriorPredictive\n",
    "#    nchains :: Int\n",
    "#    nsamples :: Int\n",
    "#end\n",
    "#\n",
    "#function posterior_predictive(model, data, posterior_samples)\n",
    "#    parameters = difference(variables(model), columns(data))\n",
    "#    pred = predictive(model, parameters...)\n",
    "#    post_postpred = map(posterior_samples) do post_draws\n",
    "#        map(post_draws) do post_draw\n",
    "#            pred_draw = rand(pred(post_draw))\n",
    "#            pred_draw = delete(pred_draw, keys(constant_data))\n",
    "#            return merge(pred_draw, post_draw)\n",
    "#        end\n",
    "#    end\n",
    "#end\n",
    "#\n",
    "#function (pp::PosteriorPredictive)(model, data)\n",
    "#    posterior_samples = map(1:nchains(pp)) do _\n",
    "#        #TODO: Generalize samplers\n",
    "#        dynamicHMC(model, data, nsamples(pp))\n",
    "#    end\n",
    "#end\n",
    "#\n",
    "#\n",
    "#\n",
    "#pred = predictive(mod, :μ, :τ, :θ)\n",
    "#post_postpred = map(post) do post_draws\n",
    "#    map(post_draws) do post_draw\n",
    "#        pred_draw = rand(pred(post_draw))\n",
    "#        pred_draw = delete(pred_draw, keys(constant_data))\n",
    "#        return merge(pred_draw, post_draw)\n",
    "#    end\n",
    "#end;"
   ]
  },
  {
   "cell_type": "code",
   "execution_count": 25,
   "metadata": {},
   "outputs": [
    {
     "ename": "PyCall.PyError",
     "evalue": "PyError ($(Expr(:escape, :(ccall(#= /home/kusti/.julia/packages/PyCall/zqDXB/src/pyfncall.jl:43 =# @pysym(:PyObject_Call), PyPtr, (PyPtr, PyPtr, PyPtr), o, pyargsptr, kw))))) <class 'ValueError'>\nValueError('Can only convert xarray dataarray, xarray dataset, dict, netcdf filename, numpy array, pystan fit, pymc3 trace, emcee fit, pyro mcmc fit, numpyro mcmc fit, cmdstan fit csv filename, cmdstanpy fit to InferenceData, not list')\n  File \"/home/kusti/.julia/conda/3/lib/python3.7/site-packages/arviz/data/converters.py\", line 133, in convert_to_inference_data\n    \", \".join(allowable_types), obj.__class__.__name__\n",
     "output_type": "error",
     "traceback": [
      "PyError ($(Expr(:escape, :(ccall(#= /home/kusti/.julia/packages/PyCall/zqDXB/src/pyfncall.jl:43 =# @pysym(:PyObject_Call), PyPtr, (PyPtr, PyPtr, PyPtr), o, pyargsptr, kw))))) <class 'ValueError'>\nValueError('Can only convert xarray dataarray, xarray dataset, dict, netcdf filename, numpy array, pystan fit, pymc3 trace, emcee fit, pyro mcmc fit, numpyro mcmc fit, cmdstan fit csv filename, cmdstanpy fit to InferenceData, not list')\n  File \"/home/kusti/.julia/conda/3/lib/python3.7/site-packages/arviz/data/converters.py\", line 133, in convert_to_inference_data\n    \", \".join(allowable_types), obj.__class__.__name__\n",
      "",
      "Stacktrace:",
      " [1] pyerr_check at /home/kusti/.julia/packages/PyCall/zqDXB/src/exception.jl:60 [inlined]",
      " [2] pyerr_check at /home/kusti/.julia/packages/PyCall/zqDXB/src/exception.jl:64 [inlined]",
      " [3] _handle_error(::String) at /home/kusti/.julia/packages/PyCall/zqDXB/src/exception.jl:81",
      " [4] macro expansion at /home/kusti/.julia/packages/PyCall/zqDXB/src/exception.jl:95 [inlined]",
      " [5] #110 at /home/kusti/.julia/packages/PyCall/zqDXB/src/pyfncall.jl:43 [inlined]",
      " [6] disable_sigint at ./c.jl:446 [inlined]",
      " [7] __pycall! at /home/kusti/.julia/packages/PyCall/zqDXB/src/pyfncall.jl:42 [inlined]",
      " [8] _pycall!(::PyCall.PyObject, ::PyCall.PyObject, ::Tuple{Array{Tuple{Array{NamedTuple{(:τ, :μ, :θ),Tuple{Float64,Float64,Array{Float64,1}}},1},Tuple{Pair{Symbol,Array{Int64,1}},Pair{Symbol,BitArray{1}},Pair{Symbol,Array{Float64,1}}}},1}}, ::Int64, ::PyCall.PyObject) at /home/kusti/.julia/packages/PyCall/zqDXB/src/pyfncall.jl:29",
      " [9] _pycall!(::PyCall.PyObject, ::PyCall.PyObject, ::Tuple{Array{Tuple{Array{NamedTuple{(:τ, :μ, :θ),Tuple{Float64,Float64,Array{Float64,1}}},1},Tuple{Pair{Symbol,Array{Int64,1}},Pair{Symbol,BitArray{1}},Pair{Symbol,Array{Float64,1}}}},1}}, ::Base.Iterators.Pairs{Symbol,Symbol,Tuple{Symbol},NamedTuple{(:group,),Tuple{Symbol}}}) at /home/kusti/.julia/packages/PyCall/zqDXB/src/pyfncall.jl:11",
      " [10] #_#117 at /home/kusti/.julia/packages/PyCall/zqDXB/src/pyfncall.jl:86 [inlined]",
      " [11] convert_to_inference_data(::Array{Tuple{Array{NamedTuple{(:τ, :μ, :θ),Tuple{Float64,Float64,Array{Float64,1}}},1},Tuple{Pair{Symbol,Array{Int64,1}},Pair{Symbol,BitArray{1}},Pair{Symbol,Array{Float64,1}}}},1}; kwargs::Base.Iterators.Pairs{Symbol,Symbol,Tuple{Symbol},NamedTuple{(:group,),Tuple{Symbol}}}) at /home/kusti/.julia/packages/ArviZ/4u5uB/src/utils.jl:97",
      " [12] convert_to_dataset(::Array{Tuple{Array{NamedTuple{(:τ, :μ, :θ),Tuple{Float64,Float64,Array{Float64,1}}},1},Tuple{Pair{Symbol,Array{Int64,1}},Pair{Symbol,BitArray{1}},Pair{Symbol,Array{Float64,1}}}},1}; group::Symbol, kwargs::Base.Iterators.Pairs{Union{},Union{},Tuple{},NamedTuple{(),Tuple{}}}) at /home/kusti/.julia/packages/ArviZ/4u5uB/src/dataset.jl:83",
      " [13] #convert_arguments#122 at /home/kusti/.julia/packages/ArviZ/4u5uB/src/plots.jl:83 [inlined]",
      " [14] plot_rank(::Array{Tuple{Array{NamedTuple{(:τ, :μ, :θ),Tuple{Float64,Float64,Array{Float64,1}}},1},Tuple{Pair{Symbol,Array{Int64,1}},Pair{Symbol,BitArray{1}},Pair{Symbol,Array{Float64,1}}}},1}; backend::Nothing, kwargs::Base.Iterators.Pairs{Symbol,Array{String,1},Tuple{Symbol},NamedTuple{(:var_names,),Tuple{Array{String,1}}}}) at /home/kusti/.julia/packages/ArviZ/4u5uB/src/utils.jl:127",
      " [15] top-level scope at In[25]:2"
     ]
    }
   ],
   "source": [
    "using ArviZ\n",
    "\n",
    "plot_rank(post; var_names = [\"μ\", \"τ\"]);\n",
    "#gcf()"
   ]
  },
  {
   "cell_type": "code",
   "execution_count": 26,
   "metadata": {},
   "outputs": [
    {
     "ename": "UndefVarError",
     "evalue": "UndefVarError: prior_priorpred not defined",
     "output_type": "error",
     "traceback": [
      "UndefVarError: prior_priorpred not defined",
      "",
      "Stacktrace:",
      " [1] top-level scope at In[26]:1"
     ]
    }
   ],
   "source": [
    "idata = from_namedtuple(\n",
    "    post_postpred;\n",
    "    posterior_predictive = [:y],\n",
    "    prior = prior_priorpred,\n",
    "    prior_predictive = [:y],\n",
    "    observed_data = (y = y,),\n",
    "    constant_data = constant_data,\n",
    "    coords = Dict(\"school\" => schools),\n",
    "    dims = Dict(\n",
    "        \"y\" => [\"school\"],\n",
    "        \"σ\" => [\"school\"],\n",
    "        \"θ\" => [\"school\"],\n",
    "    ),\n",
    "    library = Soss,\n",
    ")"
   ]
  },
  {
   "cell_type": "code",
   "execution_count": 27,
   "metadata": {},
   "outputs": [
    {
     "ename": "UndefVarError",
     "evalue": "UndefVarError: idata not defined",
     "output_type": "error",
     "traceback": [
      "UndefVarError: idata not defined",
      "",
      "Stacktrace:",
      " [1] top-level scope at In[27]:1"
     ]
    }
   ],
   "source": [
    "plot_density(\n",
    "    [idata.posterior_predictive, idata.prior_predictive];\n",
    "    data_labels = [\"Post-pred\", \"Prior-pred\"],\n",
    "    var_names = [\"y\"],\n",
    ")\n",
    "gcf()"
   ]
  },
  {
   "cell_type": "markdown",
   "metadata": {},
   "source": [
    "# Stan"
   ]
  },
  {
   "cell_type": "code",
   "execution_count": 28,
   "metadata": {},
   "outputs": [
    {
     "ename": "ArgumentError",
     "evalue": "ArgumentError: Package CmdStan not found in current path:\n- Run `import Pkg; Pkg.add(\"CmdStan\")` to install the CmdStan package.\n",
     "output_type": "error",
     "traceback": [
      "ArgumentError: Package CmdStan not found in current path:\n- Run `import Pkg; Pkg.add(\"CmdStan\")` to install the CmdStan package.\n",
      "",
      "Stacktrace:",
      " [1] require(::Module, ::Symbol) at ./loading.jl:892",
      " [2] top-level scope at In[28]:1"
     ]
    }
   ],
   "source": [
    "using CmdStan, MCMCChains\n",
    "\n",
    "schools_code = \"\"\"\n",
    "data {\n",
    "  int<lower=0> J;\n",
    "  real y[J];\n",
    "  real<lower=0> sigma[J];\n",
    "}\n",
    "\n",
    "parameters {\n",
    "  real mu;\n",
    "  real<lower=0> tau;\n",
    "  real theta[J];\n",
    "}\n",
    "\n",
    "model {\n",
    "  mu ~ normal(0, 5);\n",
    "  tau ~ cauchy(0, 5);\n",
    "  theta ~ normal(mu, tau);\n",
    "  y ~ normal(theta, sigma);\n",
    "}\n",
    "\n",
    "generated quantities {\n",
    "    vector[J] log_lik;\n",
    "    vector[J] y_hat;\n",
    "    for (j in 1:J) {\n",
    "        log_lik[j] = normal_lpdf(y[j] | theta[j], sigma[j]);\n",
    "        y_hat[j] = normal_rng(theta[j], sigma[j]);\n",
    "    }\n",
    "}\n",
    "\"\"\"\n",
    "\n",
    "schools_dat = Dict(\"J\" => J, \"y\" => y, \"sigma\" => σ)\n",
    "stan_model = Stanmodel(\n",
    "    model = schools_code,\n",
    "    name = \"schools\",\n",
    "    nchains = nchains,\n",
    "    num_warmup = nwarmup,\n",
    "    num_samples = nsamples,\n",
    "    output_format = :mcmcchains,\n",
    "    random = CmdStan.Random(8675309),\n",
    ")\n",
    "_, stan_chns, _ = stan(stan_model, schools_dat, summary = false);"
   ]
  },
  {
   "cell_type": "markdown",
   "metadata": {},
   "source": [
    "# Turing"
   ]
  },
  {
   "cell_type": "code",
   "execution_count": 29,
   "metadata": {},
   "outputs": [
    {
     "name": "stderr",
     "output_type": "stream",
     "text": [
      "┌ Info: Found initial step size\n",
      "│   ϵ = 0.8\n",
      "└ @ Turing.Inference /home/kusti/.julia/packages/Turing/GMBTf/src/inference/hmc.jl:629\n",
      "\u001b[32mSampling:   0%|                                         |  ETA: 0:03:09\u001b[39m┌ Warning: The current proposal will be rejected due to numerical error(s).\n",
      "│   isfinite.((θ, r, ℓπ, ℓκ)) = (true, false, false, false)\n",
      "└ @ AdvancedHMC /home/kusti/.julia/packages/AdvancedHMC/P9wqk/src/hamiltonian.jl:47\n",
      "\u001b[32mSampling:  44%|██████████████████▎                      |  ETA: 0:00:01\u001b[39m┌ Warning: The current proposal will be rejected due to numerical error(s).\n",
      "│   isfinite.((θ, r, ℓπ, ℓκ)) = (true, false, false, false)\n",
      "└ @ AdvancedHMC /home/kusti/.julia/packages/AdvancedHMC/P9wqk/src/hamiltonian.jl:47\n",
      "\u001b[32mSampling: 100%|█████████████████████████████████████████| Time: 0:00:01\u001b[39m\n"
     ]
    },
    {
     "data": {
      "image/svg+xml": [
       "<?xml version=\"1.0\" encoding=\"utf-8\"?>\n",
       "<svg xmlns=\"http://www.w3.org/2000/svg\" xmlns:xlink=\"http://www.w3.org/1999/xlink\" width=\"500\" height=\"250\" viewBox=\"0 0 2000 1000\">\n",
       "<defs>\n",
       "  <clipPath id=\"clip910\">\n",
       "    <rect x=\"0\" y=\"0\" width=\"2000\" height=\"1000\"/>\n",
       "  </clipPath>\n",
       "</defs>\n",
       "<path clip-path=\"url(#clip910)\" d=\"\n",
       "M0 1000 L2000 1000 L2000 0 L0 0  Z\n",
       "  \" fill=\"#ffffff\" fill-rule=\"evenodd\" fill-opacity=\"1\"/>\n",
       "<defs>\n",
       "  <clipPath id=\"clip911\">\n",
       "    <rect x=\"400\" y=\"0\" width=\"1401\" height=\"1000\"/>\n",
       "  </clipPath>\n",
       "</defs>\n",
       "<path clip-path=\"url(#clip910)\" d=\"\n",
       "M186.579 849.7 L1952.76 849.7 L1952.76 108.352 L186.579 108.352  Z\n",
       "  \" fill=\"#ffffff\" fill-rule=\"evenodd\" fill-opacity=\"1\"/>\n",
       "<defs>\n",
       "  <clipPath id=\"clip912\">\n",
       "    <rect x=\"186\" y=\"108\" width=\"1767\" height=\"742\"/>\n",
       "  </clipPath>\n",
       "</defs>\n",
       "<polyline clip-path=\"url(#clip912)\" style=\"stroke:#000000; stroke-width:2; stroke-opacity:0.1; fill:none\" points=\"\n",
       "  234.6,849.7 234.6,108.352 \n",
       "  \"/>\n",
       "<polyline clip-path=\"url(#clip912)\" style=\"stroke:#000000; stroke-width:2; stroke-opacity:0.1; fill:none\" points=\"\n",
       "  480.208,849.7 480.208,108.352 \n",
       "  \"/>\n",
       "<polyline clip-path=\"url(#clip912)\" style=\"stroke:#000000; stroke-width:2; stroke-opacity:0.1; fill:none\" points=\"\n",
       "  725.816,849.7 725.816,108.352 \n",
       "  \"/>\n",
       "<polyline clip-path=\"url(#clip912)\" style=\"stroke:#000000; stroke-width:2; stroke-opacity:0.1; fill:none\" points=\"\n",
       "  971.424,849.7 971.424,108.352 \n",
       "  \"/>\n",
       "<polyline clip-path=\"url(#clip912)\" style=\"stroke:#000000; stroke-width:2; stroke-opacity:0.1; fill:none\" points=\"\n",
       "  1217.03,849.7 1217.03,108.352 \n",
       "  \"/>\n",
       "<polyline clip-path=\"url(#clip912)\" style=\"stroke:#000000; stroke-width:2; stroke-opacity:0.1; fill:none\" points=\"\n",
       "  1462.64,849.7 1462.64,108.352 \n",
       "  \"/>\n",
       "<polyline clip-path=\"url(#clip912)\" style=\"stroke:#000000; stroke-width:2; stroke-opacity:0.1; fill:none\" points=\"\n",
       "  1708.25,849.7 1708.25,108.352 \n",
       "  \"/>\n",
       "<polyline clip-path=\"url(#clip912)\" style=\"stroke:#000000; stroke-width:2; stroke-opacity:0.1; fill:none\" points=\"\n",
       "  186.579,828.718 1952.76,828.718 \n",
       "  \"/>\n",
       "<polyline clip-path=\"url(#clip912)\" style=\"stroke:#000000; stroke-width:2; stroke-opacity:0.1; fill:none\" points=\"\n",
       "  186.579,673.299 1952.76,673.299 \n",
       "  \"/>\n",
       "<polyline clip-path=\"url(#clip912)\" style=\"stroke:#000000; stroke-width:2; stroke-opacity:0.1; fill:none\" points=\"\n",
       "  186.579,517.881 1952.76,517.881 \n",
       "  \"/>\n",
       "<polyline clip-path=\"url(#clip912)\" style=\"stroke:#000000; stroke-width:2; stroke-opacity:0.1; fill:none\" points=\"\n",
       "  186.579,362.462 1952.76,362.462 \n",
       "  \"/>\n",
       "<polyline clip-path=\"url(#clip912)\" style=\"stroke:#000000; stroke-width:2; stroke-opacity:0.1; fill:none\" points=\"\n",
       "  186.579,207.043 1952.76,207.043 \n",
       "  \"/>\n",
       "<polyline clip-path=\"url(#clip910)\" style=\"stroke:#000000; stroke-width:4; stroke-opacity:1; fill:none\" points=\"\n",
       "  186.579,849.7 1952.76,849.7 \n",
       "  \"/>\n",
       "<polyline clip-path=\"url(#clip910)\" style=\"stroke:#000000; stroke-width:4; stroke-opacity:1; fill:none\" points=\"\n",
       "  186.579,849.7 186.579,108.352 \n",
       "  \"/>\n",
       "<polyline clip-path=\"url(#clip910)\" style=\"stroke:#000000; stroke-width:4; stroke-opacity:1; fill:none\" points=\"\n",
       "  234.6,849.7 234.6,840.804 \n",
       "  \"/>\n",
       "<polyline clip-path=\"url(#clip910)\" style=\"stroke:#000000; stroke-width:4; stroke-opacity:1; fill:none\" points=\"\n",
       "  480.208,849.7 480.208,840.804 \n",
       "  \"/>\n",
       "<polyline clip-path=\"url(#clip910)\" style=\"stroke:#000000; stroke-width:4; stroke-opacity:1; fill:none\" points=\"\n",
       "  725.816,849.7 725.816,840.804 \n",
       "  \"/>\n",
       "<polyline clip-path=\"url(#clip910)\" style=\"stroke:#000000; stroke-width:4; stroke-opacity:1; fill:none\" points=\"\n",
       "  971.424,849.7 971.424,840.804 \n",
       "  \"/>\n",
       "<polyline clip-path=\"url(#clip910)\" style=\"stroke:#000000; stroke-width:4; stroke-opacity:1; fill:none\" points=\"\n",
       "  1217.03,849.7 1217.03,840.804 \n",
       "  \"/>\n",
       "<polyline clip-path=\"url(#clip910)\" style=\"stroke:#000000; stroke-width:4; stroke-opacity:1; fill:none\" points=\"\n",
       "  1462.64,849.7 1462.64,840.804 \n",
       "  \"/>\n",
       "<polyline clip-path=\"url(#clip910)\" style=\"stroke:#000000; stroke-width:4; stroke-opacity:1; fill:none\" points=\"\n",
       "  1708.25,849.7 1708.25,840.804 \n",
       "  \"/>\n",
       "<polyline clip-path=\"url(#clip910)\" style=\"stroke:#000000; stroke-width:4; stroke-opacity:1; fill:none\" points=\"\n",
       "  186.579,828.718 207.773,828.718 \n",
       "  \"/>\n",
       "<polyline clip-path=\"url(#clip910)\" style=\"stroke:#000000; stroke-width:4; stroke-opacity:1; fill:none\" points=\"\n",
       "  186.579,673.299 207.773,673.299 \n",
       "  \"/>\n",
       "<polyline clip-path=\"url(#clip910)\" style=\"stroke:#000000; stroke-width:4; stroke-opacity:1; fill:none\" points=\"\n",
       "  186.579,517.881 207.773,517.881 \n",
       "  \"/>\n",
       "<polyline clip-path=\"url(#clip910)\" style=\"stroke:#000000; stroke-width:4; stroke-opacity:1; fill:none\" points=\"\n",
       "  186.579,362.462 207.773,362.462 \n",
       "  \"/>\n",
       "<polyline clip-path=\"url(#clip910)\" style=\"stroke:#000000; stroke-width:4; stroke-opacity:1; fill:none\" points=\"\n",
       "  186.579,207.043 207.773,207.043 \n",
       "  \"/>\n",
       "<path clip-path=\"url(#clip910)\" d=\"M 0 0 M203.431 869.691 Q199.82 869.691 197.992 873.255 Q196.186 876.797 196.186 883.927 Q196.186 891.033 197.992 894.598 Q199.82 898.139 203.431 898.139 Q207.066 898.139 208.871 894.598 Q210.7 891.033 210.7 883.927 Q210.7 876.797 208.871 873.255 Q207.066 869.691 203.431 869.691 M203.431 865.987 Q209.242 865.987 212.297 870.593 Q215.376 875.177 215.376 883.927 Q215.376 892.653 212.297 897.26 Q209.242 901.843 203.431 901.843 Q197.621 901.843 194.543 897.26 Q191.487 892.653 191.487 883.927 Q191.487 875.177 194.543 870.593 Q197.621 865.987 203.431 865.987 Z\" fill=\"#000000\" fill-rule=\"evenodd\" fill-opacity=\"1\" /><path clip-path=\"url(#clip910)\" d=\"M 0 0 M220.445 895.292 L225.329 895.292 L225.329 901.172 L220.445 901.172 L220.445 895.292 Z\" fill=\"#000000\" fill-rule=\"evenodd\" fill-opacity=\"1\" /><path clip-path=\"url(#clip910)\" d=\"M 0 0 M244.565 882.538 Q247.922 883.255 249.797 885.524 Q251.695 887.792 251.695 891.126 Q251.695 896.241 248.177 899.042 Q244.658 901.843 238.177 901.843 Q236.001 901.843 233.686 901.403 Q231.394 900.987 228.941 900.13 L228.941 895.616 Q230.885 896.751 233.2 897.329 Q235.515 897.908 238.038 897.908 Q242.436 897.908 244.727 896.172 Q247.042 894.436 247.042 891.126 Q247.042 888.07 244.89 886.357 Q242.76 884.621 238.94 884.621 L234.913 884.621 L234.913 880.778 L239.126 880.778 Q242.575 880.778 244.403 879.413 Q246.232 878.024 246.232 875.431 Q246.232 872.769 244.334 871.357 Q242.459 869.922 238.94 869.922 Q237.019 869.922 234.82 870.339 Q232.621 870.755 229.982 871.635 L229.982 867.468 Q232.644 866.728 234.959 866.357 Q237.297 865.987 239.357 865.987 Q244.681 865.987 247.783 868.417 Q250.885 870.825 250.885 874.945 Q250.885 877.815 249.241 879.806 Q247.598 881.774 244.565 882.538 Z\" fill=\"#000000\" fill-rule=\"evenodd\" fill-opacity=\"1\" /><path clip-path=\"url(#clip910)\" d=\"M 0 0 M256.811 866.612 L275.167 866.612 L275.167 870.547 L261.093 870.547 L261.093 879.019 Q262.112 878.672 263.13 878.51 Q264.149 878.325 265.167 878.325 Q270.954 878.325 274.334 881.496 Q277.713 884.667 277.713 890.084 Q277.713 895.663 274.241 898.764 Q270.769 901.843 264.45 901.843 Q262.274 901.843 260.005 901.473 Q257.76 901.102 255.352 900.362 L255.352 895.663 Q257.436 896.797 259.658 897.352 Q261.88 897.908 264.357 897.908 Q268.362 897.908 270.7 895.802 Q273.038 893.695 273.038 890.084 Q273.038 886.473 270.7 884.366 Q268.362 882.26 264.357 882.26 Q262.482 882.26 260.607 882.677 Q258.755 883.093 256.811 883.973 L256.811 866.612 Z\" fill=\"#000000\" fill-rule=\"evenodd\" fill-opacity=\"1\" /><path clip-path=\"url(#clip910)\" d=\"M 0 0 M447.975 869.691 Q444.364 869.691 442.535 873.255 Q440.729 876.797 440.729 883.927 Q440.729 891.033 442.535 894.598 Q444.364 898.139 447.975 898.139 Q451.609 898.139 453.414 894.598 Q455.243 891.033 455.243 883.927 Q455.243 876.797 453.414 873.255 Q451.609 869.691 447.975 869.691 M447.975 865.987 Q453.785 865.987 456.84 870.593 Q459.919 875.177 459.919 883.927 Q459.919 892.653 456.84 897.26 Q453.785 901.843 447.975 901.843 Q442.164 901.843 439.086 897.26 Q436.03 892.653 436.03 883.927 Q436.03 875.177 439.086 870.593 Q442.164 865.987 447.975 865.987 Z\" fill=\"#000000\" fill-rule=\"evenodd\" fill-opacity=\"1\" /><path clip-path=\"url(#clip910)\" d=\"M 0 0 M464.988 895.292 L469.873 895.292 L469.873 901.172 L464.988 901.172 L464.988 895.292 Z\" fill=\"#000000\" fill-rule=\"evenodd\" fill-opacity=\"1\" /><path clip-path=\"url(#clip910)\" d=\"M 0 0 M487.789 870.686 L475.984 889.135 L487.789 889.135 L487.789 870.686 M486.562 866.612 L492.442 866.612 L492.442 889.135 L497.372 889.135 L497.372 893.024 L492.442 893.024 L492.442 901.172 L487.789 901.172 L487.789 893.024 L472.187 893.024 L472.187 888.51 L486.562 866.612 Z\" fill=\"#000000\" fill-rule=\"evenodd\" fill-opacity=\"1\" /><path clip-path=\"url(#clip910)\" d=\"M 0 0 M512.442 869.691 Q508.831 869.691 507.002 873.255 Q505.197 876.797 505.197 883.927 Q505.197 891.033 507.002 894.598 Q508.831 898.139 512.442 898.139 Q516.076 898.139 517.882 894.598 Q519.71 891.033 519.71 883.927 Q519.71 876.797 517.882 873.255 Q516.076 869.691 512.442 869.691 M512.442 865.987 Q518.252 865.987 521.308 870.593 Q524.386 875.177 524.386 883.927 Q524.386 892.653 521.308 897.26 Q518.252 901.843 512.442 901.843 Q506.632 901.843 503.553 897.26 Q500.497 892.653 500.497 883.927 Q500.497 875.177 503.553 870.593 Q506.632 865.987 512.442 865.987 Z\" fill=\"#000000\" fill-rule=\"evenodd\" fill-opacity=\"1\" /><path clip-path=\"url(#clip910)\" d=\"M 0 0 M694.08 869.691 Q690.469 869.691 688.641 873.255 Q686.835 876.797 686.835 883.927 Q686.835 891.033 688.641 894.598 Q690.469 898.139 694.08 898.139 Q697.715 898.139 699.52 894.598 Q701.349 891.033 701.349 883.927 Q701.349 876.797 699.52 873.255 Q697.715 869.691 694.08 869.691 M694.08 865.987 Q699.89 865.987 702.946 870.593 Q706.025 875.177 706.025 883.927 Q706.025 892.653 702.946 897.26 Q699.89 901.843 694.08 901.843 Q688.27 901.843 685.191 897.26 Q682.136 892.653 682.136 883.927 Q682.136 875.177 685.191 870.593 Q688.27 865.987 694.08 865.987 Z\" fill=\"#000000\" fill-rule=\"evenodd\" fill-opacity=\"1\" /><path clip-path=\"url(#clip910)\" d=\"M 0 0 M711.094 895.292 L715.978 895.292 L715.978 901.172 L711.094 901.172 L711.094 895.292 Z\" fill=\"#000000\" fill-rule=\"evenodd\" fill-opacity=\"1\" /><path clip-path=\"url(#clip910)\" d=\"M 0 0 M733.895 870.686 L722.089 889.135 L733.895 889.135 L733.895 870.686 M732.668 866.612 L738.548 866.612 L738.548 889.135 L743.478 889.135 L743.478 893.024 L738.548 893.024 L738.548 901.172 L733.895 901.172 L733.895 893.024 L718.293 893.024 L718.293 888.51 L732.668 866.612 Z\" fill=\"#000000\" fill-rule=\"evenodd\" fill-opacity=\"1\" /><path clip-path=\"url(#clip910)\" d=\"M 0 0 M748.594 866.612 L766.95 866.612 L766.95 870.547 L752.876 870.547 L752.876 879.019 Q753.895 878.672 754.913 878.51 Q755.932 878.325 756.95 878.325 Q762.737 878.325 766.117 881.496 Q769.497 884.667 769.497 890.084 Q769.497 895.663 766.024 898.764 Q762.552 901.843 756.233 901.843 Q754.057 901.843 751.788 901.473 Q749.543 901.102 747.136 900.362 L747.136 895.663 Q749.219 896.797 751.441 897.352 Q753.663 897.908 756.14 897.908 Q760.145 897.908 762.483 895.802 Q764.821 893.695 764.821 890.084 Q764.821 886.473 762.483 884.366 Q760.145 882.26 756.14 882.26 Q754.265 882.26 752.39 882.677 Q750.538 883.093 748.594 883.973 L748.594 866.612 Z\" fill=\"#000000\" fill-rule=\"evenodd\" fill-opacity=\"1\" /><path clip-path=\"url(#clip910)\" d=\"M 0 0 M939.931 869.691 Q936.32 869.691 934.492 873.255 Q932.686 876.797 932.686 883.927 Q932.686 891.033 934.492 894.598 Q936.32 898.139 939.931 898.139 Q943.566 898.139 945.371 894.598 Q947.2 891.033 947.2 883.927 Q947.2 876.797 945.371 873.255 Q943.566 869.691 939.931 869.691 M939.931 865.987 Q945.741 865.987 948.797 870.593 Q951.876 875.177 951.876 883.927 Q951.876 892.653 948.797 897.26 Q945.741 901.843 939.931 901.843 Q934.121 901.843 931.043 897.26 Q927.987 892.653 927.987 883.927 Q927.987 875.177 931.043 870.593 Q934.121 865.987 939.931 865.987 Z\" fill=\"#000000\" fill-rule=\"evenodd\" fill-opacity=\"1\" /><path clip-path=\"url(#clip910)\" d=\"M 0 0 M956.945 895.292 L961.829 895.292 L961.829 901.172 L956.945 901.172 L956.945 895.292 Z\" fill=\"#000000\" fill-rule=\"evenodd\" fill-opacity=\"1\" /><path clip-path=\"url(#clip910)\" d=\"M 0 0 M966.945 866.612 L985.301 866.612 L985.301 870.547 L971.227 870.547 L971.227 879.019 Q972.246 878.672 973.264 878.51 Q974.283 878.325 975.302 878.325 Q981.089 878.325 984.468 881.496 Q987.848 884.667 987.848 890.084 Q987.848 895.663 984.376 898.764 Q980.903 901.843 974.584 901.843 Q972.408 901.843 970.14 901.473 Q967.894 901.102 965.487 900.362 L965.487 895.663 Q967.57 896.797 969.792 897.352 Q972.015 897.908 974.491 897.908 Q978.496 897.908 980.834 895.802 Q983.172 893.695 983.172 890.084 Q983.172 886.473 980.834 884.366 Q978.496 882.26 974.491 882.26 Q972.616 882.26 970.741 882.677 Q968.89 883.093 966.945 883.973 L966.945 866.612 Z\" fill=\"#000000\" fill-rule=\"evenodd\" fill-opacity=\"1\" /><path clip-path=\"url(#clip910)\" d=\"M 0 0 M1002.92 869.691 Q999.306 869.691 997.477 873.255 Q995.672 876.797 995.672 883.927 Q995.672 891.033 997.477 894.598 Q999.306 898.139 1002.92 898.139 Q1006.55 898.139 1008.36 894.598 Q1010.19 891.033 1010.19 883.927 Q1010.19 876.797 1008.36 873.255 Q1006.55 869.691 1002.92 869.691 M1002.92 865.987 Q1008.73 865.987 1011.78 870.593 Q1014.86 875.177 1014.86 883.927 Q1014.86 892.653 1011.78 897.26 Q1008.73 901.843 1002.92 901.843 Q997.107 901.843 994.028 897.26 Q990.973 892.653 990.973 883.927 Q990.973 875.177 994.028 870.593 Q997.107 865.987 1002.92 865.987 Z\" fill=\"#000000\" fill-rule=\"evenodd\" fill-opacity=\"1\" /><path clip-path=\"url(#clip910)\" d=\"M 0 0 M1186.04 869.691 Q1182.43 869.691 1180.6 873.255 Q1178.79 876.797 1178.79 883.927 Q1178.79 891.033 1180.6 894.598 Q1182.43 898.139 1186.04 898.139 Q1189.67 898.139 1191.48 894.598 Q1193.31 891.033 1193.31 883.927 Q1193.31 876.797 1191.48 873.255 Q1189.67 869.691 1186.04 869.691 M1186.04 865.987 Q1191.85 865.987 1194.9 870.593 Q1197.98 875.177 1197.98 883.927 Q1197.98 892.653 1194.9 897.26 Q1191.85 901.843 1186.04 901.843 Q1180.23 901.843 1177.15 897.26 Q1174.09 892.653 1174.09 883.927 Q1174.09 875.177 1177.15 870.593 Q1180.23 865.987 1186.04 865.987 Z\" fill=\"#000000\" fill-rule=\"evenodd\" fill-opacity=\"1\" /><path clip-path=\"url(#clip910)\" d=\"M 0 0 M1203.05 895.292 L1207.94 895.292 L1207.94 901.172 L1203.05 901.172 L1203.05 895.292 Z\" fill=\"#000000\" fill-rule=\"evenodd\" fill-opacity=\"1\" /><path clip-path=\"url(#clip910)\" d=\"M 0 0 M1213.05 866.612 L1231.41 866.612 L1231.41 870.547 L1217.33 870.547 L1217.33 879.019 Q1218.35 878.672 1219.37 878.51 Q1220.39 878.325 1221.41 878.325 Q1227.19 878.325 1230.57 881.496 Q1233.95 884.667 1233.95 890.084 Q1233.95 895.663 1230.48 898.764 Q1227.01 901.843 1220.69 901.843 Q1218.51 901.843 1216.25 901.473 Q1214 901.102 1211.59 900.362 L1211.59 895.663 Q1213.68 896.797 1215.9 897.352 Q1218.12 897.908 1220.6 897.908 Q1224.6 897.908 1226.94 895.802 Q1229.28 893.695 1229.28 890.084 Q1229.28 886.473 1226.94 884.366 Q1224.6 882.26 1220.6 882.26 Q1218.72 882.26 1216.85 882.677 Q1215 883.093 1213.05 883.973 L1213.05 866.612 Z\" fill=\"#000000\" fill-rule=\"evenodd\" fill-opacity=\"1\" /><path clip-path=\"url(#clip910)\" d=\"M 0 0 M1239.07 866.612 L1257.43 866.612 L1257.43 870.547 L1243.35 870.547 L1243.35 879.019 Q1244.37 878.672 1245.39 878.51 Q1246.41 878.325 1247.43 878.325 Q1253.21 878.325 1256.59 881.496 Q1259.97 884.667 1259.97 890.084 Q1259.97 895.663 1256.5 898.764 Q1253.03 901.843 1246.71 901.843 Q1244.53 901.843 1242.26 901.473 Q1240.02 901.102 1237.61 900.362 L1237.61 895.663 Q1239.69 896.797 1241.92 897.352 Q1244.14 897.908 1246.62 897.908 Q1250.62 897.908 1252.96 895.802 Q1255.3 893.695 1255.3 890.084 Q1255.3 886.473 1252.96 884.366 Q1250.62 882.26 1246.62 882.26 Q1244.74 882.26 1242.87 882.677 Q1241.01 883.093 1239.07 883.973 L1239.07 866.612 Z\" fill=\"#000000\" fill-rule=\"evenodd\" fill-opacity=\"1\" /><path clip-path=\"url(#clip910)\" d=\"M 0 0 M1430.57 869.691 Q1426.96 869.691 1425.13 873.255 Q1423.32 876.797 1423.32 883.927 Q1423.32 891.033 1425.13 894.598 Q1426.96 898.139 1430.57 898.139 Q1434.2 898.139 1436.01 894.598 Q1437.84 891.033 1437.84 883.927 Q1437.84 876.797 1436.01 873.255 Q1434.2 869.691 1430.57 869.691 M1430.57 865.987 Q1436.38 865.987 1439.43 870.593 Q1442.51 875.177 1442.51 883.927 Q1442.51 892.653 1439.43 897.26 Q1436.38 901.843 1430.57 901.843 Q1424.76 901.843 1421.68 897.26 Q1418.62 892.653 1418.62 883.927 Q1418.62 875.177 1421.68 870.593 Q1424.76 865.987 1430.57 865.987 Z\" fill=\"#000000\" fill-rule=\"evenodd\" fill-opacity=\"1\" /><path clip-path=\"url(#clip910)\" d=\"M 0 0 M1447.58 895.292 L1452.47 895.292 L1452.47 901.172 L1447.58 901.172 L1447.58 895.292 Z\" fill=\"#000000\" fill-rule=\"evenodd\" fill-opacity=\"1\" /><path clip-path=\"url(#clip910)\" d=\"M 0 0 M1468.11 882.028 Q1464.97 882.028 1463.11 884.181 Q1461.29 886.334 1461.29 890.084 Q1461.29 893.811 1463.11 895.987 Q1464.97 898.139 1468.11 898.139 Q1471.26 898.139 1473.09 895.987 Q1474.94 893.811 1474.94 890.084 Q1474.94 886.334 1473.09 884.181 Q1471.26 882.028 1468.11 882.028 M1477.4 867.376 L1477.4 871.635 Q1475.64 870.802 1473.83 870.362 Q1472.05 869.922 1470.29 869.922 Q1465.66 869.922 1463.21 873.047 Q1460.78 876.172 1460.43 882.491 Q1461.8 880.478 1463.86 879.413 Q1465.92 878.325 1468.39 878.325 Q1473.6 878.325 1476.61 881.496 Q1479.64 884.644 1479.64 890.084 Q1479.64 895.408 1476.49 898.626 Q1473.35 901.843 1468.11 901.843 Q1462.12 901.843 1458.95 897.26 Q1455.78 892.653 1455.78 883.927 Q1455.78 875.732 1459.67 870.871 Q1463.55 865.987 1470.11 865.987 Q1471.86 865.987 1473.65 866.334 Q1475.45 866.681 1477.4 867.376 Z\" fill=\"#000000\" fill-rule=\"evenodd\" fill-opacity=\"1\" /><path clip-path=\"url(#clip910)\" d=\"M 0 0 M1494.71 869.691 Q1491.1 869.691 1489.27 873.255 Q1487.47 876.797 1487.47 883.927 Q1487.47 891.033 1489.27 894.598 Q1491.1 898.139 1494.71 898.139 Q1498.35 898.139 1500.15 894.598 Q1501.98 891.033 1501.98 883.927 Q1501.98 876.797 1500.15 873.255 Q1498.35 869.691 1494.71 869.691 M1494.71 865.987 Q1500.52 865.987 1503.58 870.593 Q1506.66 875.177 1506.66 883.927 Q1506.66 892.653 1503.58 897.26 Q1500.52 901.843 1494.71 901.843 Q1488.9 901.843 1485.82 897.26 Q1482.77 892.653 1482.77 883.927 Q1482.77 875.177 1485.82 870.593 Q1488.9 865.987 1494.71 865.987 Z\" fill=\"#000000\" fill-rule=\"evenodd\" fill-opacity=\"1\" /><path clip-path=\"url(#clip910)\" d=\"M 0 0 M1676.67 869.691 Q1673.06 869.691 1671.23 873.255 Q1669.43 876.797 1669.43 883.927 Q1669.43 891.033 1671.23 894.598 Q1673.06 898.139 1676.67 898.139 Q1680.31 898.139 1682.11 894.598 Q1683.94 891.033 1683.94 883.927 Q1683.94 876.797 1682.11 873.255 Q1680.31 869.691 1676.67 869.691 M1676.67 865.987 Q1682.48 865.987 1685.54 870.593 Q1688.62 875.177 1688.62 883.927 Q1688.62 892.653 1685.54 897.26 Q1682.48 901.843 1676.67 901.843 Q1670.86 901.843 1667.79 897.26 Q1664.73 892.653 1664.73 883.927 Q1664.73 875.177 1667.79 870.593 Q1670.86 865.987 1676.67 865.987 Z\" fill=\"#000000\" fill-rule=\"evenodd\" fill-opacity=\"1\" /><path clip-path=\"url(#clip910)\" d=\"M 0 0 M1693.69 895.292 L1698.57 895.292 L1698.57 901.172 L1693.69 901.172 L1693.69 895.292 Z\" fill=\"#000000\" fill-rule=\"evenodd\" fill-opacity=\"1\" /><path clip-path=\"url(#clip910)\" d=\"M 0 0 M1714.22 882.028 Q1711.07 882.028 1709.22 884.181 Q1707.39 886.334 1707.39 890.084 Q1707.39 893.811 1709.22 895.987 Q1711.07 898.139 1714.22 898.139 Q1717.37 898.139 1719.2 895.987 Q1721.05 893.811 1721.05 890.084 Q1721.05 886.334 1719.2 884.181 Q1717.37 882.028 1714.22 882.028 M1723.5 867.376 L1723.5 871.635 Q1721.74 870.802 1719.94 870.362 Q1718.16 869.922 1716.4 869.922 Q1711.77 869.922 1709.31 873.047 Q1706.88 876.172 1706.54 882.491 Q1707.9 880.478 1709.96 879.413 Q1712.02 878.325 1714.5 878.325 Q1719.71 878.325 1722.72 881.496 Q1725.75 884.644 1725.75 890.084 Q1725.75 895.408 1722.6 898.626 Q1719.45 901.843 1714.22 901.843 Q1708.23 901.843 1705.05 897.26 Q1701.88 892.653 1701.88 883.927 Q1701.88 875.732 1705.77 870.871 Q1709.66 865.987 1716.21 865.987 Q1717.97 865.987 1719.75 866.334 Q1721.56 866.681 1723.5 867.376 Z\" fill=\"#000000\" fill-rule=\"evenodd\" fill-opacity=\"1\" /><path clip-path=\"url(#clip910)\" d=\"M 0 0 M1730.86 866.612 L1749.22 866.612 L1749.22 870.547 L1735.15 870.547 L1735.15 879.019 Q1736.16 878.672 1737.18 878.51 Q1738.2 878.325 1739.22 878.325 Q1745.01 878.325 1748.39 881.496 Q1751.77 884.667 1751.77 890.084 Q1751.77 895.663 1748.29 898.764 Q1744.82 901.843 1738.5 901.843 Q1736.33 901.843 1734.06 901.473 Q1731.81 901.102 1729.41 900.362 L1729.41 895.663 Q1731.49 896.797 1733.71 897.352 Q1735.93 897.908 1738.41 897.908 Q1742.41 897.908 1744.75 895.802 Q1747.09 893.695 1747.09 890.084 Q1747.09 886.473 1744.75 884.366 Q1742.41 882.26 1738.41 882.26 Q1736.54 882.26 1734.66 882.677 Q1732.81 883.093 1730.86 883.973 L1730.86 866.612 Z\" fill=\"#000000\" fill-rule=\"evenodd\" fill-opacity=\"1\" /><path clip-path=\"url(#clip910)\" d=\"M 0 0 M154.635 814.517 Q151.023 814.517 149.195 818.082 Q147.389 821.623 147.389 828.753 Q147.389 835.859 149.195 839.424 Q151.023 842.966 154.635 842.966 Q158.269 842.966 160.074 839.424 Q161.903 835.859 161.903 828.753 Q161.903 821.623 160.074 818.082 Q158.269 814.517 154.635 814.517 M154.635 810.813 Q160.445 810.813 163.5 815.42 Q166.579 820.003 166.579 828.753 Q166.579 837.48 163.5 842.086 Q160.445 846.67 154.635 846.67 Q148.824 846.67 145.746 842.086 Q142.69 837.48 142.69 828.753 Q142.69 820.003 145.746 815.42 Q148.824 810.813 154.635 810.813 Z\" fill=\"#000000\" fill-rule=\"evenodd\" fill-opacity=\"1\" /><path clip-path=\"url(#clip910)\" d=\"M 0 0 M123.246 686.644 L139.565 686.644 L139.565 690.579 L117.621 690.579 L117.621 686.644 Q120.283 683.89 124.866 679.26 Q129.473 674.607 130.653 673.265 Q132.899 670.742 133.778 669.006 Q134.681 667.246 134.681 665.556 Q134.681 662.802 132.737 661.066 Q130.815 659.33 127.713 659.33 Q125.514 659.33 123.061 660.094 Q120.63 660.857 117.852 662.408 L117.852 657.686 Q120.676 656.552 123.13 655.973 Q125.584 655.394 127.621 655.394 Q132.991 655.394 136.186 658.08 Q139.38 660.765 139.38 665.256 Q139.38 667.385 138.57 669.306 Q137.783 671.205 135.676 673.797 Q135.098 674.468 131.996 677.686 Q128.894 680.88 123.246 686.644 Z\" fill=\"#000000\" fill-rule=\"evenodd\" fill-opacity=\"1\" /><path clip-path=\"url(#clip910)\" d=\"M 0 0 M154.635 659.098 Q151.023 659.098 149.195 662.663 Q147.389 666.205 147.389 673.334 Q147.389 680.441 149.195 684.005 Q151.023 687.547 154.635 687.547 Q158.269 687.547 160.074 684.005 Q161.903 680.441 161.903 673.334 Q161.903 666.205 160.074 662.663 Q158.269 659.098 154.635 659.098 M154.635 655.394 Q160.445 655.394 163.5 660.001 Q166.579 664.584 166.579 673.334 Q166.579 682.061 163.5 686.667 Q160.445 691.251 154.635 691.251 Q148.824 691.251 145.746 686.667 Q142.69 682.061 142.69 673.334 Q142.69 664.584 145.746 660.001 Q148.824 655.394 154.635 655.394 Z\" fill=\"#000000\" fill-rule=\"evenodd\" fill-opacity=\"1\" /><path clip-path=\"url(#clip910)\" d=\"M 0 0 M129.982 504.675 L118.176 523.124 L129.982 523.124 L129.982 504.675 M128.755 500.601 L134.635 500.601 L134.635 523.124 L139.565 523.124 L139.565 527.013 L134.635 527.013 L134.635 535.161 L129.982 535.161 L129.982 527.013 L114.38 527.013 L114.38 522.499 L128.755 500.601 Z\" fill=\"#000000\" fill-rule=\"evenodd\" fill-opacity=\"1\" /><path clip-path=\"url(#clip910)\" d=\"M 0 0 M154.635 503.679 Q151.023 503.679 149.195 507.244 Q147.389 510.786 147.389 517.915 Q147.389 525.022 149.195 528.587 Q151.023 532.128 154.635 532.128 Q158.269 532.128 160.074 528.587 Q161.903 525.022 161.903 517.915 Q161.903 510.786 160.074 507.244 Q158.269 503.679 154.635 503.679 M154.635 499.976 Q160.445 499.976 163.5 504.582 Q166.579 509.165 166.579 517.915 Q166.579 526.642 163.5 531.249 Q160.445 535.832 154.635 535.832 Q148.824 535.832 145.746 531.249 Q142.69 526.642 142.69 517.915 Q142.69 509.165 145.746 504.582 Q148.824 499.976 154.635 499.976 Z\" fill=\"#000000\" fill-rule=\"evenodd\" fill-opacity=\"1\" /><path clip-path=\"url(#clip910)\" d=\"M 0 0 M128.037 360.598 Q124.889 360.598 123.038 362.751 Q121.209 364.904 121.209 368.654 Q121.209 372.381 123.038 374.557 Q124.889 376.709 128.037 376.709 Q131.186 376.709 133.014 374.557 Q134.866 372.381 134.866 368.654 Q134.866 364.904 133.014 362.751 Q131.186 360.598 128.037 360.598 M137.32 345.946 L137.32 350.205 Q135.561 349.372 133.755 348.932 Q131.973 348.492 130.213 348.492 Q125.584 348.492 123.13 351.617 Q120.7 354.742 120.352 361.061 Q121.718 359.048 123.778 357.983 Q125.838 356.895 128.315 356.895 Q133.524 356.895 136.533 360.066 Q139.565 363.214 139.565 368.654 Q139.565 373.978 136.417 377.196 Q133.269 380.413 128.037 380.413 Q122.042 380.413 118.871 375.83 Q115.7 371.223 115.7 362.497 Q115.7 354.302 119.588 349.441 Q123.477 344.557 130.028 344.557 Q131.787 344.557 133.57 344.904 Q135.375 345.251 137.32 345.946 Z\" fill=\"#000000\" fill-rule=\"evenodd\" fill-opacity=\"1\" /><path clip-path=\"url(#clip910)\" d=\"M 0 0 M154.635 348.261 Q151.023 348.261 149.195 351.825 Q147.389 355.367 147.389 362.497 Q147.389 369.603 149.195 373.168 Q151.023 376.709 154.635 376.709 Q158.269 376.709 160.074 373.168 Q161.903 369.603 161.903 362.497 Q161.903 355.367 160.074 351.825 Q158.269 348.261 154.635 348.261 M154.635 344.557 Q160.445 344.557 163.5 349.163 Q166.579 353.747 166.579 362.497 Q166.579 371.223 163.5 375.83 Q160.445 380.413 154.635 380.413 Q148.824 380.413 145.746 375.83 Q142.69 371.223 142.69 362.497 Q142.69 353.747 145.746 349.163 Q148.824 344.557 154.635 344.557 Z\" fill=\"#000000\" fill-rule=\"evenodd\" fill-opacity=\"1\" /><path clip-path=\"url(#clip910)\" d=\"M 0 0 M127.713 207.911 Q124.38 207.911 122.459 209.694 Q120.561 211.476 120.561 214.601 Q120.561 217.726 122.459 219.508 Q124.38 221.291 127.713 221.291 Q131.047 221.291 132.968 219.508 Q134.889 217.703 134.889 214.601 Q134.889 211.476 132.968 209.694 Q131.07 207.911 127.713 207.911 M123.038 205.92 Q120.028 205.18 118.338 203.119 Q116.672 201.059 116.672 198.096 Q116.672 193.953 119.612 191.545 Q122.575 189.138 127.713 189.138 Q132.875 189.138 135.815 191.545 Q138.755 193.953 138.755 198.096 Q138.755 201.059 137.065 203.119 Q135.399 205.18 132.412 205.92 Q135.792 206.707 137.667 208.999 Q139.565 211.291 139.565 214.601 Q139.565 219.624 136.487 222.309 Q133.431 224.994 127.713 224.994 Q121.996 224.994 118.917 222.309 Q115.862 219.624 115.862 214.601 Q115.862 211.291 117.76 208.999 Q119.658 206.707 123.038 205.92 M121.325 198.536 Q121.325 201.221 122.991 202.726 Q124.681 204.231 127.713 204.231 Q130.723 204.231 132.412 202.726 Q134.125 201.221 134.125 198.536 Q134.125 195.851 132.412 194.346 Q130.723 192.842 127.713 192.842 Q124.681 192.842 122.991 194.346 Q121.325 195.851 121.325 198.536 Z\" fill=\"#000000\" fill-rule=\"evenodd\" fill-opacity=\"1\" /><path clip-path=\"url(#clip910)\" d=\"M 0 0 M154.635 192.842 Q151.023 192.842 149.195 196.407 Q147.389 199.948 147.389 207.078 Q147.389 214.184 149.195 217.749 Q151.023 221.291 154.635 221.291 Q158.269 221.291 160.074 217.749 Q161.903 214.184 161.903 207.078 Q161.903 199.948 160.074 196.407 Q158.269 192.842 154.635 192.842 M154.635 189.138 Q160.445 189.138 163.5 193.745 Q166.579 198.328 166.579 207.078 Q166.579 215.805 163.5 220.411 Q160.445 224.994 154.635 224.994 Q148.824 224.994 145.746 220.411 Q142.69 215.805 142.69 207.078 Q142.69 198.328 145.746 193.745 Q148.824 189.138 154.635 189.138 Z\" fill=\"#000000\" fill-rule=\"evenodd\" fill-opacity=\"1\" /><path clip-path=\"url(#clip910)\" d=\"M 0 0 M1056.87 65.7705 L1056.87 89.8329 L1049.37 89.8329 L1049.37 27.2059 L1056.87 27.2059 L1056.87 34.0924 Q1059.22 30.0415 1062.78 28.0971 Q1066.39 26.1121 1071.37 26.1121 Q1079.63 26.1121 1084.78 32.6746 Q1089.96 39.2371 1089.96 49.9314 Q1089.96 60.6258 1084.78 67.1883 Q1079.63 73.7508 1071.37 73.7508 Q1066.39 73.7508 1062.78 71.8063 Q1059.22 69.8214 1056.87 65.7705 M1082.23 49.9314 Q1082.23 41.7081 1078.82 37.0496 Q1075.46 32.3505 1069.55 32.3505 Q1063.63 32.3505 1060.23 37.0496 Q1056.87 41.7081 1056.87 49.9314 Q1056.87 58.1548 1060.23 62.8538 Q1063.63 67.5124 1069.55 67.5124 Q1075.46 67.5124 1078.82 62.8538 Q1082.23 58.1548 1082.23 49.9314 Z\" fill=\"#000000\" fill-rule=\"evenodd\" fill-opacity=\"1\" /><path clip-path=\"url(#clip910)\" d=\"M 0 0 M906.61 932.603 L906.61 938.874 Q902.95 937.123 899.703 936.264 Q896.457 935.404 893.433 935.404 Q888.181 935.404 885.317 937.441 Q882.484 939.478 882.484 943.234 Q882.484 946.385 884.362 948.008 Q886.271 949.6 891.555 950.587 L895.438 951.382 Q902.631 952.751 906.037 956.22 Q909.474 959.658 909.474 965.45 Q909.474 972.357 904.827 975.922 Q900.212 979.487 891.269 979.487 Q887.895 979.487 884.075 978.723 Q880.288 977.959 876.214 976.463 L876.214 969.843 Q880.129 972.039 883.884 973.153 Q887.64 974.267 891.269 974.267 Q896.775 974.267 899.767 972.103 Q902.759 969.938 902.759 965.928 Q902.759 962.427 900.594 960.453 Q898.462 958.48 893.56 957.493 L889.645 956.729 Q882.452 955.297 879.237 952.242 Q876.023 949.186 876.023 943.743 Q876.023 937.441 880.447 933.813 Q884.903 930.184 892.701 930.184 Q896.043 930.184 899.512 930.789 Q902.981 931.394 906.61 932.603 Z\" fill=\"#000000\" fill-rule=\"evenodd\" fill-opacity=\"1\" /><path clip-path=\"url(#clip910)\" d=\"M 0 0 M931.818 960.644 Q924.72 960.644 921.983 962.268 Q919.246 963.891 919.246 967.806 Q919.246 970.925 921.283 972.771 Q923.352 974.585 926.885 974.585 Q931.754 974.585 934.683 971.148 Q937.643 967.678 937.643 961.949 L937.643 960.644 L931.818 960.644 M943.499 958.225 L943.499 978.564 L937.643 978.564 L937.643 973.153 Q935.637 976.4 932.646 977.959 Q929.654 979.487 925.325 979.487 Q919.851 979.487 916.604 976.431 Q913.389 973.344 913.389 968.188 Q913.389 962.172 917.4 959.117 Q921.442 956.061 929.431 956.061 L937.643 956.061 L937.643 955.488 Q937.643 951.446 934.969 949.25 Q932.327 947.022 927.521 947.022 Q924.466 947.022 921.569 947.754 Q918.673 948.486 915.999 949.95 L915.999 944.539 Q919.214 943.298 922.238 942.693 Q925.261 942.057 928.126 942.057 Q935.86 942.057 939.68 946.067 Q943.499 950.077 943.499 958.225 Z\" fill=\"#000000\" fill-rule=\"evenodd\" fill-opacity=\"1\" /><path clip-path=\"url(#clip910)\" d=\"M 0 0 M977.397 949.759 Q979.593 945.812 982.648 943.934 Q985.704 942.057 989.841 942.057 Q995.411 942.057 998.435 945.971 Q1001.46 949.855 1001.46 957.048 L1001.46 978.564 L995.571 978.564 L995.571 957.239 Q995.571 952.114 993.756 949.632 Q991.942 947.149 988.218 947.149 Q983.667 947.149 981.025 950.173 Q978.383 953.197 978.383 958.416 L978.383 978.564 L972.495 978.564 L972.495 957.239 Q972.495 952.083 970.681 949.632 Q968.866 947.149 965.079 947.149 Q960.591 947.149 957.949 950.205 Q955.308 953.228 955.308 958.416 L955.308 978.564 L949.419 978.564 L949.419 942.916 L955.308 942.916 L955.308 948.454 Q957.313 945.176 960.114 943.616 Q962.915 942.057 966.766 942.057 Q970.649 942.057 973.354 944.03 Q976.092 946.003 977.397 949.759 Z\" fill=\"#000000\" fill-rule=\"evenodd\" fill-opacity=\"1\" /><path clip-path=\"url(#clip910)\" d=\"M 0 0 M1013.27 973.217 L1013.27 992.123 L1007.38 992.123 L1007.38 942.916 L1013.27 942.916 L1013.27 948.327 Q1015.11 945.144 1017.91 943.616 Q1020.75 942.057 1024.66 942.057 Q1031.15 942.057 1035.2 947.213 Q1039.27 952.369 1039.27 960.772 Q1039.27 969.174 1035.2 974.331 Q1031.15 979.487 1024.66 979.487 Q1020.75 979.487 1017.91 977.959 Q1015.11 976.4 1013.27 973.217 M1033.19 960.772 Q1033.19 954.311 1030.52 950.65 Q1027.88 946.958 1023.23 946.958 Q1018.58 946.958 1015.91 950.65 Q1013.27 954.311 1013.27 960.772 Q1013.27 967.233 1015.91 970.925 Q1018.58 974.585 1023.23 974.585 Q1027.88 974.585 1030.52 970.925 Q1033.19 967.233 1033.19 960.772 Z\" fill=\"#000000\" fill-rule=\"evenodd\" fill-opacity=\"1\" /><path clip-path=\"url(#clip910)\" d=\"M 0 0 M1045.41 929.039 L1051.27 929.039 L1051.27 978.564 L1045.41 978.564 L1045.41 929.039 Z\" fill=\"#000000\" fill-rule=\"evenodd\" fill-opacity=\"1\" /><path clip-path=\"url(#clip910)\" d=\"M 0 0 M1087.91 959.276 L1087.91 962.14 L1060.98 962.14 Q1061.36 968.188 1064.61 971.371 Q1067.89 974.522 1073.71 974.522 Q1077.08 974.522 1080.23 973.694 Q1083.42 972.867 1086.54 971.211 L1086.54 976.75 Q1083.39 978.086 1080.08 978.787 Q1076.77 979.487 1073.36 979.487 Q1064.83 979.487 1059.83 974.522 Q1054.87 969.556 1054.87 961.09 Q1054.87 952.337 1059.58 947.213 Q1064.32 942.057 1072.34 942.057 Q1079.53 942.057 1083.7 946.703 Q1087.91 951.319 1087.91 959.276 M1082.05 957.557 Q1081.99 952.751 1079.34 949.886 Q1076.73 947.022 1072.4 947.022 Q1067.5 947.022 1064.54 949.791 Q1061.61 952.56 1061.17 957.589 L1082.05 957.557 Z\" fill=\"#000000\" fill-rule=\"evenodd\" fill-opacity=\"1\" /><path clip-path=\"url(#clip910)\" d=\"M 0 0 M1110.57 942.916 L1116.77 942.916 L1127.91 972.835 L1139.05 942.916 L1145.26 942.916 L1131.89 978.564 L1123.94 978.564 L1110.57 942.916 Z\" fill=\"#000000\" fill-rule=\"evenodd\" fill-opacity=\"1\" /><path clip-path=\"url(#clip910)\" d=\"M 0 0 M1167.6 960.644 Q1160.51 960.644 1157.77 962.268 Q1155.03 963.891 1155.03 967.806 Q1155.03 970.925 1157.07 972.771 Q1159.14 974.585 1162.67 974.585 Q1167.54 974.585 1170.47 971.148 Q1173.43 967.678 1173.43 961.949 L1173.43 960.644 L1167.6 960.644 M1179.28 958.225 L1179.28 978.564 L1173.43 978.564 L1173.43 973.153 Q1171.42 976.4 1168.43 977.959 Q1165.44 979.487 1161.11 979.487 Q1155.64 979.487 1152.39 976.431 Q1149.18 973.344 1149.18 968.188 Q1149.18 962.172 1153.19 959.117 Q1157.23 956.061 1165.22 956.061 L1173.43 956.061 L1173.43 955.488 Q1173.43 951.446 1170.75 949.25 Q1168.11 947.022 1163.31 947.022 Q1160.25 947.022 1157.36 947.754 Q1154.46 948.486 1151.79 949.95 L1151.79 944.539 Q1155 943.298 1158.02 942.693 Q1161.05 942.057 1163.91 942.057 Q1171.65 942.057 1175.47 946.067 Q1179.28 950.077 1179.28 958.225 Z\" fill=\"#000000\" fill-rule=\"evenodd\" fill-opacity=\"1\" /><path clip-path=\"url(#clip910)\" d=\"M 0 0 M1185.43 929.039 L1191.28 929.039 L1191.28 978.564 L1185.43 978.564 L1185.43 929.039 Z\" fill=\"#000000\" fill-rule=\"evenodd\" fill-opacity=\"1\" /><path clip-path=\"url(#clip910)\" d=\"M 0 0 M1196.82 964.496 L1196.82 942.916 L1202.68 942.916 L1202.68 964.273 Q1202.68 969.334 1204.65 971.88 Q1206.63 974.394 1210.57 974.394 Q1215.31 974.394 1218.05 971.371 Q1220.82 968.347 1220.82 963.127 L1220.82 942.916 L1226.68 942.916 L1226.68 978.564 L1220.82 978.564 L1220.82 973.089 Q1218.69 976.336 1215.86 977.927 Q1213.05 979.487 1209.33 979.487 Q1203.19 979.487 1200.01 975.667 Q1196.82 971.848 1196.82 964.496 M1211.56 942.057 L1211.56 942.057 Z\" fill=\"#000000\" fill-rule=\"evenodd\" fill-opacity=\"1\" /><path clip-path=\"url(#clip910)\" d=\"M 0 0 M1263.31 959.276 L1263.31 962.14 L1236.39 962.14 Q1236.77 968.188 1240.01 971.371 Q1243.29 974.522 1249.12 974.522 Q1252.49 974.522 1255.64 973.694 Q1258.82 972.867 1261.94 971.211 L1261.94 976.75 Q1258.79 978.086 1255.48 978.787 Q1252.17 979.487 1248.77 979.487 Q1240.24 979.487 1235.24 974.522 Q1230.27 969.556 1230.27 961.09 Q1230.27 952.337 1234.98 947.213 Q1239.73 942.057 1247.75 942.057 Q1254.94 942.057 1259.11 946.703 Q1263.31 951.319 1263.31 959.276 M1257.46 957.557 Q1257.39 952.751 1254.75 949.886 Q1252.14 947.022 1247.81 947.022 Q1242.91 947.022 1239.95 949.791 Q1237.02 952.56 1236.58 957.589 L1257.46 957.557 Z\" fill=\"#000000\" fill-rule=\"evenodd\" fill-opacity=\"1\" /><path clip-path=\"url(#clip910)\" d=\"M 0 0 M32.6042 627.156 L32.6042 599.847 L38.015 599.847 L38.015 620.727 L52.0196 620.727 L52.0196 601.884 L57.4304 601.884 L57.4304 620.727 L80.1242 620.727 L80.1242 627.156 L32.6042 627.156 Z\" fill=\"#000000\" fill-rule=\"evenodd\" fill-opacity=\"1\" /><path clip-path=\"url(#clip910)\" d=\"M 0 0 M49.9507 577.79 Q49.3778 578.777 49.1232 579.954 Q48.8367 581.1 48.8367 582.501 Q48.8367 587.466 52.0832 590.139 Q55.2979 592.781 61.3453 592.781 L80.1242 592.781 L80.1242 598.669 L44.4762 598.669 L44.4762 592.781 L50.0144 592.781 Q46.7679 590.935 45.2083 587.975 Q43.6168 585.015 43.6168 580.782 Q43.6168 580.177 43.7123 579.445 Q43.776 578.713 43.9351 577.822 L49.9507 577.79 Z\" fill=\"#000000\" fill-rule=\"evenodd\" fill-opacity=\"1\" /><path clip-path=\"url(#clip910)\" d=\"M 0 0 M60.8361 542.588 L63.7006 542.588 L63.7006 569.515 Q69.7481 569.133 72.9309 565.886 Q76.0819 562.608 76.0819 556.783 Q76.0819 553.409 75.2544 550.258 Q74.4269 547.075 72.7718 543.956 L78.3099 543.956 Q79.6467 547.107 80.347 550.417 Q81.0472 553.728 81.0472 557.133 Q81.0472 565.663 76.0819 570.66 Q71.1167 575.626 62.6503 575.626 Q53.8974 575.626 48.7731 570.915 Q43.6168 566.173 43.6168 558.152 Q43.6168 550.958 48.2638 546.789 Q52.8789 542.588 60.8361 542.588 M59.1173 548.444 Q54.3112 548.508 51.4466 551.149 Q48.5821 553.759 48.5821 558.088 Q48.5821 562.99 51.3512 565.95 Q54.1202 568.878 59.1492 569.324 L59.1173 548.444 Z\" fill=\"#000000\" fill-rule=\"evenodd\" fill-opacity=\"1\" /><path clip-path=\"url(#clip910)\" d=\"M 0 0 M62.332 532.944 Q68.7932 532.944 72.4853 530.302 Q76.1456 527.628 76.1456 522.981 Q76.1456 518.334 72.4853 515.661 Q68.7932 512.987 62.332 512.987 Q55.8708 512.987 52.2105 515.661 Q48.5184 518.334 48.5184 522.981 Q48.5184 527.628 52.2105 530.302 Q55.8708 532.944 62.332 532.944 M74.777 512.987 Q77.9598 514.833 79.5194 517.666 Q81.0472 520.467 81.0472 524.413 Q81.0472 530.875 75.891 534.949 Q70.7347 538.991 62.332 538.991 Q53.9293 538.991 48.7731 534.949 Q43.6168 530.875 43.6168 524.413 Q43.6168 520.467 45.1764 517.666 Q46.7042 514.833 49.8871 512.987 L44.4762 512.987 L44.4762 507.131 L93.6831 507.131 L93.6831 512.987 L74.777 512.987 Z\" fill=\"#000000\" fill-rule=\"evenodd\" fill-opacity=\"1\" /><path clip-path=\"url(#clip910)\" d=\"M 0 0 M66.0559 501.592 L44.4762 501.592 L44.4762 495.736 L65.8331 495.736 Q70.8939 495.736 73.4402 493.763 Q75.9546 491.789 75.9546 487.842 Q75.9546 483.1 72.9309 480.363 Q69.9072 477.594 64.6873 477.594 L44.4762 477.594 L44.4762 471.737 L80.1242 471.737 L80.1242 477.594 L74.6496 477.594 Q77.8962 479.726 79.4876 482.559 Q81.0472 485.36 81.0472 489.084 Q81.0472 495.227 77.2278 498.41 Q73.4083 501.592 66.0559 501.592 M43.6168 486.856 L43.6168 486.856 Z\" fill=\"#000000\" fill-rule=\"evenodd\" fill-opacity=\"1\" /><path clip-path=\"url(#clip910)\" d=\"M 0 0 M60.8361 435.103 L63.7006 435.103 L63.7006 462.03 Q69.7481 461.648 72.9309 458.401 Q76.0819 455.123 76.0819 449.298 Q76.0819 445.924 75.2544 442.773 Q74.4269 439.59 72.7718 436.471 L78.3099 436.471 Q79.6467 439.622 80.347 442.932 Q81.0472 446.243 81.0472 449.648 Q81.0472 458.178 76.0819 463.175 Q71.1167 468.141 62.6503 468.141 Q53.8974 468.141 48.7731 463.43 Q43.6168 458.688 43.6168 450.667 Q43.6168 443.474 48.2638 439.304 Q52.8789 435.103 60.8361 435.103 M59.1173 440.959 Q54.3112 441.023 51.4466 443.664 Q48.5821 446.274 48.5821 450.603 Q48.5821 455.505 51.3512 458.465 Q54.1202 461.393 59.1492 461.839 L59.1173 440.959 Z\" fill=\"#000000\" fill-rule=\"evenodd\" fill-opacity=\"1\" /><path clip-path=\"url(#clip910)\" d=\"M 0 0 M58.6081 399.327 L80.1242 399.327 L80.1242 405.184 L58.799 405.184 Q53.7383 405.184 51.2238 407.157 Q48.7094 409.131 48.7094 413.077 Q48.7094 417.82 51.7331 420.557 Q54.7568 423.294 59.9767 423.294 L80.1242 423.294 L80.1242 429.183 L44.4762 429.183 L44.4762 423.294 L50.0144 423.294 Q46.7997 421.194 45.2083 418.361 Q43.6168 415.496 43.6168 411.772 Q43.6168 405.629 47.4363 402.478 Q51.2238 399.327 58.6081 399.327 Z\" fill=\"#000000\" fill-rule=\"evenodd\" fill-opacity=\"1\" /><path clip-path=\"url(#clip910)\" d=\"M 0 0 M45.8448 367.531 L51.3193 367.531 Q49.9507 370.013 49.2823 372.528 Q48.5821 375.01 48.5821 377.557 Q48.5821 383.254 52.2105 386.405 Q55.8072 389.556 62.332 389.556 Q68.8569 389.556 72.4853 386.405 Q76.0819 383.254 76.0819 377.557 Q76.0819 375.01 75.4135 372.528 Q74.7133 370.013 73.3447 367.531 L78.7555 367.531 Q79.9014 369.981 80.4743 372.623 Q81.0472 375.233 81.0472 378.193 Q81.0472 386.246 75.9864 390.988 Q70.9257 395.731 62.332 395.731 Q53.611 395.731 48.6139 390.956 Q43.6168 386.15 43.6168 377.811 Q43.6168 375.106 44.1897 372.528 Q44.7308 369.95 45.8448 367.531 Z\" fill=\"#000000\" fill-rule=\"evenodd\" fill-opacity=\"1\" /><path clip-path=\"url(#clip910)\" d=\"M 0 0 M83.4343 346.556 Q89.8 349.038 91.7416 351.394 Q93.6831 353.749 93.6831 357.696 L93.6831 362.374 L88.7815 362.374 L88.7815 358.937 Q88.7815 356.518 87.6357 355.181 Q86.4899 353.844 82.2248 352.221 L79.5512 351.171 L44.4762 365.589 L44.4762 359.383 L72.358 348.243 L44.4762 337.103 L44.4762 330.896 L83.4343 346.556 Z\" fill=\"#000000\" fill-rule=\"evenodd\" fill-opacity=\"1\" /><path clip-path=\"url(#clip912)\" d=\"\n",
       "M283.722 789.864 L283.722 828.718 L381.965 828.718 L381.965 789.864 L283.722 789.864 L283.722 789.864  Z\n",
       "  \" fill=\"#009af9\" fill-rule=\"evenodd\" fill-opacity=\"0.7\"/>\n",
       "<polyline clip-path=\"url(#clip912)\" style=\"stroke:#000000; stroke-width:4; stroke-opacity:1; fill:none\" points=\"\n",
       "  283.722,789.864 283.722,828.718 381.965,828.718 381.965,789.864 283.722,789.864 \n",
       "  \"/>\n",
       "<path clip-path=\"url(#clip912)\" d=\"\n",
       "M381.965 797.635 L381.965 828.718 L480.208 828.718 L480.208 797.635 L381.965 797.635 L381.965 797.635  Z\n",
       "  \" fill=\"#009af9\" fill-rule=\"evenodd\" fill-opacity=\"0.7\"/>\n",
       "<polyline clip-path=\"url(#clip912)\" style=\"stroke:#000000; stroke-width:4; stroke-opacity:1; fill:none\" points=\"\n",
       "  381.965,797.635 381.965,828.718 480.208,828.718 480.208,797.635 381.965,797.635 \n",
       "  \"/>\n",
       "<path clip-path=\"url(#clip912)\" d=\"\n",
       "M480.208 758.78 L480.208 828.718 L578.451 828.718 L578.451 758.78 L480.208 758.78 L480.208 758.78  Z\n",
       "  \" fill=\"#009af9\" fill-rule=\"evenodd\" fill-opacity=\"0.7\"/>\n",
       "<polyline clip-path=\"url(#clip912)\" style=\"stroke:#000000; stroke-width:4; stroke-opacity:1; fill:none\" points=\"\n",
       "  480.208,758.78 480.208,828.718 578.451,828.718 578.451,758.78 480.208,758.78 \n",
       "  \"/>\n",
       "<path clip-path=\"url(#clip912)\" d=\"\n",
       "M578.451 735.467 L578.451 828.718 L676.695 828.718 L676.695 735.467 L578.451 735.467 L578.451 735.467  Z\n",
       "  \" fill=\"#009af9\" fill-rule=\"evenodd\" fill-opacity=\"0.7\"/>\n",
       "<polyline clip-path=\"url(#clip912)\" style=\"stroke:#000000; stroke-width:4; stroke-opacity:1; fill:none\" points=\"\n",
       "  578.451,735.467 578.451,828.718 676.695,828.718 676.695,735.467 578.451,735.467 \n",
       "  \"/>\n",
       "<path clip-path=\"url(#clip912)\" d=\"\n",
       "M676.695 642.216 L676.695 828.718 L774.938 828.718 L774.938 642.216 L676.695 642.216 L676.695 642.216  Z\n",
       "  \" fill=\"#009af9\" fill-rule=\"evenodd\" fill-opacity=\"0.7\"/>\n",
       "<polyline clip-path=\"url(#clip912)\" style=\"stroke:#000000; stroke-width:4; stroke-opacity:1; fill:none\" points=\"\n",
       "  676.695,642.216 676.695,828.718 774.938,828.718 774.938,642.216 676.695,642.216 \n",
       "  \"/>\n",
       "<path clip-path=\"url(#clip912)\" d=\"\n",
       "M774.938 533.423 L774.938 828.718 L873.181 828.718 L873.181 533.423 L774.938 533.423 L774.938 533.423  Z\n",
       "  \" fill=\"#009af9\" fill-rule=\"evenodd\" fill-opacity=\"0.7\"/>\n",
       "<polyline clip-path=\"url(#clip912)\" style=\"stroke:#000000; stroke-width:4; stroke-opacity:1; fill:none\" points=\"\n",
       "  774.938,533.423 774.938,828.718 873.181,828.718 873.181,533.423 774.938,533.423 \n",
       "  \"/>\n",
       "<path clip-path=\"url(#clip912)\" d=\"\n",
       "M873.181 129.334 L873.181 828.718 L971.424 828.718 L971.424 129.334 L873.181 129.334 L873.181 129.334  Z\n",
       "  \" fill=\"#009af9\" fill-rule=\"evenodd\" fill-opacity=\"0.7\"/>\n",
       "<polyline clip-path=\"url(#clip912)\" style=\"stroke:#000000; stroke-width:4; stroke-opacity:1; fill:none\" points=\"\n",
       "  873.181,129.334 873.181,828.718 971.424,828.718 971.424,129.334 873.181,129.334 \n",
       "  \"/>\n",
       "<path clip-path=\"url(#clip912)\" d=\"\n",
       "M971.424 269.211 L971.424 828.718 L1069.67 828.718 L1069.67 269.211 L971.424 269.211 L971.424 269.211  Z\n",
       "  \" fill=\"#009af9\" fill-rule=\"evenodd\" fill-opacity=\"0.7\"/>\n",
       "<polyline clip-path=\"url(#clip912)\" style=\"stroke:#000000; stroke-width:4; stroke-opacity:1; fill:none\" points=\"\n",
       "  971.424,269.211 971.424,828.718 1069.67,828.718 1069.67,269.211 971.424,269.211 \n",
       "  \"/>\n",
       "<path clip-path=\"url(#clip912)\" d=\"\n",
       "M1069.67 370.233 L1069.67 828.718 L1167.91 828.718 L1167.91 370.233 L1069.67 370.233 L1069.67 370.233  Z\n",
       "  \" fill=\"#009af9\" fill-rule=\"evenodd\" fill-opacity=\"0.7\"/>\n",
       "<polyline clip-path=\"url(#clip912)\" style=\"stroke:#000000; stroke-width:4; stroke-opacity:1; fill:none\" points=\"\n",
       "  1069.67,370.233 1069.67,828.718 1167.91,828.718 1167.91,370.233 1069.67,370.233 \n",
       "  \"/>\n",
       "<path clip-path=\"url(#clip912)\" d=\"\n",
       "M1167.91 238.127 L1167.91 828.718 L1266.15 828.718 L1266.15 238.127 L1167.91 238.127 L1167.91 238.127  Z\n",
       "  \" fill=\"#009af9\" fill-rule=\"evenodd\" fill-opacity=\"0.7\"/>\n",
       "<polyline clip-path=\"url(#clip912)\" style=\"stroke:#000000; stroke-width:4; stroke-opacity:1; fill:none\" points=\"\n",
       "  1167.91,238.127 1167.91,828.718 1266.15,828.718 1266.15,238.127 1167.91,238.127 \n",
       "  \"/>\n",
       "<path clip-path=\"url(#clip912)\" d=\"\n",
       "M1266.15 440.171 L1266.15 828.718 L1364.4 828.718 L1364.4 440.171 L1266.15 440.171 L1266.15 440.171  Z\n",
       "  \" fill=\"#009af9\" fill-rule=\"evenodd\" fill-opacity=\"0.7\"/>\n",
       "<polyline clip-path=\"url(#clip912)\" style=\"stroke:#000000; stroke-width:4; stroke-opacity:1; fill:none\" points=\"\n",
       "  1266.15,440.171 1266.15,828.718 1364.4,828.718 1364.4,440.171 1266.15,440.171 \n",
       "  \"/>\n",
       "<path clip-path=\"url(#clip912)\" d=\"\n",
       "M1364.4 618.903 L1364.4 828.718 L1462.64 828.718 L1462.64 618.903 L1364.4 618.903 L1364.4 618.903  Z\n",
       "  \" fill=\"#009af9\" fill-rule=\"evenodd\" fill-opacity=\"0.7\"/>\n",
       "<polyline clip-path=\"url(#clip912)\" style=\"stroke:#000000; stroke-width:4; stroke-opacity:1; fill:none\" points=\"\n",
       "  1364.4,618.903 1364.4,828.718 1462.64,828.718 1462.64,618.903 1364.4,618.903 \n",
       "  \"/>\n",
       "<path clip-path=\"url(#clip912)\" d=\"\n",
       "M1462.64 696.612 L1462.64 828.718 L1560.88 828.718 L1560.88 696.612 L1462.64 696.612 L1462.64 696.612  Z\n",
       "  \" fill=\"#009af9\" fill-rule=\"evenodd\" fill-opacity=\"0.7\"/>\n",
       "<polyline clip-path=\"url(#clip912)\" style=\"stroke:#000000; stroke-width:4; stroke-opacity:1; fill:none\" points=\"\n",
       "  1462.64,696.612 1462.64,828.718 1560.88,828.718 1560.88,696.612 1462.64,696.612 \n",
       "  \"/>\n",
       "<path clip-path=\"url(#clip912)\" d=\"\n",
       "M1560.88 758.78 L1560.88 828.718 L1659.13 828.718 L1659.13 758.78 L1560.88 758.78 L1560.88 758.78  Z\n",
       "  \" fill=\"#009af9\" fill-rule=\"evenodd\" fill-opacity=\"0.7\"/>\n",
       "<polyline clip-path=\"url(#clip912)\" style=\"stroke:#000000; stroke-width:4; stroke-opacity:1; fill:none\" points=\"\n",
       "  1560.88,758.78 1560.88,828.718 1659.13,828.718 1659.13,758.78 1560.88,758.78 \n",
       "  \"/>\n",
       "<path clip-path=\"url(#clip912)\" d=\"\n",
       "M1659.13 774.322 L1659.13 828.718 L1757.37 828.718 L1757.37 774.322 L1659.13 774.322 L1659.13 774.322  Z\n",
       "  \" fill=\"#009af9\" fill-rule=\"evenodd\" fill-opacity=\"0.7\"/>\n",
       "<polyline clip-path=\"url(#clip912)\" style=\"stroke:#000000; stroke-width:4; stroke-opacity:1; fill:none\" points=\"\n",
       "  1659.13,774.322 1659.13,828.718 1757.37,828.718 1757.37,774.322 1659.13,774.322 \n",
       "  \"/>\n",
       "<path clip-path=\"url(#clip912)\" d=\"\n",
       "M1757.37 820.947 L1757.37 828.718 L1855.61 828.718 L1855.61 820.947 L1757.37 820.947 L1757.37 820.947  Z\n",
       "  \" fill=\"#009af9\" fill-rule=\"evenodd\" fill-opacity=\"0.7\"/>\n",
       "<polyline clip-path=\"url(#clip912)\" style=\"stroke:#000000; stroke-width:4; stroke-opacity:1; fill:none\" points=\"\n",
       "  1757.37,820.947 1757.37,828.718 1855.61,828.718 1855.61,820.947 1757.37,820.947 \n",
       "  \"/>\n",
       "</svg>\n"
      ]
     },
     "execution_count": 29,
     "metadata": {},
     "output_type": "execute_result"
    }
   ],
   "source": [
    "# Import libraries.\n",
    "using Turing, StatsPlots, Random\n",
    "\n",
    "# Set the true probability of heads in a coin.\n",
    "p_true = 0.5\n",
    "\n",
    "# Iterate from having seen 0 observations to 100 observations.\n",
    "Ns = 0:100;\n",
    "\n",
    "# Draw data from a Bernoulli distribution, i.e. draw heads or tails.\n",
    "Random.seed!(12)\n",
    "data = rand(Bernoulli(p_true), last(Ns))\n",
    "\n",
    "# Declare our Turing model.\n",
    "Turing.@model coinflip(y) = begin\n",
    "    # Our prior belief about the probability of heads in a coin.\n",
    "    p ~ Beta(1, 1)\n",
    "\n",
    "    # The number of observations.\n",
    "    N = length(y)\n",
    "    for n in 1:N\n",
    "        # Heads or tails of a coin are drawn from a Bernoulli distribution.\n",
    "        y[n] ~ Bernoulli(p)\n",
    "    end\n",
    "end;\n",
    "\n",
    "# Settings of the Hamiltonian Monte Carlo (HMC) sampler.\n",
    "iterations = 1000\n",
    "ϵ = 0.05\n",
    "τ = 10\n",
    "\n",
    "# Start sampling.\n",
    "chain = sample(coinflip(data), NUTS(), iterations);\n",
    "\n",
    "# Plot a summary of the sampling process for the parameter p, i.e. the probability of heads in a coin.\n",
    "histogram(chain[:p])"
   ]
  },
  {
   "cell_type": "code",
   "execution_count": 30,
   "metadata": {},
   "outputs": [],
   "source": [
    "using ArviZ"
   ]
  },
  {
   "cell_type": "code",
   "execution_count": 31,
   "metadata": {},
   "outputs": [
    {
     "data": {
      "text/plain": [
       "Dict{String,Array} with 1 entry:\n",
       "  \"p\" => [0.513994 0.515415 … 0.581376 0.494917]"
      ]
     },
     "execution_count": 31,
     "metadata": {},
     "output_type": "execute_result"
    }
   ],
   "source": [
    "ArviZ.chains_to_dict(chain)"
   ]
  },
  {
   "cell_type": "code",
   "execution_count": 32,
   "metadata": {},
   "outputs": [
    {
     "data": {
      "text/plain": [
       "Object of type Chains, with data of type 500×13×1 Array{Float64,3}\n",
       "\n",
       "Iterations        = 1:500\n",
       "Thinning interval = 1\n",
       "Chains            = 1\n",
       "Samples per chain = 500\n",
       "internals         = acceptance_rate, hamiltonian_energy, hamiltonian_energy_error, is_accept, log_density, lp, max_hamiltonian_energy_error, n_steps, nom_step_size, numerical_error, step_size, tree_depth\n",
       "parameters        = p\n",
       "\n",
       "2-element Array{ChainDataFrame,1}\n",
       "\n",
       "Summary Statistics\n",
       "  parameters    mean     std  naive_se    mcse       ess   r_hat\n",
       "  ──────────  ──────  ──────  ────────  ──────  ────────  ──────\n",
       "           p  0.5210  0.0527    0.0024  0.0030  518.3490  1.0021\n",
       "\n",
       "Quantiles\n",
       "  parameters    2.5%   25.0%   50.0%   75.0%   97.5%\n",
       "  ──────────  ──────  ──────  ──────  ──────  ──────\n",
       "           p  0.4083  0.4891  0.5189  0.5559  0.6293\n"
      ]
     },
     "execution_count": 32,
     "metadata": {},
     "output_type": "execute_result"
    }
   ],
   "source": [
    "chain"
   ]
  },
  {
   "cell_type": "code",
   "execution_count": 42,
   "metadata": {},
   "outputs": [
    {
     "data": {
      "text/html": [
       "<table class=\"data-frame\"><thead><tr><th></th><th>hamiltonian_energy</th><th>acceptance_rate</th><th>numerical_error</th><th>lp</th></tr><tr><th></th><th>Float64</th><th>Float64</th><th>Float64</th><th>Float64</th></tr></thead><tbody><p>500 rows × 4 columns</p><tr><th>1</th><td>70.6408</td><td>1.0</td><td>0.0</td><td>-70.629</td></tr><tr><th>2</th><td>70.6304</td><td>1.0</td><td>0.0</td><td>-70.6262</td></tr><tr><th>3</th><td>71.0185</td><td>0.33609</td><td>0.0</td><td>-70.6262</td></tr><tr><th>4</th><td>71.2676</td><td>0.200155</td><td>0.0</td><td>-70.6262</td></tr><tr><th>5</th><td>70.6243</td><td>1.0</td><td>0.0</td><td>-70.6228</td></tr><tr><th>6</th><td>70.7328</td><td>0.924371</td><td>0.0</td><td>-70.719</td></tr><tr><th>7</th><td>70.6653</td><td>1.0</td><td>0.0</td><td>-70.653</td></tr><tr><th>8</th><td>71.0038</td><td>0.803984</td><td>0.0</td><td>-70.922</td></tr><tr><th>9</th><td>70.7265</td><td>1.0</td><td>0.0</td><td>-70.6777</td></tr><tr><th>10</th><td>71.1645</td><td>0.21522</td><td>0.0</td><td>-70.6777</td></tr><tr><th>11</th><td>70.6711</td><td>1.0</td><td>0.0</td><td>-70.64</td></tr><tr><th>12</th><td>73.5545</td><td>0.0006381</td><td>0.0</td><td>-70.64</td></tr><tr><th>13</th><td>71.3793</td><td>0.570194</td><td>0.0</td><td>-71.3329</td></tr><tr><th>14</th><td>71.4145</td><td>0.98582</td><td>0.0</td><td>-71.3884</td></tr><tr><th>15</th><td>70.9024</td><td>1.0</td><td>0.0</td><td>-70.7836</td></tr><tr><th>16</th><td>71.2783</td><td>0.497876</td><td>0.0</td><td>-70.7836</td></tr><tr><th>17</th><td>71.7122</td><td>0.0467822</td><td>0.0</td><td>-70.7836</td></tr><tr><th>18</th><td>71.2625</td><td>0.800283</td><td>0.0</td><td>-71.0597</td></tr><tr><th>19</th><td>71.5951</td><td>0.89304</td><td>0.0</td><td>-71.2008</td></tr><tr><th>20</th><td>71.598</td><td>0.195812</td><td>0.0</td><td>-71.2008</td></tr><tr><th>21</th><td>70.8433</td><td>1.0</td><td>0.0</td><td>-70.7575</td></tr><tr><th>22</th><td>70.9168</td><td>0.969793</td><td>0.0</td><td>-70.795</td></tr><tr><th>23</th><td>71.5816</td><td>0.268925</td><td>0.0</td><td>-70.795</td></tr><tr><th>24</th><td>72.1196</td><td>0.0166725</td><td>0.0</td><td>-70.795</td></tr><tr><th>25</th><td>71.4618</td><td>0.58471</td><td>0.0</td><td>-71.4551</td></tr><tr><th>26</th><td>70.8794</td><td>1.0</td><td>0.0</td><td>-70.6226</td></tr><tr><th>27</th><td>70.7989</td><td>0.879502</td><td>0.0</td><td>-70.7797</td></tr><tr><th>28</th><td>75.8634</td><td>2.71259e-6</td><td>0.0</td><td>-70.7797</td></tr><tr><th>29</th><td>70.7405</td><td>1.0</td><td>0.0</td><td>-70.7293</td></tr><tr><th>30</th><td>71.7239</td><td>0.148388</td><td>0.0</td><td>-70.7293</td></tr><tr><th>&vellip;</th><td>&vellip;</td><td>&vellip;</td><td>&vellip;</td><td>&vellip;</td></tr></tbody></table>"
      ],
      "text/latex": [
       "\\begin{tabular}{r|cccc}\n",
       "\t& hamiltonian\\_energy & acceptance\\_rate & numerical\\_error & lp\\\\\n",
       "\t\\hline\n",
       "\t& Float64 & Float64 & Float64 & Float64\\\\\n",
       "\t\\hline\n",
       "\t1 & 70.6408 & 1.0 & 0.0 & -70.629 \\\\\n",
       "\t2 & 70.6304 & 1.0 & 0.0 & -70.6262 \\\\\n",
       "\t3 & 71.0185 & 0.33609 & 0.0 & -70.6262 \\\\\n",
       "\t4 & 71.2676 & 0.200155 & 0.0 & -70.6262 \\\\\n",
       "\t5 & 70.6243 & 1.0 & 0.0 & -70.6228 \\\\\n",
       "\t6 & 70.7328 & 0.924371 & 0.0 & -70.719 \\\\\n",
       "\t7 & 70.6653 & 1.0 & 0.0 & -70.653 \\\\\n",
       "\t8 & 71.0038 & 0.803984 & 0.0 & -70.922 \\\\\n",
       "\t9 & 70.7265 & 1.0 & 0.0 & -70.6777 \\\\\n",
       "\t10 & 71.1645 & 0.21522 & 0.0 & -70.6777 \\\\\n",
       "\t11 & 70.6711 & 1.0 & 0.0 & -70.64 \\\\\n",
       "\t12 & 73.5545 & 0.0006381 & 0.0 & -70.64 \\\\\n",
       "\t13 & 71.3793 & 0.570194 & 0.0 & -71.3329 \\\\\n",
       "\t14 & 71.4145 & 0.98582 & 0.0 & -71.3884 \\\\\n",
       "\t15 & 70.9024 & 1.0 & 0.0 & -70.7836 \\\\\n",
       "\t16 & 71.2783 & 0.497876 & 0.0 & -70.7836 \\\\\n",
       "\t17 & 71.7122 & 0.0467822 & 0.0 & -70.7836 \\\\\n",
       "\t18 & 71.2625 & 0.800283 & 0.0 & -71.0597 \\\\\n",
       "\t19 & 71.5951 & 0.89304 & 0.0 & -71.2008 \\\\\n",
       "\t20 & 71.598 & 0.195812 & 0.0 & -71.2008 \\\\\n",
       "\t21 & 70.8433 & 1.0 & 0.0 & -70.7575 \\\\\n",
       "\t22 & 70.9168 & 0.969793 & 0.0 & -70.795 \\\\\n",
       "\t23 & 71.5816 & 0.268925 & 0.0 & -70.795 \\\\\n",
       "\t24 & 72.1196 & 0.0166725 & 0.0 & -70.795 \\\\\n",
       "\t25 & 71.4618 & 0.58471 & 0.0 & -71.4551 \\\\\n",
       "\t26 & 70.8794 & 1.0 & 0.0 & -70.6226 \\\\\n",
       "\t27 & 70.7989 & 0.879502 & 0.0 & -70.7797 \\\\\n",
       "\t28 & 75.8634 & 2.71259e-6 & 0.0 & -70.7797 \\\\\n",
       "\t29 & 70.7405 & 1.0 & 0.0 & -70.7293 \\\\\n",
       "\t30 & 71.7239 & 0.148388 & 0.0 & -70.7293 \\\\\n",
       "\t$\\dots$ & $\\dots$ & $\\dots$ & $\\dots$ & $\\dots$ \\\\\n",
       "\\end{tabular}\n"
      ],
      "text/plain": [
       "500×4 DataFrame\n",
       "│ Row │ hamiltonian_energy │ acceptance_rate │ numerical_error │ lp       │\n",
       "│     │ \u001b[90mFloat64\u001b[39m            │ \u001b[90mFloat64\u001b[39m         │ \u001b[90mFloat64\u001b[39m         │ \u001b[90mFloat64\u001b[39m  │\n",
       "├─────┼────────────────────┼─────────────────┼─────────────────┼──────────┤\n",
       "│ 1   │ 70.6408            │ 1.0             │ 0.0             │ -70.629  │\n",
       "│ 2   │ 70.6304            │ 1.0             │ 0.0             │ -70.6262 │\n",
       "│ 3   │ 71.0185            │ 0.33609         │ 0.0             │ -70.6262 │\n",
       "│ 4   │ 71.2676            │ 0.200155        │ 0.0             │ -70.6262 │\n",
       "│ 5   │ 70.6243            │ 1.0             │ 0.0             │ -70.6228 │\n",
       "│ 6   │ 70.7328            │ 0.924371        │ 0.0             │ -70.719  │\n",
       "│ 7   │ 70.6653            │ 1.0             │ 0.0             │ -70.653  │\n",
       "│ 8   │ 71.0038            │ 0.803984        │ 0.0             │ -70.922  │\n",
       "│ 9   │ 70.7265            │ 1.0             │ 0.0             │ -70.6777 │\n",
       "│ 10  │ 71.1645            │ 0.21522         │ 0.0             │ -70.6777 │\n",
       "⋮\n",
       "│ 490 │ 70.8394            │ 0.625443        │ 0.0             │ -70.7194 │\n",
       "│ 491 │ 70.7874            │ 1.0             │ 0.0             │ -70.711  │\n",
       "│ 492 │ 71.1299            │ 0.714711        │ 0.0             │ -71.1237 │\n",
       "│ 493 │ 74.6302            │ 0.133708        │ 0.0             │ -73.6991 │\n",
       "│ 494 │ 72.0504            │ 1.0             │ 0.0             │ -70.792  │\n",
       "│ 495 │ 70.7586            │ 1.0             │ 0.0             │ -70.7478 │\n",
       "│ 496 │ 74.0309            │ 0.113961        │ 0.0             │ -73.4378 │\n",
       "│ 497 │ 75.5675            │ 1.0             │ 0.0             │ -73.3342 │\n",
       "│ 498 │ 71.7835            │ 1.0             │ 0.0             │ -71.4133 │\n",
       "│ 499 │ 74.2206            │ 0.000103925     │ 0.0             │ -71.4133 │\n",
       "│ 500 │ 70.8837            │ 1.0             │ 0.0             │ -70.747  │"
      ]
     },
     "execution_count": 42,
     "metadata": {},
     "output_type": "execute_result"
    }
   ],
   "source": [
    "using DataFrames\n",
    "df = get(chain, [:hamiltonian_energy, :acceptance_rate, :lp, :numerical_error]) |> DataFrame"
   ]
  },
  {
   "cell_type": "code",
   "execution_count": 34,
   "metadata": {
    "collapsed": true
   },
   "outputs": [
    {
     "data": {
      "text/html": [
       "<table class=\"data-frame\"><thead><tr><th></th><th>variable</th><th>value</th></tr><tr><th></th><th>Cat…</th><th>Float64</th></tr></thead><tbody><p>1,000 rows × 2 columns</p><tr><th>1</th><td>hamiltonian_energy</td><td>70.6408</td></tr><tr><th>2</th><td>hamiltonian_energy</td><td>70.6304</td></tr><tr><th>3</th><td>hamiltonian_energy</td><td>71.0185</td></tr><tr><th>4</th><td>hamiltonian_energy</td><td>71.2676</td></tr><tr><th>5</th><td>hamiltonian_energy</td><td>70.6243</td></tr><tr><th>6</th><td>hamiltonian_energy</td><td>70.7328</td></tr><tr><th>7</th><td>hamiltonian_energy</td><td>70.6653</td></tr><tr><th>8</th><td>hamiltonian_energy</td><td>71.0038</td></tr><tr><th>9</th><td>hamiltonian_energy</td><td>70.7265</td></tr><tr><th>10</th><td>hamiltonian_energy</td><td>71.1645</td></tr><tr><th>11</th><td>hamiltonian_energy</td><td>70.6711</td></tr><tr><th>12</th><td>hamiltonian_energy</td><td>73.5545</td></tr><tr><th>13</th><td>hamiltonian_energy</td><td>71.3793</td></tr><tr><th>14</th><td>hamiltonian_energy</td><td>71.4145</td></tr><tr><th>15</th><td>hamiltonian_energy</td><td>70.9024</td></tr><tr><th>16</th><td>hamiltonian_energy</td><td>71.2783</td></tr><tr><th>17</th><td>hamiltonian_energy</td><td>71.7122</td></tr><tr><th>18</th><td>hamiltonian_energy</td><td>71.2625</td></tr><tr><th>19</th><td>hamiltonian_energy</td><td>71.5951</td></tr><tr><th>20</th><td>hamiltonian_energy</td><td>71.598</td></tr><tr><th>21</th><td>hamiltonian_energy</td><td>70.8433</td></tr><tr><th>22</th><td>hamiltonian_energy</td><td>70.9168</td></tr><tr><th>23</th><td>hamiltonian_energy</td><td>71.5816</td></tr><tr><th>24</th><td>hamiltonian_energy</td><td>72.1196</td></tr><tr><th>25</th><td>hamiltonian_energy</td><td>71.4618</td></tr><tr><th>26</th><td>hamiltonian_energy</td><td>70.8794</td></tr><tr><th>27</th><td>hamiltonian_energy</td><td>70.7989</td></tr><tr><th>28</th><td>hamiltonian_energy</td><td>75.8634</td></tr><tr><th>29</th><td>hamiltonian_energy</td><td>70.7405</td></tr><tr><th>30</th><td>hamiltonian_energy</td><td>71.7239</td></tr><tr><th>&vellip;</th><td>&vellip;</td><td>&vellip;</td></tr></tbody></table>"
      ],
      "text/latex": [
       "\\begin{tabular}{r|cc}\n",
       "\t& variable & value\\\\\n",
       "\t\\hline\n",
       "\t& Cat… & Float64\\\\\n",
       "\t\\hline\n",
       "\t1 & hamiltonian\\_energy & 70.6408 \\\\\n",
       "\t2 & hamiltonian\\_energy & 70.6304 \\\\\n",
       "\t3 & hamiltonian\\_energy & 71.0185 \\\\\n",
       "\t4 & hamiltonian\\_energy & 71.2676 \\\\\n",
       "\t5 & hamiltonian\\_energy & 70.6243 \\\\\n",
       "\t6 & hamiltonian\\_energy & 70.7328 \\\\\n",
       "\t7 & hamiltonian\\_energy & 70.6653 \\\\\n",
       "\t8 & hamiltonian\\_energy & 71.0038 \\\\\n",
       "\t9 & hamiltonian\\_energy & 70.7265 \\\\\n",
       "\t10 & hamiltonian\\_energy & 71.1645 \\\\\n",
       "\t11 & hamiltonian\\_energy & 70.6711 \\\\\n",
       "\t12 & hamiltonian\\_energy & 73.5545 \\\\\n",
       "\t13 & hamiltonian\\_energy & 71.3793 \\\\\n",
       "\t14 & hamiltonian\\_energy & 71.4145 \\\\\n",
       "\t15 & hamiltonian\\_energy & 70.9024 \\\\\n",
       "\t16 & hamiltonian\\_energy & 71.2783 \\\\\n",
       "\t17 & hamiltonian\\_energy & 71.7122 \\\\\n",
       "\t18 & hamiltonian\\_energy & 71.2625 \\\\\n",
       "\t19 & hamiltonian\\_energy & 71.5951 \\\\\n",
       "\t20 & hamiltonian\\_energy & 71.598 \\\\\n",
       "\t21 & hamiltonian\\_energy & 70.8433 \\\\\n",
       "\t22 & hamiltonian\\_energy & 70.9168 \\\\\n",
       "\t23 & hamiltonian\\_energy & 71.5816 \\\\\n",
       "\t24 & hamiltonian\\_energy & 72.1196 \\\\\n",
       "\t25 & hamiltonian\\_energy & 71.4618 \\\\\n",
       "\t26 & hamiltonian\\_energy & 70.8794 \\\\\n",
       "\t27 & hamiltonian\\_energy & 70.7989 \\\\\n",
       "\t28 & hamiltonian\\_energy & 75.8634 \\\\\n",
       "\t29 & hamiltonian\\_energy & 70.7405 \\\\\n",
       "\t30 & hamiltonian\\_energy & 71.7239 \\\\\n",
       "\t$\\dots$ & $\\dots$ & $\\dots$ \\\\\n",
       "\\end{tabular}\n"
      ],
      "text/plain": [
       "1000×2 DataFrame\n",
       "│ Row  │ variable           │ value       │\n",
       "│      │ \u001b[90mCategoricalValue…\u001b[39m  │ \u001b[90mFloat64\u001b[39m     │\n",
       "├──────┼────────────────────┼─────────────┤\n",
       "│ 1    │ hamiltonian_energy │ 70.6408     │\n",
       "│ 2    │ hamiltonian_energy │ 70.6304     │\n",
       "│ 3    │ hamiltonian_energy │ 71.0185     │\n",
       "│ 4    │ hamiltonian_energy │ 71.2676     │\n",
       "│ 5    │ hamiltonian_energy │ 70.6243     │\n",
       "│ 6    │ hamiltonian_energy │ 70.7328     │\n",
       "│ 7    │ hamiltonian_energy │ 70.6653     │\n",
       "│ 8    │ hamiltonian_energy │ 71.0038     │\n",
       "│ 9    │ hamiltonian_energy │ 70.7265     │\n",
       "│ 10   │ hamiltonian_energy │ 71.1645     │\n",
       "⋮\n",
       "│ 990  │ acceptance_rate    │ 0.625443    │\n",
       "│ 991  │ acceptance_rate    │ 1.0         │\n",
       "│ 992  │ acceptance_rate    │ 0.714711    │\n",
       "│ 993  │ acceptance_rate    │ 0.133708    │\n",
       "│ 994  │ acceptance_rate    │ 1.0         │\n",
       "│ 995  │ acceptance_rate    │ 1.0         │\n",
       "│ 996  │ acceptance_rate    │ 0.113961    │\n",
       "│ 997  │ acceptance_rate    │ 1.0         │\n",
       "│ 998  │ acceptance_rate    │ 1.0         │\n",
       "│ 999  │ acceptance_rate    │ 0.000103925 │\n",
       "│ 1000 │ acceptance_rate    │ 1.0         │"
      ]
     },
     "execution_count": 34,
     "metadata": {},
     "output_type": "execute_result"
    }
   ],
   "source": [
    "stack(df)"
   ]
  }
 ],
 "metadata": {
  "kernelspec": {
   "display_name": "Julia 1.4.0",
   "language": "julia",
   "name": "julia-1.4"
  },
  "language_info": {
   "file_extension": ".jl",
   "mimetype": "application/julia",
   "name": "julia",
   "version": "1.4.0"
  }
 },
 "nbformat": 4,
 "nbformat_minor": 4
}
